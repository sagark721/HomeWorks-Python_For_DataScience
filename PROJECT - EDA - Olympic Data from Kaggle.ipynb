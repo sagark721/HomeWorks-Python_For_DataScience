{
 "cells": [
  {
   "cell_type": "code",
   "execution_count": 1,
   "id": "a3cea227",
   "metadata": {},
   "outputs": [
    {
     "name": "stdout",
     "output_type": "stream",
     "text": [
      "!! Jai Ganesh !!\n"
     ]
    }
   ],
   "source": [
    "print(\"!! Jai Ganesh !!\")"
   ]
  },
  {
   "cell_type": "markdown",
   "id": "2c95ca2c",
   "metadata": {},
   "source": [
    "## Olympic Data "
   ]
  },
  {
   "cell_type": "code",
   "execution_count": 2,
   "id": "8a662e06",
   "metadata": {},
   "outputs": [],
   "source": [
    "import pandas as pd\n",
    "import numpy as np\n",
    "import matplotlib.pyplot as plt\n",
    "import seaborn as sns"
   ]
  },
  {
   "cell_type": "code",
   "execution_count": 3,
   "id": "10844a4c",
   "metadata": {},
   "outputs": [
    {
     "name": "stdout",
     "output_type": "stream",
     "text": [
      " Volume in drive C has no label.\n",
      " Volume Serial Number is 1C0B-77D4\n",
      "\n",
      " Directory of C:\\Users\\pkana\\Data Science Individual Projects\\Olympic Data\n",
      "\n",
      "26-05-2022  09:04 PM    <DIR>          .\n",
      "26-05-2022  10:47 AM    <DIR>          ..\n",
      "26-05-2022  10:47 AM    <DIR>          .ipynb_checkpoints\n",
      "26-05-2022  06:31 PM            49,563 gold performance.png\n",
      "26-05-2022  10:46 AM        19,938,021 olympic_athletes.csv\n",
      "26-05-2022  10:46 AM             4,979 olympic_hosts.csv\n",
      "26-05-2022  10:46 AM         3,109,759 olympic_medals.csv\n",
      "26-05-2022  10:46 AM        24,040,311 olympic_results.csv\n",
      "26-05-2022  10:46 AM        25,443,070 olympic_results.pkl\n",
      "26-05-2022  09:04 PM           462,089 Untitled.ipynb\n",
      "               7 File(s)     73,047,792 bytes\n",
      "               3 Dir(s)  370,201,661,440 bytes free\n"
     ]
    }
   ],
   "source": [
    "ls"
   ]
  },
  {
   "cell_type": "code",
   "execution_count": 4,
   "id": "1ad595ba",
   "metadata": {},
   "outputs": [],
   "source": [
    "athletes=pd.read_csv(\"olympic_athletes.csv\")\n",
    "hosts=pd.read_csv(\"olympic_hosts.csv\")\n",
    "medals=pd.read_csv(\"olympic_medals.csv\")\n",
    "results=pd.read_csv(\"olympic_results.csv\")"
   ]
  },
  {
   "cell_type": "code",
   "execution_count": 5,
   "id": "21666761",
   "metadata": {},
   "outputs": [],
   "source": [
    "pd.set_option('display.max_columns', None)"
   ]
  },
  {
   "cell_type": "markdown",
   "id": "c88db8bd",
   "metadata": {},
   "source": [
    "### Athletes"
   ]
  },
  {
   "cell_type": "code",
   "execution_count": 6,
   "id": "da0bc15b",
   "metadata": {
    "scrolled": true
   },
   "outputs": [
    {
     "data": {
      "text/html": [
       "<div>\n",
       "<style scoped>\n",
       "    .dataframe tbody tr th:only-of-type {\n",
       "        vertical-align: middle;\n",
       "    }\n",
       "\n",
       "    .dataframe tbody tr th {\n",
       "        vertical-align: top;\n",
       "    }\n",
       "\n",
       "    .dataframe thead th {\n",
       "        text-align: right;\n",
       "    }\n",
       "</style>\n",
       "<table border=\"1\" class=\"dataframe\">\n",
       "  <thead>\n",
       "    <tr style=\"text-align: right;\">\n",
       "      <th></th>\n",
       "      <th>athlete_url</th>\n",
       "      <th>athlete_full_name</th>\n",
       "      <th>games_participations</th>\n",
       "      <th>first_game</th>\n",
       "      <th>athlete_year_birth</th>\n",
       "      <th>athlete_medals</th>\n",
       "      <th>bio</th>\n",
       "    </tr>\n",
       "  </thead>\n",
       "  <tbody>\n",
       "    <tr>\n",
       "      <th>0</th>\n",
       "      <td>https://olympics.com/en/athletes/cooper-woods-...</td>\n",
       "      <td>Cooper WOODS-TOPALOVIC</td>\n",
       "      <td>1</td>\n",
       "      <td>Beijing 2022</td>\n",
       "      <td>2000.0</td>\n",
       "      <td>NaN</td>\n",
       "      <td>NaN</td>\n",
       "    </tr>\n",
       "    <tr>\n",
       "      <th>1</th>\n",
       "      <td>https://olympics.com/en/athletes/elofsson</td>\n",
       "      <td>Felix ELOFSSON</td>\n",
       "      <td>2</td>\n",
       "      <td>PyeongChang 2018</td>\n",
       "      <td>1995.0</td>\n",
       "      <td>NaN</td>\n",
       "      <td>NaN</td>\n",
       "    </tr>\n",
       "    <tr>\n",
       "      <th>2</th>\n",
       "      <td>https://olympics.com/en/athletes/dylan-walczyk</td>\n",
       "      <td>Dylan WALCZYK</td>\n",
       "      <td>1</td>\n",
       "      <td>Beijing 2022</td>\n",
       "      <td>1993.0</td>\n",
       "      <td>NaN</td>\n",
       "      <td>NaN</td>\n",
       "    </tr>\n",
       "    <tr>\n",
       "      <th>3</th>\n",
       "      <td>https://olympics.com/en/athletes/olli-penttala</td>\n",
       "      <td>Olli PENTTALA</td>\n",
       "      <td>1</td>\n",
       "      <td>Beijing 2022</td>\n",
       "      <td>1995.0</td>\n",
       "      <td>NaN</td>\n",
       "      <td>NaN</td>\n",
       "    </tr>\n",
       "    <tr>\n",
       "      <th>4</th>\n",
       "      <td>https://olympics.com/en/athletes/reikherd</td>\n",
       "      <td>Dmitriy REIKHERD</td>\n",
       "      <td>1</td>\n",
       "      <td>Beijing 2022</td>\n",
       "      <td>1989.0</td>\n",
       "      <td>NaN</td>\n",
       "      <td>NaN</td>\n",
       "    </tr>\n",
       "  </tbody>\n",
       "</table>\n",
       "</div>"
      ],
      "text/plain": [
       "                                         athlete_url       athlete_full_name  \\\n",
       "0  https://olympics.com/en/athletes/cooper-woods-...  Cooper WOODS-TOPALOVIC   \n",
       "1          https://olympics.com/en/athletes/elofsson          Felix ELOFSSON   \n",
       "2     https://olympics.com/en/athletes/dylan-walczyk           Dylan WALCZYK   \n",
       "3     https://olympics.com/en/athletes/olli-penttala           Olli PENTTALA   \n",
       "4          https://olympics.com/en/athletes/reikherd        Dmitriy REIKHERD   \n",
       "\n",
       "   games_participations        first_game  athlete_year_birth athlete_medals  \\\n",
       "0                     1      Beijing 2022              2000.0            NaN   \n",
       "1                     2  PyeongChang 2018              1995.0            NaN   \n",
       "2                     1      Beijing 2022              1993.0            NaN   \n",
       "3                     1      Beijing 2022              1995.0            NaN   \n",
       "4                     1      Beijing 2022              1989.0            NaN   \n",
       "\n",
       "   bio  \n",
       "0  NaN  \n",
       "1  NaN  \n",
       "2  NaN  \n",
       "3  NaN  \n",
       "4  NaN  "
      ]
     },
     "execution_count": 6,
     "metadata": {},
     "output_type": "execute_result"
    }
   ],
   "source": [
    "athletes.head()"
   ]
  },
  {
   "cell_type": "code",
   "execution_count": 7,
   "id": "18f7bad7",
   "metadata": {},
   "outputs": [
    {
     "name": "stdout",
     "output_type": "stream",
     "text": [
      "<class 'pandas.core.frame.DataFrame'>\n",
      "RangeIndex: 75904 entries, 0 to 75903\n",
      "Data columns (total 7 columns):\n",
      " #   Column                Non-Null Count  Dtype  \n",
      "---  ------                --------------  -----  \n",
      " 0   athlete_url           75904 non-null  object \n",
      " 1   athlete_full_name     75904 non-null  object \n",
      " 2   games_participations  75904 non-null  int64  \n",
      " 3   first_game            75882 non-null  object \n",
      " 4   athlete_year_birth    73448 non-null  float64\n",
      " 5   athlete_medals        15352 non-null  object \n",
      " 6   bio                   22842 non-null  object \n",
      "dtypes: float64(1), int64(1), object(5)\n",
      "memory usage: 4.1+ MB\n"
     ]
    }
   ],
   "source": [
    "athletes.info()"
   ]
  },
  {
   "cell_type": "code",
   "execution_count": 8,
   "id": "c2999729",
   "metadata": {
    "scrolled": true
   },
   "outputs": [
    {
     "data": {
      "text/html": [
       "<div>\n",
       "<style scoped>\n",
       "    .dataframe tbody tr th:only-of-type {\n",
       "        vertical-align: middle;\n",
       "    }\n",
       "\n",
       "    .dataframe tbody tr th {\n",
       "        vertical-align: top;\n",
       "    }\n",
       "\n",
       "    .dataframe thead th {\n",
       "        text-align: right;\n",
       "    }\n",
       "</style>\n",
       "<table border=\"1\" class=\"dataframe\">\n",
       "  <thead>\n",
       "    <tr style=\"text-align: right;\">\n",
       "      <th></th>\n",
       "      <th>games_participations</th>\n",
       "      <th>athlete_year_birth</th>\n",
       "    </tr>\n",
       "  </thead>\n",
       "  <tbody>\n",
       "    <tr>\n",
       "      <th>count</th>\n",
       "      <td>75904.000000</td>\n",
       "      <td>73448.000000</td>\n",
       "    </tr>\n",
       "    <tr>\n",
       "      <th>mean</th>\n",
       "      <td>1.535874</td>\n",
       "      <td>1961.619377</td>\n",
       "    </tr>\n",
       "    <tr>\n",
       "      <th>std</th>\n",
       "      <td>0.854563</td>\n",
       "      <td>28.129576</td>\n",
       "    </tr>\n",
       "    <tr>\n",
       "      <th>min</th>\n",
       "      <td>0.000000</td>\n",
       "      <td>1836.000000</td>\n",
       "    </tr>\n",
       "    <tr>\n",
       "      <th>25%</th>\n",
       "      <td>1.000000</td>\n",
       "      <td>1946.000000</td>\n",
       "    </tr>\n",
       "    <tr>\n",
       "      <th>50%</th>\n",
       "      <td>1.000000</td>\n",
       "      <td>1968.000000</td>\n",
       "    </tr>\n",
       "    <tr>\n",
       "      <th>75%</th>\n",
       "      <td>2.000000</td>\n",
       "      <td>1983.000000</td>\n",
       "    </tr>\n",
       "    <tr>\n",
       "      <th>max</th>\n",
       "      <td>10.000000</td>\n",
       "      <td>2009.000000</td>\n",
       "    </tr>\n",
       "  </tbody>\n",
       "</table>\n",
       "</div>"
      ],
      "text/plain": [
       "       games_participations  athlete_year_birth\n",
       "count          75904.000000        73448.000000\n",
       "mean               1.535874         1961.619377\n",
       "std                0.854563           28.129576\n",
       "min                0.000000         1836.000000\n",
       "25%                1.000000         1946.000000\n",
       "50%                1.000000         1968.000000\n",
       "75%                2.000000         1983.000000\n",
       "max               10.000000         2009.000000"
      ]
     },
     "execution_count": 8,
     "metadata": {},
     "output_type": "execute_result"
    }
   ],
   "source": [
    "athletes.describe()"
   ]
  },
  {
   "cell_type": "code",
   "execution_count": 9,
   "id": "a697ed69",
   "metadata": {},
   "outputs": [],
   "source": [
    "athletes=pd.read_csv(\"olympic_athletes.csv\")"
   ]
  },
  {
   "cell_type": "code",
   "execution_count": 10,
   "id": "6fceb519",
   "metadata": {},
   "outputs": [],
   "source": [
    "athletes=athletes.drop('athlete_url',axis=1)"
   ]
  },
  {
   "cell_type": "code",
   "execution_count": 11,
   "id": "a1379510",
   "metadata": {},
   "outputs": [],
   "source": [
    "athletes=athletes.drop('bio',axis=1)"
   ]
  },
  {
   "cell_type": "code",
   "execution_count": 12,
   "id": "07b6754e",
   "metadata": {
    "scrolled": true
   },
   "outputs": [
    {
     "data": {
      "text/html": [
       "<div>\n",
       "<style scoped>\n",
       "    .dataframe tbody tr th:only-of-type {\n",
       "        vertical-align: middle;\n",
       "    }\n",
       "\n",
       "    .dataframe tbody tr th {\n",
       "        vertical-align: top;\n",
       "    }\n",
       "\n",
       "    .dataframe thead th {\n",
       "        text-align: right;\n",
       "    }\n",
       "</style>\n",
       "<table border=\"1\" class=\"dataframe\">\n",
       "  <thead>\n",
       "    <tr style=\"text-align: right;\">\n",
       "      <th></th>\n",
       "      <th>athlete_full_name</th>\n",
       "      <th>games_participations</th>\n",
       "      <th>first_game</th>\n",
       "      <th>athlete_year_birth</th>\n",
       "      <th>athlete_medals</th>\n",
       "    </tr>\n",
       "  </thead>\n",
       "  <tbody>\n",
       "    <tr>\n",
       "      <th>0</th>\n",
       "      <td>Cooper WOODS-TOPALOVIC</td>\n",
       "      <td>1</td>\n",
       "      <td>Beijing 2022</td>\n",
       "      <td>2000.0</td>\n",
       "      <td>NaN</td>\n",
       "    </tr>\n",
       "    <tr>\n",
       "      <th>1</th>\n",
       "      <td>Felix ELOFSSON</td>\n",
       "      <td>2</td>\n",
       "      <td>PyeongChang 2018</td>\n",
       "      <td>1995.0</td>\n",
       "      <td>NaN</td>\n",
       "    </tr>\n",
       "    <tr>\n",
       "      <th>2</th>\n",
       "      <td>Dylan WALCZYK</td>\n",
       "      <td>1</td>\n",
       "      <td>Beijing 2022</td>\n",
       "      <td>1993.0</td>\n",
       "      <td>NaN</td>\n",
       "    </tr>\n",
       "    <tr>\n",
       "      <th>3</th>\n",
       "      <td>Olli PENTTALA</td>\n",
       "      <td>1</td>\n",
       "      <td>Beijing 2022</td>\n",
       "      <td>1995.0</td>\n",
       "      <td>NaN</td>\n",
       "    </tr>\n",
       "    <tr>\n",
       "      <th>4</th>\n",
       "      <td>Dmitriy REIKHERD</td>\n",
       "      <td>1</td>\n",
       "      <td>Beijing 2022</td>\n",
       "      <td>1989.0</td>\n",
       "      <td>NaN</td>\n",
       "    </tr>\n",
       "  </tbody>\n",
       "</table>\n",
       "</div>"
      ],
      "text/plain": [
       "        athlete_full_name  games_participations        first_game  \\\n",
       "0  Cooper WOODS-TOPALOVIC                     1      Beijing 2022   \n",
       "1          Felix ELOFSSON                     2  PyeongChang 2018   \n",
       "2           Dylan WALCZYK                     1      Beijing 2022   \n",
       "3           Olli PENTTALA                     1      Beijing 2022   \n",
       "4        Dmitriy REIKHERD                     1      Beijing 2022   \n",
       "\n",
       "   athlete_year_birth athlete_medals  \n",
       "0              2000.0            NaN  \n",
       "1              1995.0            NaN  \n",
       "2              1993.0            NaN  \n",
       "3              1995.0            NaN  \n",
       "4              1989.0            NaN  "
      ]
     },
     "execution_count": 12,
     "metadata": {},
     "output_type": "execute_result"
    }
   ],
   "source": [
    "athletes.head()"
   ]
  },
  {
   "cell_type": "code",
   "execution_count": 13,
   "id": "1f2e0519",
   "metadata": {},
   "outputs": [
    {
     "data": {
      "text/plain": [
       "20.225548060708263"
      ]
     },
     "execution_count": 13,
     "metadata": {},
     "output_type": "execute_result"
    }
   ],
   "source": [
    "(athletes['athlete_medals'].count()/len(athletes))*100"
   ]
  },
  {
   "cell_type": "code",
   "execution_count": 14,
   "id": "98d18a91",
   "metadata": {},
   "outputs": [],
   "source": [
    "#around 80% data of 'athlete_medals' is missing, lets drop the column\n",
    "athletes=athletes.drop('athlete_medals',axis=1)"
   ]
  },
  {
   "cell_type": "markdown",
   "id": "cbc49781",
   "metadata": {},
   "source": [
    "Lets check age of athlete at time of first game"
   ]
  },
  {
   "cell_type": "code",
   "execution_count": 15,
   "id": "f2c000d0",
   "metadata": {},
   "outputs": [
    {
     "name": "stdout",
     "output_type": "stream",
     "text": [
      "<class 'pandas.core.frame.DataFrame'>\n",
      "RangeIndex: 75904 entries, 0 to 75903\n",
      "Data columns (total 4 columns):\n",
      " #   Column                Non-Null Count  Dtype  \n",
      "---  ------                --------------  -----  \n",
      " 0   athlete_full_name     75904 non-null  object \n",
      " 1   games_participations  75904 non-null  int64  \n",
      " 2   first_game            75882 non-null  object \n",
      " 3   athlete_year_birth    73448 non-null  float64\n",
      "dtypes: float64(1), int64(1), object(2)\n",
      "memory usage: 2.3+ MB\n"
     ]
    }
   ],
   "source": [
    "athletes.info()"
   ]
  },
  {
   "cell_type": "code",
   "execution_count": 16,
   "id": "31246159",
   "metadata": {},
   "outputs": [],
   "source": [
    "athletes=athletes.dropna(axis=0)"
   ]
  },
  {
   "cell_type": "code",
   "execution_count": 17,
   "id": "8212ccaf",
   "metadata": {},
   "outputs": [
    {
     "data": {
      "text/plain": [
       "athlete_full_name       0\n",
       "games_participations    0\n",
       "first_game              0\n",
       "athlete_year_birth      0\n",
       "dtype: int64"
      ]
     },
     "execution_count": 17,
     "metadata": {},
     "output_type": "execute_result"
    }
   ],
   "source": [
    "athletes.isnull().sum()"
   ]
  },
  {
   "cell_type": "code",
   "execution_count": 18,
   "id": "88ac2351",
   "metadata": {},
   "outputs": [
    {
     "data": {
      "text/html": [
       "<div>\n",
       "<style scoped>\n",
       "    .dataframe tbody tr th:only-of-type {\n",
       "        vertical-align: middle;\n",
       "    }\n",
       "\n",
       "    .dataframe tbody tr th {\n",
       "        vertical-align: top;\n",
       "    }\n",
       "\n",
       "    .dataframe thead th {\n",
       "        text-align: right;\n",
       "    }\n",
       "</style>\n",
       "<table border=\"1\" class=\"dataframe\">\n",
       "  <thead>\n",
       "    <tr style=\"text-align: right;\">\n",
       "      <th></th>\n",
       "      <th>athlete_full_name</th>\n",
       "      <th>games_participations</th>\n",
       "      <th>first_game</th>\n",
       "      <th>athlete_year_birth</th>\n",
       "    </tr>\n",
       "  </thead>\n",
       "  <tbody>\n",
       "    <tr>\n",
       "      <th>0</th>\n",
       "      <td>Cooper WOODS-TOPALOVIC</td>\n",
       "      <td>1</td>\n",
       "      <td>Beijing 2022</td>\n",
       "      <td>2000.0</td>\n",
       "    </tr>\n",
       "    <tr>\n",
       "      <th>1</th>\n",
       "      <td>Felix ELOFSSON</td>\n",
       "      <td>2</td>\n",
       "      <td>PyeongChang 2018</td>\n",
       "      <td>1995.0</td>\n",
       "    </tr>\n",
       "    <tr>\n",
       "      <th>2</th>\n",
       "      <td>Dylan WALCZYK</td>\n",
       "      <td>1</td>\n",
       "      <td>Beijing 2022</td>\n",
       "      <td>1993.0</td>\n",
       "    </tr>\n",
       "    <tr>\n",
       "      <th>3</th>\n",
       "      <td>Olli PENTTALA</td>\n",
       "      <td>1</td>\n",
       "      <td>Beijing 2022</td>\n",
       "      <td>1995.0</td>\n",
       "    </tr>\n",
       "    <tr>\n",
       "      <th>4</th>\n",
       "      <td>Dmitriy REIKHERD</td>\n",
       "      <td>1</td>\n",
       "      <td>Beijing 2022</td>\n",
       "      <td>1989.0</td>\n",
       "    </tr>\n",
       "    <tr>\n",
       "      <th>...</th>\n",
       "      <td>...</td>\n",
       "      <td>...</td>\n",
       "      <td>...</td>\n",
       "      <td>...</td>\n",
       "    </tr>\n",
       "    <tr>\n",
       "      <th>75899</th>\n",
       "      <td>Douglas WEIGLE</td>\n",
       "      <td>1</td>\n",
       "      <td>Innsbruck 1976</td>\n",
       "      <td>1955.0</td>\n",
       "    </tr>\n",
       "    <tr>\n",
       "      <th>75900</th>\n",
       "      <td>Stefania BERTELE</td>\n",
       "      <td>1</td>\n",
       "      <td>Innsbruck 1976</td>\n",
       "      <td>1957.0</td>\n",
       "    </tr>\n",
       "    <tr>\n",
       "      <th>75901</th>\n",
       "      <td>Walter CECCONI</td>\n",
       "      <td>1</td>\n",
       "      <td>Innsbruck 1976</td>\n",
       "      <td>1957.0</td>\n",
       "    </tr>\n",
       "    <tr>\n",
       "      <th>75902</th>\n",
       "      <td>Susan KELLEY</td>\n",
       "      <td>1</td>\n",
       "      <td>Innsbruck 1976</td>\n",
       "      <td>1954.0</td>\n",
       "    </tr>\n",
       "    <tr>\n",
       "      <th>75903</th>\n",
       "      <td>Andrew STROUKOFF</td>\n",
       "      <td>1</td>\n",
       "      <td>Innsbruck 1976</td>\n",
       "      <td>1960.0</td>\n",
       "    </tr>\n",
       "  </tbody>\n",
       "</table>\n",
       "<p>73429 rows × 4 columns</p>\n",
       "</div>"
      ],
      "text/plain": [
       "            athlete_full_name  games_participations        first_game  \\\n",
       "0      Cooper WOODS-TOPALOVIC                     1      Beijing 2022   \n",
       "1              Felix ELOFSSON                     2  PyeongChang 2018   \n",
       "2               Dylan WALCZYK                     1      Beijing 2022   \n",
       "3               Olli PENTTALA                     1      Beijing 2022   \n",
       "4            Dmitriy REIKHERD                     1      Beijing 2022   \n",
       "...                       ...                   ...               ...   \n",
       "75899          Douglas WEIGLE                     1    Innsbruck 1976   \n",
       "75900        Stefania BERTELE                     1    Innsbruck 1976   \n",
       "75901          Walter CECCONI                     1    Innsbruck 1976   \n",
       "75902            Susan KELLEY                     1    Innsbruck 1976   \n",
       "75903        Andrew STROUKOFF                     1    Innsbruck 1976   \n",
       "\n",
       "       athlete_year_birth  \n",
       "0                  2000.0  \n",
       "1                  1995.0  \n",
       "2                  1993.0  \n",
       "3                  1995.0  \n",
       "4                  1989.0  \n",
       "...                   ...  \n",
       "75899              1955.0  \n",
       "75900              1957.0  \n",
       "75901              1957.0  \n",
       "75902              1954.0  \n",
       "75903              1960.0  \n",
       "\n",
       "[73429 rows x 4 columns]"
      ]
     },
     "execution_count": 18,
     "metadata": {},
     "output_type": "execute_result"
    }
   ],
   "source": [
    "athletes"
   ]
  },
  {
   "cell_type": "code",
   "execution_count": 19,
   "id": "91b3e417",
   "metadata": {
    "scrolled": true
   },
   "outputs": [],
   "source": [
    "athletes['first_game_year']=athletes['first_game'].apply(lambda x:x.split(\" \")[-1])"
   ]
  },
  {
   "cell_type": "code",
   "execution_count": 20,
   "id": "f3eb01f7",
   "metadata": {},
   "outputs": [],
   "source": [
    "athletes['athlete_year_birth']=athletes['athlete_year_birth'].astype(int)"
   ]
  },
  {
   "cell_type": "code",
   "execution_count": 21,
   "id": "41ea1b86",
   "metadata": {},
   "outputs": [],
   "source": [
    "athletes['first_game_year']=athletes['first_game_year'].astype(int)"
   ]
  },
  {
   "cell_type": "code",
   "execution_count": 22,
   "id": "e36a441a",
   "metadata": {},
   "outputs": [],
   "source": [
    "athletes['athletes_age']=athletes['first_game_year']-athletes['athlete_year_birth']"
   ]
  },
  {
   "cell_type": "code",
   "execution_count": 23,
   "id": "abbf720e",
   "metadata": {},
   "outputs": [
    {
     "data": {
      "text/html": [
       "<div>\n",
       "<style scoped>\n",
       "    .dataframe tbody tr th:only-of-type {\n",
       "        vertical-align: middle;\n",
       "    }\n",
       "\n",
       "    .dataframe tbody tr th {\n",
       "        vertical-align: top;\n",
       "    }\n",
       "\n",
       "    .dataframe thead th {\n",
       "        text-align: right;\n",
       "    }\n",
       "</style>\n",
       "<table border=\"1\" class=\"dataframe\">\n",
       "  <thead>\n",
       "    <tr style=\"text-align: right;\">\n",
       "      <th></th>\n",
       "      <th>athlete_full_name</th>\n",
       "      <th>games_participations</th>\n",
       "      <th>first_game</th>\n",
       "      <th>athlete_year_birth</th>\n",
       "      <th>first_game_year</th>\n",
       "      <th>athletes_age</th>\n",
       "    </tr>\n",
       "  </thead>\n",
       "  <tbody>\n",
       "    <tr>\n",
       "      <th>0</th>\n",
       "      <td>Cooper WOODS-TOPALOVIC</td>\n",
       "      <td>1</td>\n",
       "      <td>Beijing 2022</td>\n",
       "      <td>2000</td>\n",
       "      <td>2022</td>\n",
       "      <td>22</td>\n",
       "    </tr>\n",
       "    <tr>\n",
       "      <th>1</th>\n",
       "      <td>Felix ELOFSSON</td>\n",
       "      <td>2</td>\n",
       "      <td>PyeongChang 2018</td>\n",
       "      <td>1995</td>\n",
       "      <td>2018</td>\n",
       "      <td>23</td>\n",
       "    </tr>\n",
       "    <tr>\n",
       "      <th>2</th>\n",
       "      <td>Dylan WALCZYK</td>\n",
       "      <td>1</td>\n",
       "      <td>Beijing 2022</td>\n",
       "      <td>1993</td>\n",
       "      <td>2022</td>\n",
       "      <td>29</td>\n",
       "    </tr>\n",
       "    <tr>\n",
       "      <th>3</th>\n",
       "      <td>Olli PENTTALA</td>\n",
       "      <td>1</td>\n",
       "      <td>Beijing 2022</td>\n",
       "      <td>1995</td>\n",
       "      <td>2022</td>\n",
       "      <td>27</td>\n",
       "    </tr>\n",
       "    <tr>\n",
       "      <th>4</th>\n",
       "      <td>Dmitriy REIKHERD</td>\n",
       "      <td>1</td>\n",
       "      <td>Beijing 2022</td>\n",
       "      <td>1989</td>\n",
       "      <td>2022</td>\n",
       "      <td>33</td>\n",
       "    </tr>\n",
       "  </tbody>\n",
       "</table>\n",
       "</div>"
      ],
      "text/plain": [
       "        athlete_full_name  games_participations        first_game  \\\n",
       "0  Cooper WOODS-TOPALOVIC                     1      Beijing 2022   \n",
       "1          Felix ELOFSSON                     2  PyeongChang 2018   \n",
       "2           Dylan WALCZYK                     1      Beijing 2022   \n",
       "3           Olli PENTTALA                     1      Beijing 2022   \n",
       "4        Dmitriy REIKHERD                     1      Beijing 2022   \n",
       "\n",
       "   athlete_year_birth  first_game_year  athletes_age  \n",
       "0                2000             2022            22  \n",
       "1                1995             2018            23  \n",
       "2                1993             2022            29  \n",
       "3                1995             2022            27  \n",
       "4                1989             2022            33  "
      ]
     },
     "execution_count": 23,
     "metadata": {},
     "output_type": "execute_result"
    }
   ],
   "source": [
    "athletes.head()"
   ]
  },
  {
   "cell_type": "code",
   "execution_count": null,
   "id": "4a9f6dea",
   "metadata": {},
   "outputs": [],
   "source": []
  },
  {
   "cell_type": "code",
   "execution_count": null,
   "id": "5b3dc2a6",
   "metadata": {},
   "outputs": [],
   "source": []
  },
  {
   "cell_type": "code",
   "execution_count": 24,
   "id": "71e80932",
   "metadata": {
    "scrolled": true
   },
   "outputs": [
    {
     "data": {
      "text/plain": [
       "<seaborn.axisgrid.FacetGrid at 0x22c0401d2b0>"
      ]
     },
     "execution_count": 24,
     "metadata": {},
     "output_type": "execute_result"
    },
    {
     "data": {
      "image/png": "[encoded data removed]",
      "text/plain": [
       "<Figure size 360x360 with 1 Axes>"
      ]
     },
     "metadata": {
      "needs_background": "light"
     },
     "output_type": "display_data"
    }
   ],
   "source": [
    "sns.displot(x=athletes['athletes_age'],bins=100,kde=True)\n"
   ]
  },
  {
   "cell_type": "markdown",
   "id": "1de1d3cb",
   "metadata": {},
   "source": [
    "umm... Something is wrong here...\n",
    "\n",
    "lets zoom-in"
   ]
  },
  {
   "cell_type": "code",
   "execution_count": 25,
   "id": "82fb47ab",
   "metadata": {},
   "outputs": [
    {
     "data": {
      "text/plain": [
       "(0.0, 10.0)"
      ]
     },
     "execution_count": 25,
     "metadata": {},
     "output_type": "execute_result"
    },
    {
     "data": {
      "text/plain": [
       "<Figure size 1210x847 with 0 Axes>"
      ]
     },
     "metadata": {},
     "output_type": "display_data"
    },
    {
     "data": {
      "image/png": "[encoded data removed]",
      "text/plain": [
       "<Figure size 360x360 with 1 Axes>"
      ]
     },
     "metadata": {
      "needs_background": "light"
     },
     "output_type": "display_data"
    }
   ],
   "source": [
    "plt.figure(figsize=(10,7),dpi=121)\n",
    "sns.displot(x=athletes['athletes_age'],bins=70)\n",
    "plt.ylim(0,10)"
   ]
  },
  {
   "cell_type": "code",
   "execution_count": 26,
   "id": "6c8f7c45",
   "metadata": {},
   "outputs": [
    {
     "data": {
      "text/plain": [
       "array([ 22,  23,  29,  27,  33,  20,  21,  26,  18,  28,  30,  19,  24,\n",
       "        17,  25,  16,  32,  31,   4,  35,  12,  34,   7,  14,  39,  37,\n",
       "       -24, -61,  44, 122, -11, -12,   8,  -9,  38,  40,  36,  43,  41,\n",
       "        57,  42,  45,  54,  48,  15,  52,  13,  11,  -8,  46, -43,  49,\n",
       "        51, -31,  -7, -14,   3, -41,  -1,  47,  56,  50,  62,  60,  55,\n",
       "       106,  64,  53,  10, 121,  70,  97,  61,  67,  58,   1,   6,  -5,\n",
       "        -2,   2, -10,  93,  -4,   9,  96,   5, -13,  63,  -3, -15,  -6,\n",
       "        89,  73, -17, -16,  66, -21, -20, -22,  59, -18,  68, -25, -30,\n",
       "       -28, -34, -33, -23,  65, -37, -35, -32, -39, -42, -51, -56, -57,\n",
       "       -52, -47, -19, -71, -40, -53, -82, -80, -92, -89, -97, -59, -85,\n",
       "         0])"
      ]
     },
     "execution_count": 26,
     "metadata": {},
     "output_type": "execute_result"
    }
   ],
   "source": [
    "athletes['athletes_age'].unique()"
   ]
  },
  {
   "cell_type": "code",
   "execution_count": 27,
   "id": "6e85b5a0",
   "metadata": {},
   "outputs": [
    {
     "data": {
      "text/plain": [
       "Int64Index([ 1008,  1134,  1619,  1635,  1848,  3577,  5284,  5313,  5718,\n",
       "             5867,\n",
       "            ...\n",
       "            67781, 67816, 67828, 67839, 68092, 68872, 72700, 73121, 73910,\n",
       "            75301],\n",
       "           dtype='int64', length=125)"
      ]
     },
     "execution_count": 27,
     "metadata": {},
     "output_type": "execute_result"
    }
   ],
   "source": [
    "athletes[athletes['athletes_age']<0].index"
   ]
  },
  {
   "cell_type": "markdown",
   "id": "34f650b9",
   "metadata": {},
   "source": [
    "**Hmmm..False Information!!** (how one can participate in game before birth???)\n",
    "\n",
    "lets delete that data!"
   ]
  },
  {
   "cell_type": "code",
   "execution_count": 28,
   "id": "85e264c8",
   "metadata": {},
   "outputs": [],
   "source": [
    "athletes=athletes.drop(index=athletes[athletes['athletes_age']<0].index,axis=0)"
   ]
  },
  {
   "cell_type": "code",
   "execution_count": 29,
   "id": "dc502066",
   "metadata": {
    "scrolled": false
   },
   "outputs": [
    {
     "data": {
      "text/plain": [
       "73896      0\n",
       "66823      1\n",
       "22425      1\n",
       "30990      2\n",
       "54160      2\n",
       "        ... \n",
       "18193     97\n",
       "12626    106\n",
       "15300    121\n",
       "1476     122\n",
       "1470     122\n",
       "Name: athletes_age, Length: 73304, dtype: int32"
      ]
     },
     "execution_count": 29,
     "metadata": {},
     "output_type": "execute_result"
    }
   ],
   "source": [
    "athletes['athletes_age'].sort_values(ascending=True)"
   ]
  },
  {
   "cell_type": "code",
   "execution_count": 30,
   "id": "f61f9d53",
   "metadata": {},
   "outputs": [
    {
     "data": {
      "text/plain": [
       "(0.0, 25.0)"
      ]
     },
     "execution_count": 30,
     "metadata": {},
     "output_type": "execute_result"
    },
    {
     "data": {
      "image/png": "[encoded data removed]",
      "text/plain": [
       "<Figure size 360x360 with 1 Axes>"
      ]
     },
     "metadata": {
      "needs_background": "light"
     },
     "output_type": "display_data"
    }
   ],
   "source": [
    "sns.displot(x=athletes['athletes_age'],bins=100,kde=True)\n",
    "plt.ylim(0,25)"
   ]
  },
  {
   "cell_type": "markdown",
   "id": "1abf5e87",
   "metadata": {},
   "source": [
    "there are still outliers,lets consider athletes age between 12-85 age"
   ]
  },
  {
   "cell_type": "code",
   "execution_count": 31,
   "id": "c0157ccf",
   "metadata": {},
   "outputs": [
    {
     "data": {
      "text/plain": [
       "Int64Index([  160,   602,  1470,  1476,  1699,  3312,  6019,  6929, 12626,\n",
       "            15020, 15300, 17636, 18193, 21902, 22425, 23274, 23930, 25919,\n",
       "            26064, 26785, 27099, 28326, 28390, 29229, 29399, 30007, 30990,\n",
       "            31542, 31777, 32320, 32337, 32446, 33480, 33595, 34218, 34810,\n",
       "            34975, 35168, 35510, 35666, 35742, 36055, 36332, 36782, 37205,\n",
       "            38136, 38925, 39525, 39638, 41484, 42439, 45747, 46211, 46839,\n",
       "            49736, 51101, 51229, 51306, 53065, 54160, 54714, 60661, 63175,\n",
       "            66823, 66857, 68925, 70140, 71542, 71634, 72801, 72922, 73481,\n",
       "            73896, 75868],\n",
       "           dtype='int64')"
      ]
     },
     "execution_count": 31,
     "metadata": {},
     "output_type": "execute_result"
    }
   ],
   "source": [
    "athletes[(athletes['athletes_age']>85) | (athletes['athletes_age']<12)].index"
   ]
  },
  {
   "cell_type": "code",
   "execution_count": 32,
   "id": "68a3a07a",
   "metadata": {},
   "outputs": [],
   "source": [
    "athletes=athletes.drop(index=athletes[(athletes['athletes_age']>85) | (athletes['athletes_age']<12)].index,axis=0)"
   ]
  },
  {
   "cell_type": "code",
   "execution_count": 33,
   "id": "387c26a8",
   "metadata": {
    "scrolled": true
   },
   "outputs": [
    {
     "data": {
      "text/plain": [
       "<seaborn.axisgrid.FacetGrid at 0x22c03e33430>"
      ]
     },
     "execution_count": 33,
     "metadata": {},
     "output_type": "execute_result"
    },
    {
     "data": {
      "text/plain": [
       "<Figure size 1210x1210 with 0 Axes>"
      ]
     },
     "metadata": {},
     "output_type": "display_data"
    },
    {
     "data": {
      "image/png": "[encoded data removed]",
      "text/plain": [
       "<Figure size 360x360 with 1 Axes>"
      ]
     },
     "metadata": {
      "needs_background": "light"
     },
     "output_type": "display_data"
    }
   ],
   "source": [
    "plt.figure(figsize=(10,10),dpi=121)\n",
    "sns.displot(x=athletes['athletes_age'],bins=50,kde=True)\n"
   ]
  },
  {
   "cell_type": "code",
   "execution_count": 34,
   "id": "eff81793",
   "metadata": {
    "scrolled": false
   },
   "outputs": [
    {
     "data": {
      "text/html": [
       "<div>\n",
       "<style scoped>\n",
       "    .dataframe tbody tr th:only-of-type {\n",
       "        vertical-align: middle;\n",
       "    }\n",
       "\n",
       "    .dataframe tbody tr th {\n",
       "        vertical-align: top;\n",
       "    }\n",
       "\n",
       "    .dataframe thead th {\n",
       "        text-align: right;\n",
       "    }\n",
       "</style>\n",
       "<table border=\"1\" class=\"dataframe\">\n",
       "  <thead>\n",
       "    <tr style=\"text-align: right;\">\n",
       "      <th></th>\n",
       "      <th>games_participations</th>\n",
       "      <th>athlete_year_birth</th>\n",
       "      <th>first_game_year</th>\n",
       "      <th>athletes_age</th>\n",
       "    </tr>\n",
       "  </thead>\n",
       "  <tbody>\n",
       "    <tr>\n",
       "      <th>count</th>\n",
       "      <td>73230.000000</td>\n",
       "      <td>73230.000000</td>\n",
       "      <td>73230.000000</td>\n",
       "      <td>73230.000000</td>\n",
       "    </tr>\n",
       "    <tr>\n",
       "      <th>mean</th>\n",
       "      <td>1.551932</td>\n",
       "      <td>1961.569726</td>\n",
       "      <td>1986.291411</td>\n",
       "      <td>24.721685</td>\n",
       "    </tr>\n",
       "    <tr>\n",
       "      <th>std</th>\n",
       "      <td>0.862504</td>\n",
       "      <td>28.122099</td>\n",
       "      <td>27.202484</td>\n",
       "      <td>5.383671</td>\n",
       "    </tr>\n",
       "    <tr>\n",
       "      <th>min</th>\n",
       "      <td>1.000000</td>\n",
       "      <td>1836.000000</td>\n",
       "      <td>1896.000000</td>\n",
       "      <td>12.000000</td>\n",
       "    </tr>\n",
       "    <tr>\n",
       "      <th>25%</th>\n",
       "      <td>1.000000</td>\n",
       "      <td>1945.000000</td>\n",
       "      <td>1972.000000</td>\n",
       "      <td>21.000000</td>\n",
       "    </tr>\n",
       "    <tr>\n",
       "      <th>50%</th>\n",
       "      <td>1.000000</td>\n",
       "      <td>1968.000000</td>\n",
       "      <td>1992.000000</td>\n",
       "      <td>24.000000</td>\n",
       "    </tr>\n",
       "    <tr>\n",
       "      <th>75%</th>\n",
       "      <td>2.000000</td>\n",
       "      <td>1983.000000</td>\n",
       "      <td>2008.000000</td>\n",
       "      <td>27.000000</td>\n",
       "    </tr>\n",
       "    <tr>\n",
       "      <th>max</th>\n",
       "      <td>10.000000</td>\n",
       "      <td>2008.000000</td>\n",
       "      <td>2022.000000</td>\n",
       "      <td>73.000000</td>\n",
       "    </tr>\n",
       "  </tbody>\n",
       "</table>\n",
       "</div>"
      ],
      "text/plain": [
       "       games_participations  athlete_year_birth  first_game_year  athletes_age\n",
       "count          73230.000000        73230.000000     73230.000000  73230.000000\n",
       "mean               1.551932         1961.569726      1986.291411     24.721685\n",
       "std                0.862504           28.122099        27.202484      5.383671\n",
       "min                1.000000         1836.000000      1896.000000     12.000000\n",
       "25%                1.000000         1945.000000      1972.000000     21.000000\n",
       "50%                1.000000         1968.000000      1992.000000     24.000000\n",
       "75%                2.000000         1983.000000      2008.000000     27.000000\n",
       "max               10.000000         2008.000000      2022.000000     73.000000"
      ]
     },
     "execution_count": 34,
     "metadata": {},
     "output_type": "execute_result"
    }
   ],
   "source": [
    "athletes.describe()"
   ]
  },
  {
   "cell_type": "code",
   "execution_count": 35,
   "id": "8e7b0d97",
   "metadata": {},
   "outputs": [
    {
     "data": {
      "text/plain": [
       "first_game_year\n",
       "1896    23.666667\n",
       "1900    27.180556\n",
       "1904    26.787879\n",
       "1908    27.243856\n",
       "1912    27.078580\n",
       "1920    27.361328\n",
       "1924    26.253521\n",
       "1928    24.389338\n",
       "1932    24.237354\n",
       "1936    25.753529\n",
       "1948    27.132098\n",
       "1952    26.193802\n",
       "1956    24.521770\n",
       "1960    25.228411\n",
       "1964    24.636807\n",
       "1968    24.393506\n",
       "1972    24.921321\n",
       "1976    24.033048\n",
       "1980    23.719160\n",
       "1984    24.129860\n",
       "1988    23.952225\n",
       "1992    24.176152\n",
       "1994    22.992565\n",
       "1996    24.728601\n",
       "1998    23.669643\n",
       "2000    24.525437\n",
       "2002    24.501082\n",
       "2004    24.497797\n",
       "2006    24.041916\n",
       "2008    24.548436\n",
       "2010    24.269006\n",
       "2012    24.701921\n",
       "2014    23.907997\n",
       "2016    25.212357\n",
       "2018    23.990792\n",
       "2020    25.352245\n",
       "2022    24.311665\n",
       "Name: athletes_age, dtype: float64"
      ]
     },
     "execution_count": 35,
     "metadata": {},
     "output_type": "execute_result"
    }
   ],
   "source": [
    "#Average Participant's age per season\n",
    "athletes.groupby('first_game_year').mean()['athletes_age']"
   ]
  },
  {
   "cell_type": "code",
   "execution_count": 36,
   "id": "c4f15b5b",
   "metadata": {},
   "outputs": [
    {
     "data": {
      "text/html": [
       "<div>\n",
       "<style scoped>\n",
       "    .dataframe tbody tr th:only-of-type {\n",
       "        vertical-align: middle;\n",
       "    }\n",
       "\n",
       "    .dataframe tbody tr th {\n",
       "        vertical-align: top;\n",
       "    }\n",
       "\n",
       "    .dataframe thead th {\n",
       "        text-align: right;\n",
       "    }\n",
       "</style>\n",
       "<table border=\"1\" class=\"dataframe\">\n",
       "  <thead>\n",
       "    <tr style=\"text-align: right;\">\n",
       "      <th></th>\n",
       "      <th>athlete_full_name</th>\n",
       "      <th>games_participations</th>\n",
       "      <th>first_game</th>\n",
       "      <th>athlete_year_birth</th>\n",
       "      <th>first_game_year</th>\n",
       "      <th>athletes_age</th>\n",
       "    </tr>\n",
       "  </thead>\n",
       "  <tbody>\n",
       "    <tr>\n",
       "      <th>0</th>\n",
       "      <td>Cooper WOODS-TOPALOVIC</td>\n",
       "      <td>1</td>\n",
       "      <td>Beijing 2022</td>\n",
       "      <td>2000</td>\n",
       "      <td>2022</td>\n",
       "      <td>22</td>\n",
       "    </tr>\n",
       "    <tr>\n",
       "      <th>1</th>\n",
       "      <td>Felix ELOFSSON</td>\n",
       "      <td>2</td>\n",
       "      <td>PyeongChang 2018</td>\n",
       "      <td>1995</td>\n",
       "      <td>2018</td>\n",
       "      <td>23</td>\n",
       "    </tr>\n",
       "    <tr>\n",
       "      <th>2</th>\n",
       "      <td>Dylan WALCZYK</td>\n",
       "      <td>1</td>\n",
       "      <td>Beijing 2022</td>\n",
       "      <td>1993</td>\n",
       "      <td>2022</td>\n",
       "      <td>29</td>\n",
       "    </tr>\n",
       "    <tr>\n",
       "      <th>3</th>\n",
       "      <td>Olli PENTTALA</td>\n",
       "      <td>1</td>\n",
       "      <td>Beijing 2022</td>\n",
       "      <td>1995</td>\n",
       "      <td>2022</td>\n",
       "      <td>27</td>\n",
       "    </tr>\n",
       "    <tr>\n",
       "      <th>4</th>\n",
       "      <td>Dmitriy REIKHERD</td>\n",
       "      <td>1</td>\n",
       "      <td>Beijing 2022</td>\n",
       "      <td>1989</td>\n",
       "      <td>2022</td>\n",
       "      <td>33</td>\n",
       "    </tr>\n",
       "  </tbody>\n",
       "</table>\n",
       "</div>"
      ],
      "text/plain": [
       "        athlete_full_name  games_participations        first_game  \\\n",
       "0  Cooper WOODS-TOPALOVIC                     1      Beijing 2022   \n",
       "1          Felix ELOFSSON                     2  PyeongChang 2018   \n",
       "2           Dylan WALCZYK                     1      Beijing 2022   \n",
       "3           Olli PENTTALA                     1      Beijing 2022   \n",
       "4        Dmitriy REIKHERD                     1      Beijing 2022   \n",
       "\n",
       "   athlete_year_birth  first_game_year  athletes_age  \n",
       "0                2000             2022            22  \n",
       "1                1995             2018            23  \n",
       "2                1993             2022            29  \n",
       "3                1995             2022            27  \n",
       "4                1989             2022            33  "
      ]
     },
     "execution_count": 36,
     "metadata": {},
     "output_type": "execute_result"
    }
   ],
   "source": [
    "athletes.head()"
   ]
  },
  {
   "cell_type": "markdown",
   "id": "23fb8303",
   "metadata": {},
   "source": [
    "Relation between age and no. of game participated"
   ]
  },
  {
   "cell_type": "code",
   "execution_count": 37,
   "id": "163641c9",
   "metadata": {
    "scrolled": true
   },
   "outputs": [
    {
     "data": {
      "text/plain": [
       "<AxesSubplot:xlabel='athletes_age', ylabel='games_participations'>"
      ]
     },
     "execution_count": 37,
     "metadata": {},
     "output_type": "execute_result"
    },
    {
     "data": {
      "image/png": "[encoded data removed]",
      "text/plain": [
       "<Figure size 432x288 with 1 Axes>"
      ]
     },
     "metadata": {
      "needs_background": "light"
     },
     "output_type": "display_data"
    }
   ],
   "source": [
    "sns.scatterplot(x=athletes['athletes_age'],y=athletes['games_participations'])"
   ]
  },
  {
   "cell_type": "markdown",
   "id": "4a197e9b",
   "metadata": {},
   "source": [
    "### Hosts"
   ]
  },
  {
   "cell_type": "code",
   "execution_count": 38,
   "id": "2c098a54",
   "metadata": {},
   "outputs": [
    {
     "data": {
      "text/html": [
       "<div>\n",
       "<style scoped>\n",
       "    .dataframe tbody tr th:only-of-type {\n",
       "        vertical-align: middle;\n",
       "    }\n",
       "\n",
       "    .dataframe tbody tr th {\n",
       "        vertical-align: top;\n",
       "    }\n",
       "\n",
       "    .dataframe thead th {\n",
       "        text-align: right;\n",
       "    }\n",
       "</style>\n",
       "<table border=\"1\" class=\"dataframe\">\n",
       "  <thead>\n",
       "    <tr style=\"text-align: right;\">\n",
       "      <th></th>\n",
       "      <th>game_slug</th>\n",
       "      <th>game_end_date</th>\n",
       "      <th>game_start_date</th>\n",
       "      <th>game_location</th>\n",
       "      <th>game_name</th>\n",
       "      <th>game_season</th>\n",
       "      <th>game_year</th>\n",
       "    </tr>\n",
       "  </thead>\n",
       "  <tbody>\n",
       "    <tr>\n",
       "      <th>0</th>\n",
       "      <td>beijing-2022</td>\n",
       "      <td>2022-02-20T12:00:00Z</td>\n",
       "      <td>2022-02-04T15:00:00Z</td>\n",
       "      <td>China</td>\n",
       "      <td>Beijing 2022</td>\n",
       "      <td>Winter</td>\n",
       "      <td>2022</td>\n",
       "    </tr>\n",
       "    <tr>\n",
       "      <th>1</th>\n",
       "      <td>tokyo-2020</td>\n",
       "      <td>2021-08-08T14:00:00Z</td>\n",
       "      <td>2021-07-23T11:00:00Z</td>\n",
       "      <td>Japan</td>\n",
       "      <td>Tokyo 2020</td>\n",
       "      <td>Summer</td>\n",
       "      <td>2020</td>\n",
       "    </tr>\n",
       "    <tr>\n",
       "      <th>2</th>\n",
       "      <td>pyeongchang-2018</td>\n",
       "      <td>2018-02-25T08:00:00Z</td>\n",
       "      <td>2018-02-08T23:00:00Z</td>\n",
       "      <td>Republic of Korea</td>\n",
       "      <td>PyeongChang 2018</td>\n",
       "      <td>Winter</td>\n",
       "      <td>2018</td>\n",
       "    </tr>\n",
       "    <tr>\n",
       "      <th>3</th>\n",
       "      <td>rio-2016</td>\n",
       "      <td>2016-08-21T21:00:00Z</td>\n",
       "      <td>2016-08-05T12:00:00Z</td>\n",
       "      <td>Brazil</td>\n",
       "      <td>Rio 2016</td>\n",
       "      <td>Summer</td>\n",
       "      <td>2016</td>\n",
       "    </tr>\n",
       "    <tr>\n",
       "      <th>4</th>\n",
       "      <td>sochi-2014</td>\n",
       "      <td>2014-02-23T16:00:00Z</td>\n",
       "      <td>2014-02-07T04:00:00Z</td>\n",
       "      <td>Russian Federation</td>\n",
       "      <td>Sochi 2014</td>\n",
       "      <td>Winter</td>\n",
       "      <td>2014</td>\n",
       "    </tr>\n",
       "  </tbody>\n",
       "</table>\n",
       "</div>"
      ],
      "text/plain": [
       "          game_slug         game_end_date       game_start_date  \\\n",
       "0      beijing-2022  2022-02-20T12:00:00Z  2022-02-04T15:00:00Z   \n",
       "1        tokyo-2020  2021-08-08T14:00:00Z  2021-07-23T11:00:00Z   \n",
       "2  pyeongchang-2018  2018-02-25T08:00:00Z  2018-02-08T23:00:00Z   \n",
       "3          rio-2016  2016-08-21T21:00:00Z  2016-08-05T12:00:00Z   \n",
       "4        sochi-2014  2014-02-23T16:00:00Z  2014-02-07T04:00:00Z   \n",
       "\n",
       "        game_location         game_name game_season  game_year  \n",
       "0               China      Beijing 2022      Winter       2022  \n",
       "1               Japan        Tokyo 2020      Summer       2020  \n",
       "2   Republic of Korea  PyeongChang 2018      Winter       2018  \n",
       "3              Brazil          Rio 2016      Summer       2016  \n",
       "4  Russian Federation        Sochi 2014      Winter       2014  "
      ]
     },
     "execution_count": 38,
     "metadata": {},
     "output_type": "execute_result"
    }
   ],
   "source": [
    "hosts.head()"
   ]
  },
  {
   "cell_type": "code",
   "execution_count": 39,
   "id": "f2a208ad",
   "metadata": {},
   "outputs": [
    {
     "name": "stdout",
     "output_type": "stream",
     "text": [
      "<class 'pandas.core.frame.DataFrame'>\n",
      "RangeIndex: 53 entries, 0 to 52\n",
      "Data columns (total 7 columns):\n",
      " #   Column           Non-Null Count  Dtype \n",
      "---  ------           --------------  ----- \n",
      " 0   game_slug        53 non-null     object\n",
      " 1   game_end_date    53 non-null     object\n",
      " 2   game_start_date  53 non-null     object\n",
      " 3   game_location    53 non-null     object\n",
      " 4   game_name        53 non-null     object\n",
      " 5   game_season      53 non-null     object\n",
      " 6   game_year        53 non-null     int64 \n",
      "dtypes: int64(1), object(6)\n",
      "memory usage: 3.0+ KB\n"
     ]
    }
   ],
   "source": [
    "hosts.info()"
   ]
  },
  {
   "cell_type": "code",
   "execution_count": 40,
   "id": "05c12438",
   "metadata": {
    "scrolled": true
   },
   "outputs": [
    {
     "data": {
      "text/html": [
       "<div>\n",
       "<style scoped>\n",
       "    .dataframe tbody tr th:only-of-type {\n",
       "        vertical-align: middle;\n",
       "    }\n",
       "\n",
       "    .dataframe tbody tr th {\n",
       "        vertical-align: top;\n",
       "    }\n",
       "\n",
       "    .dataframe thead th {\n",
       "        text-align: right;\n",
       "    }\n",
       "</style>\n",
       "<table border=\"1\" class=\"dataframe\">\n",
       "  <thead>\n",
       "    <tr style=\"text-align: right;\">\n",
       "      <th></th>\n",
       "      <th>game_year</th>\n",
       "    </tr>\n",
       "  </thead>\n",
       "  <tbody>\n",
       "    <tr>\n",
       "      <th>count</th>\n",
       "      <td>53.000000</td>\n",
       "    </tr>\n",
       "    <tr>\n",
       "      <th>mean</th>\n",
       "      <td>1967.547170</td>\n",
       "    </tr>\n",
       "    <tr>\n",
       "      <th>std</th>\n",
       "      <td>35.201926</td>\n",
       "    </tr>\n",
       "    <tr>\n",
       "      <th>min</th>\n",
       "      <td>1896.000000</td>\n",
       "    </tr>\n",
       "    <tr>\n",
       "      <th>25%</th>\n",
       "      <td>1936.000000</td>\n",
       "    </tr>\n",
       "    <tr>\n",
       "      <th>50%</th>\n",
       "      <td>1972.000000</td>\n",
       "    </tr>\n",
       "    <tr>\n",
       "      <th>75%</th>\n",
       "      <td>1996.000000</td>\n",
       "    </tr>\n",
       "    <tr>\n",
       "      <th>max</th>\n",
       "      <td>2022.000000</td>\n",
       "    </tr>\n",
       "  </tbody>\n",
       "</table>\n",
       "</div>"
      ],
      "text/plain": [
       "         game_year\n",
       "count    53.000000\n",
       "mean   1967.547170\n",
       "std      35.201926\n",
       "min    1896.000000\n",
       "25%    1936.000000\n",
       "50%    1972.000000\n",
       "75%    1996.000000\n",
       "max    2022.000000"
      ]
     },
     "execution_count": 40,
     "metadata": {},
     "output_type": "execute_result"
    }
   ],
   "source": [
    "hosts.describe()"
   ]
  },
  {
   "cell_type": "code",
   "execution_count": 41,
   "id": "8f04f589",
   "metadata": {},
   "outputs": [],
   "source": [
    "hosts=hosts.drop('game_slug',axis=1)"
   ]
  },
  {
   "cell_type": "code",
   "execution_count": 42,
   "id": "19e0fb52",
   "metadata": {},
   "outputs": [
    {
     "data": {
      "text/html": [
       "<div>\n",
       "<style scoped>\n",
       "    .dataframe tbody tr th:only-of-type {\n",
       "        vertical-align: middle;\n",
       "    }\n",
       "\n",
       "    .dataframe tbody tr th {\n",
       "        vertical-align: top;\n",
       "    }\n",
       "\n",
       "    .dataframe thead th {\n",
       "        text-align: right;\n",
       "    }\n",
       "</style>\n",
       "<table border=\"1\" class=\"dataframe\">\n",
       "  <thead>\n",
       "    <tr style=\"text-align: right;\">\n",
       "      <th></th>\n",
       "      <th>game_end_date</th>\n",
       "      <th>game_start_date</th>\n",
       "      <th>game_location</th>\n",
       "      <th>game_name</th>\n",
       "      <th>game_season</th>\n",
       "      <th>game_year</th>\n",
       "    </tr>\n",
       "  </thead>\n",
       "  <tbody>\n",
       "    <tr>\n",
       "      <th>0</th>\n",
       "      <td>2022-02-20T12:00:00Z</td>\n",
       "      <td>2022-02-04T15:00:00Z</td>\n",
       "      <td>China</td>\n",
       "      <td>Beijing 2022</td>\n",
       "      <td>Winter</td>\n",
       "      <td>2022</td>\n",
       "    </tr>\n",
       "    <tr>\n",
       "      <th>1</th>\n",
       "      <td>2021-08-08T14:00:00Z</td>\n",
       "      <td>2021-07-23T11:00:00Z</td>\n",
       "      <td>Japan</td>\n",
       "      <td>Tokyo 2020</td>\n",
       "      <td>Summer</td>\n",
       "      <td>2020</td>\n",
       "    </tr>\n",
       "    <tr>\n",
       "      <th>2</th>\n",
       "      <td>2018-02-25T08:00:00Z</td>\n",
       "      <td>2018-02-08T23:00:00Z</td>\n",
       "      <td>Republic of Korea</td>\n",
       "      <td>PyeongChang 2018</td>\n",
       "      <td>Winter</td>\n",
       "      <td>2018</td>\n",
       "    </tr>\n",
       "    <tr>\n",
       "      <th>3</th>\n",
       "      <td>2016-08-21T21:00:00Z</td>\n",
       "      <td>2016-08-05T12:00:00Z</td>\n",
       "      <td>Brazil</td>\n",
       "      <td>Rio 2016</td>\n",
       "      <td>Summer</td>\n",
       "      <td>2016</td>\n",
       "    </tr>\n",
       "    <tr>\n",
       "      <th>4</th>\n",
       "      <td>2014-02-23T16:00:00Z</td>\n",
       "      <td>2014-02-07T04:00:00Z</td>\n",
       "      <td>Russian Federation</td>\n",
       "      <td>Sochi 2014</td>\n",
       "      <td>Winter</td>\n",
       "      <td>2014</td>\n",
       "    </tr>\n",
       "  </tbody>\n",
       "</table>\n",
       "</div>"
      ],
      "text/plain": [
       "          game_end_date       game_start_date       game_location  \\\n",
       "0  2022-02-20T12:00:00Z  2022-02-04T15:00:00Z               China   \n",
       "1  2021-08-08T14:00:00Z  2021-07-23T11:00:00Z               Japan   \n",
       "2  2018-02-25T08:00:00Z  2018-02-08T23:00:00Z   Republic of Korea   \n",
       "3  2016-08-21T21:00:00Z  2016-08-05T12:00:00Z              Brazil   \n",
       "4  2014-02-23T16:00:00Z  2014-02-07T04:00:00Z  Russian Federation   \n",
       "\n",
       "          game_name game_season  game_year  \n",
       "0      Beijing 2022      Winter       2022  \n",
       "1        Tokyo 2020      Summer       2020  \n",
       "2  PyeongChang 2018      Winter       2018  \n",
       "3          Rio 2016      Summer       2016  \n",
       "4        Sochi 2014      Winter       2014  "
      ]
     },
     "execution_count": 42,
     "metadata": {},
     "output_type": "execute_result"
    }
   ],
   "source": [
    "hosts.head()"
   ]
  },
  {
   "cell_type": "markdown",
   "id": "28ae9afd",
   "metadata": {},
   "source": [
    "Let's Convert 'game_end_date' and 'game_start_date' into datetime object"
   ]
  },
  {
   "cell_type": "code",
   "execution_count": 43,
   "id": "fcf186a9",
   "metadata": {},
   "outputs": [],
   "source": [
    "hosts['game_end_date']=hosts['game_end_date'].apply(lambda x:pd.to_datetime(x))"
   ]
  },
  {
   "cell_type": "code",
   "execution_count": 44,
   "id": "f2b39c78",
   "metadata": {},
   "outputs": [],
   "source": [
    "hosts['game_start_date']=hosts['game_start_date'].apply(lambda x:pd.to_datetime(x))"
   ]
  },
  {
   "cell_type": "markdown",
   "id": "770dfe9c",
   "metadata": {},
   "source": [
    "Lets check how many days each season lasted"
   ]
  },
  {
   "cell_type": "code",
   "execution_count": 45,
   "id": "8368d534",
   "metadata": {},
   "outputs": [],
   "source": [
    "hosts['season_days']=(hosts['game_end_date']-hosts['game_start_date'])"
   ]
  },
  {
   "cell_type": "markdown",
   "id": "bbbf735c",
   "metadata": {},
   "source": [
    "**top 5 countries who hosted multiple times**"
   ]
  },
  {
   "cell_type": "code",
   "execution_count": 46,
   "id": "19102fba",
   "metadata": {},
   "outputs": [
    {
     "data": {
      "text/plain": [
       "United States    8\n",
       "France           5\n",
       "Japan            4\n",
       "Great Britain    3\n",
       "Canada           3\n",
       "Name: game_location, dtype: int64"
      ]
     },
     "execution_count": 46,
     "metadata": {},
     "output_type": "execute_result"
    }
   ],
   "source": [
    "hosts['game_location'].value_counts().head(5)"
   ]
  },
  {
   "cell_type": "code",
   "execution_count": 47,
   "id": "da6f47a9",
   "metadata": {},
   "outputs": [],
   "source": [
    "hosts['season_days']=hosts['season_days'].apply(lambda x:x.days)"
   ]
  },
  {
   "cell_type": "code",
   "execution_count": 48,
   "id": "0a774939",
   "metadata": {},
   "outputs": [
    {
     "data": {
      "text/plain": [
       "<seaborn.axisgrid.FacetGrid at 0x22c04c2e640>"
      ]
     },
     "execution_count": 48,
     "metadata": {},
     "output_type": "execute_result"
    },
    {
     "data": {
      "image/png": "[encoded data removed]",
      "text/plain": [
       "<Figure size 360x360 with 1 Axes>"
      ]
     },
     "metadata": {
      "needs_background": "light"
     },
     "output_type": "display_data"
    }
   ],
   "source": [
    "sns.displot(x=hosts['season_days'],bins=50)"
   ]
  },
  {
   "cell_type": "code",
   "execution_count": 49,
   "id": "d36a7da7",
   "metadata": {},
   "outputs": [
    {
     "data": {
      "text/plain": [
       "(0.0, 5.0)"
      ]
     },
     "execution_count": 49,
     "metadata": {},
     "output_type": "execute_result"
    },
    {
     "data": {
      "image/png": "[encoded data removed]",
      "text/plain": [
       "<Figure size 360x360 with 1 Axes>"
      ]
     },
     "metadata": {
      "needs_background": "light"
     },
     "output_type": "display_data"
    }
   ],
   "source": [
    "#lets check the outliears\n",
    "\n",
    "sns.displot(x=hosts['season_days'],bins=50)\n",
    "plt.ylim(0,5)"
   ]
  },
  {
   "cell_type": "code",
   "execution_count": 50,
   "id": "df61d37c",
   "metadata": {},
   "outputs": [
    {
     "data": {
      "text/html": [
       "<div>\n",
       "<style scoped>\n",
       "    .dataframe tbody tr th:only-of-type {\n",
       "        vertical-align: middle;\n",
       "    }\n",
       "\n",
       "    .dataframe tbody tr th {\n",
       "        vertical-align: top;\n",
       "    }\n",
       "\n",
       "    .dataframe thead th {\n",
       "        text-align: right;\n",
       "    }\n",
       "</style>\n",
       "<table border=\"1\" class=\"dataframe\">\n",
       "  <thead>\n",
       "    <tr style=\"text-align: right;\">\n",
       "      <th></th>\n",
       "      <th>game_end_date</th>\n",
       "      <th>game_start_date</th>\n",
       "      <th>game_location</th>\n",
       "      <th>game_name</th>\n",
       "      <th>game_season</th>\n",
       "      <th>game_year</th>\n",
       "      <th>season_days</th>\n",
       "    </tr>\n",
       "  </thead>\n",
       "  <tbody>\n",
       "    <tr>\n",
       "      <th>43</th>\n",
       "      <td>1928-08-12 19:00:00+00:00</td>\n",
       "      <td>1928-05-17 07:00:00+00:00</td>\n",
       "      <td>Netherlands</td>\n",
       "      <td>Amsterdam 1928</td>\n",
       "      <td>Summer</td>\n",
       "      <td>1928</td>\n",
       "      <td>87</td>\n",
       "    </tr>\n",
       "    <tr>\n",
       "      <th>45</th>\n",
       "      <td>1924-07-27 19:00:00+00:00</td>\n",
       "      <td>1924-05-04 07:00:00+00:00</td>\n",
       "      <td>France</td>\n",
       "      <td>Paris 1924</td>\n",
       "      <td>Summer</td>\n",
       "      <td>1924</td>\n",
       "      <td>84</td>\n",
       "    </tr>\n",
       "    <tr>\n",
       "      <th>47</th>\n",
       "      <td>1920-09-12 19:00:00+00:00</td>\n",
       "      <td>1920-04-20 07:00:00+00:00</td>\n",
       "      <td>Belgium</td>\n",
       "      <td>Antwerp 1920</td>\n",
       "      <td>Summer</td>\n",
       "      <td>1920</td>\n",
       "      <td>145</td>\n",
       "    </tr>\n",
       "    <tr>\n",
       "      <th>48</th>\n",
       "      <td>1912-07-27 20:00:00+00:00</td>\n",
       "      <td>1912-05-05 08:00:00+00:00</td>\n",
       "      <td>Sweden</td>\n",
       "      <td>Stockholm 1912</td>\n",
       "      <td>Summer</td>\n",
       "      <td>1912</td>\n",
       "      <td>83</td>\n",
       "    </tr>\n",
       "    <tr>\n",
       "      <th>49</th>\n",
       "      <td>1908-10-31 20:09:00+00:00</td>\n",
       "      <td>1908-04-27 08:00:00+00:00</td>\n",
       "      <td>Great Britain</td>\n",
       "      <td>London 1908</td>\n",
       "      <td>Summer</td>\n",
       "      <td>1908</td>\n",
       "      <td>187</td>\n",
       "    </tr>\n",
       "    <tr>\n",
       "      <th>50</th>\n",
       "      <td>1904-11-24 02:00:00+00:00</td>\n",
       "      <td>1904-07-01 14:00:00+00:00</td>\n",
       "      <td>United States</td>\n",
       "      <td>St. Louis 1904</td>\n",
       "      <td>Summer</td>\n",
       "      <td>1904</td>\n",
       "      <td>145</td>\n",
       "    </tr>\n",
       "    <tr>\n",
       "      <th>51</th>\n",
       "      <td>1900-10-28 19:50:39+00:00</td>\n",
       "      <td>1900-05-14 08:50:39+00:00</td>\n",
       "      <td>France</td>\n",
       "      <td>Paris 1900</td>\n",
       "      <td>Summer</td>\n",
       "      <td>1900</td>\n",
       "      <td>167</td>\n",
       "    </tr>\n",
       "  </tbody>\n",
       "</table>\n",
       "</div>"
      ],
      "text/plain": [
       "               game_end_date           game_start_date  game_location  \\\n",
       "43 1928-08-12 19:00:00+00:00 1928-05-17 07:00:00+00:00    Netherlands   \n",
       "45 1924-07-27 19:00:00+00:00 1924-05-04 07:00:00+00:00         France   \n",
       "47 1920-09-12 19:00:00+00:00 1920-04-20 07:00:00+00:00        Belgium   \n",
       "48 1912-07-27 20:00:00+00:00 1912-05-05 08:00:00+00:00         Sweden   \n",
       "49 1908-10-31 20:09:00+00:00 1908-04-27 08:00:00+00:00  Great Britain   \n",
       "50 1904-11-24 02:00:00+00:00 1904-07-01 14:00:00+00:00  United States   \n",
       "51 1900-10-28 19:50:39+00:00 1900-05-14 08:50:39+00:00         France   \n",
       "\n",
       "         game_name game_season  game_year  season_days  \n",
       "43  Amsterdam 1928      Summer       1928           87  \n",
       "45      Paris 1924      Summer       1924           84  \n",
       "47    Antwerp 1920      Summer       1920          145  \n",
       "48  Stockholm 1912      Summer       1912           83  \n",
       "49     London 1908      Summer       1908          187  \n",
       "50  St. Louis 1904      Summer       1904          145  \n",
       "51      Paris 1900      Summer       1900          167  "
      ]
     },
     "execution_count": 50,
     "metadata": {},
     "output_type": "execute_result"
    }
   ],
   "source": [
    "hosts[hosts['season_days']>75]"
   ]
  },
  {
   "cell_type": "code",
   "execution_count": 51,
   "id": "e88d4a1e",
   "metadata": {},
   "outputs": [
    {
     "data": {
      "text/plain": [
       "<AxesSubplot:xlabel='game_year', ylabel='season_days'>"
      ]
     },
     "execution_count": 51,
     "metadata": {},
     "output_type": "execute_result"
    },
    {
     "data": {
      "image/png": "[encoded data removed]",
      "text/plain": [
       "<Figure size 432x288 with 1 Axes>"
      ]
     },
     "metadata": {
      "needs_background": "light"
     },
     "output_type": "display_data"
    }
   ],
   "source": [
    "sns.scatterplot(x=hosts['game_year'],y=hosts['season_days'])"
   ]
  },
  {
   "cell_type": "code",
   "execution_count": 52,
   "id": "5976e673",
   "metadata": {},
   "outputs": [
    {
     "data": {
      "text/plain": [
       "<AxesSubplot:xlabel='game_season', ylabel='count'>"
      ]
     },
     "execution_count": 52,
     "metadata": {},
     "output_type": "execute_result"
    },
    {
     "data": {
      "image/png": "[encoded data removed]",
      "text/plain": [
       "<Figure size 432x288 with 1 Axes>"
      ]
     },
     "metadata": {
      "needs_background": "light"
     },
     "output_type": "display_data"
    }
   ],
   "source": [
    "sns.countplot(x=hosts['game_season'])"
   ]
  },
  {
   "cell_type": "markdown",
   "id": "6f978839",
   "metadata": {},
   "source": [
    "### Medals"
   ]
  },
  {
   "cell_type": "code",
   "execution_count": 53,
   "id": "c7cdeba2",
   "metadata": {
    "scrolled": true
   },
   "outputs": [
    {
     "data": {
      "text/html": [
       "<div>\n",
       "<style scoped>\n",
       "    .dataframe tbody tr th:only-of-type {\n",
       "        vertical-align: middle;\n",
       "    }\n",
       "\n",
       "    .dataframe tbody tr th {\n",
       "        vertical-align: top;\n",
       "    }\n",
       "\n",
       "    .dataframe thead th {\n",
       "        text-align: right;\n",
       "    }\n",
       "</style>\n",
       "<table border=\"1\" class=\"dataframe\">\n",
       "  <thead>\n",
       "    <tr style=\"text-align: right;\">\n",
       "      <th></th>\n",
       "      <th>discipline_title</th>\n",
       "      <th>slug_game</th>\n",
       "      <th>event_title</th>\n",
       "      <th>event_gender</th>\n",
       "      <th>medal_type</th>\n",
       "      <th>participant_type</th>\n",
       "      <th>participant_title</th>\n",
       "      <th>athlete_url</th>\n",
       "      <th>athlete_full_name</th>\n",
       "      <th>country_name</th>\n",
       "      <th>country_code</th>\n",
       "      <th>country_3_letter_code</th>\n",
       "    </tr>\n",
       "  </thead>\n",
       "  <tbody>\n",
       "    <tr>\n",
       "      <th>0</th>\n",
       "      <td>Curling</td>\n",
       "      <td>beijing-2022</td>\n",
       "      <td>Mixed Doubles</td>\n",
       "      <td>Mixed</td>\n",
       "      <td>GOLD</td>\n",
       "      <td>GameTeam</td>\n",
       "      <td>Italy</td>\n",
       "      <td>https://olympics.com/en/athletes/stefania-cons...</td>\n",
       "      <td>Stefania CONSTANTINI</td>\n",
       "      <td>Italy</td>\n",
       "      <td>IT</td>\n",
       "      <td>ITA</td>\n",
       "    </tr>\n",
       "    <tr>\n",
       "      <th>1</th>\n",
       "      <td>Curling</td>\n",
       "      <td>beijing-2022</td>\n",
       "      <td>Mixed Doubles</td>\n",
       "      <td>Mixed</td>\n",
       "      <td>GOLD</td>\n",
       "      <td>GameTeam</td>\n",
       "      <td>Italy</td>\n",
       "      <td>https://olympics.com/en/athletes/amos-mosaner</td>\n",
       "      <td>Amos MOSANER</td>\n",
       "      <td>Italy</td>\n",
       "      <td>IT</td>\n",
       "      <td>ITA</td>\n",
       "    </tr>\n",
       "    <tr>\n",
       "      <th>2</th>\n",
       "      <td>Curling</td>\n",
       "      <td>beijing-2022</td>\n",
       "      <td>Mixed Doubles</td>\n",
       "      <td>Mixed</td>\n",
       "      <td>SILVER</td>\n",
       "      <td>GameTeam</td>\n",
       "      <td>Norway</td>\n",
       "      <td>https://olympics.com/en/athletes/kristin-skaslien</td>\n",
       "      <td>Kristin SKASLIEN</td>\n",
       "      <td>Norway</td>\n",
       "      <td>NO</td>\n",
       "      <td>NOR</td>\n",
       "    </tr>\n",
       "    <tr>\n",
       "      <th>3</th>\n",
       "      <td>Curling</td>\n",
       "      <td>beijing-2022</td>\n",
       "      <td>Mixed Doubles</td>\n",
       "      <td>Mixed</td>\n",
       "      <td>SILVER</td>\n",
       "      <td>GameTeam</td>\n",
       "      <td>Norway</td>\n",
       "      <td>https://olympics.com/en/athletes/magnus-nedreg...</td>\n",
       "      <td>Magnus NEDREGOTTEN</td>\n",
       "      <td>Norway</td>\n",
       "      <td>NO</td>\n",
       "      <td>NOR</td>\n",
       "    </tr>\n",
       "    <tr>\n",
       "      <th>4</th>\n",
       "      <td>Curling</td>\n",
       "      <td>beijing-2022</td>\n",
       "      <td>Mixed Doubles</td>\n",
       "      <td>Mixed</td>\n",
       "      <td>BRONZE</td>\n",
       "      <td>GameTeam</td>\n",
       "      <td>Sweden</td>\n",
       "      <td>https://olympics.com/en/athletes/almida-de-val</td>\n",
       "      <td>Almida DE VAL</td>\n",
       "      <td>Sweden</td>\n",
       "      <td>SE</td>\n",
       "      <td>SWE</td>\n",
       "    </tr>\n",
       "  </tbody>\n",
       "</table>\n",
       "</div>"
      ],
      "text/plain": [
       "  discipline_title     slug_game    event_title event_gender medal_type  \\\n",
       "0          Curling  beijing-2022  Mixed Doubles        Mixed       GOLD   \n",
       "1          Curling  beijing-2022  Mixed Doubles        Mixed       GOLD   \n",
       "2          Curling  beijing-2022  Mixed Doubles        Mixed     SILVER   \n",
       "3          Curling  beijing-2022  Mixed Doubles        Mixed     SILVER   \n",
       "4          Curling  beijing-2022  Mixed Doubles        Mixed     BRONZE   \n",
       "\n",
       "  participant_type participant_title  \\\n",
       "0         GameTeam             Italy   \n",
       "1         GameTeam             Italy   \n",
       "2         GameTeam            Norway   \n",
       "3         GameTeam            Norway   \n",
       "4         GameTeam            Sweden   \n",
       "\n",
       "                                         athlete_url     athlete_full_name  \\\n",
       "0  https://olympics.com/en/athletes/stefania-cons...  Stefania CONSTANTINI   \n",
       "1      https://olympics.com/en/athletes/amos-mosaner          Amos MOSANER   \n",
       "2  https://olympics.com/en/athletes/kristin-skaslien      Kristin SKASLIEN   \n",
       "3  https://olympics.com/en/athletes/magnus-nedreg...    Magnus NEDREGOTTEN   \n",
       "4     https://olympics.com/en/athletes/almida-de-val         Almida DE VAL   \n",
       "\n",
       "  country_name country_code country_3_letter_code  \n",
       "0        Italy           IT                   ITA  \n",
       "1        Italy           IT                   ITA  \n",
       "2       Norway           NO                   NOR  \n",
       "3       Norway           NO                   NOR  \n",
       "4       Sweden           SE                   SWE  "
      ]
     },
     "execution_count": 53,
     "metadata": {},
     "output_type": "execute_result"
    }
   ],
   "source": [
    "medals.head()"
   ]
  },
  {
   "cell_type": "code",
   "execution_count": null,
   "id": "247321bd",
   "metadata": {},
   "outputs": [],
   "source": []
  },
  {
   "cell_type": "code",
   "execution_count": 54,
   "id": "0e7c2d0a",
   "metadata": {},
   "outputs": [
    {
     "name": "stdout",
     "output_type": "stream",
     "text": [
      "<class 'pandas.core.frame.DataFrame'>\n",
      "RangeIndex: 21697 entries, 0 to 21696\n",
      "Data columns (total 12 columns):\n",
      " #   Column                 Non-Null Count  Dtype \n",
      "---  ------                 --------------  ----- \n",
      " 0   discipline_title       21697 non-null  object\n",
      " 1   slug_game              21697 non-null  object\n",
      " 2   event_title            21697 non-null  object\n",
      " 3   event_gender           21697 non-null  object\n",
      " 4   medal_type             21697 non-null  object\n",
      " 5   participant_type       21697 non-null  object\n",
      " 6   participant_title      6584 non-null   object\n",
      " 7   athlete_url            17027 non-null  object\n",
      " 8   athlete_full_name      18073 non-null  object\n",
      " 9   country_name           21697 non-null  object\n",
      " 10  country_code           20195 non-null  object\n",
      " 11  country_3_letter_code  21697 non-null  object\n",
      "dtypes: object(12)\n",
      "memory usage: 2.0+ MB\n"
     ]
    }
   ],
   "source": [
    "medals.info()"
   ]
  },
  {
   "cell_type": "code",
   "execution_count": 55,
   "id": "35e3ea53",
   "metadata": {},
   "outputs": [
    {
     "data": {
      "text/html": [
       "<div>\n",
       "<style scoped>\n",
       "    .dataframe tbody tr th:only-of-type {\n",
       "        vertical-align: middle;\n",
       "    }\n",
       "\n",
       "    .dataframe tbody tr th {\n",
       "        vertical-align: top;\n",
       "    }\n",
       "\n",
       "    .dataframe thead th {\n",
       "        text-align: right;\n",
       "    }\n",
       "</style>\n",
       "<table border=\"1\" class=\"dataframe\">\n",
       "  <thead>\n",
       "    <tr style=\"text-align: right;\">\n",
       "      <th></th>\n",
       "      <th>discipline_title</th>\n",
       "      <th>slug_game</th>\n",
       "      <th>event_title</th>\n",
       "      <th>event_gender</th>\n",
       "      <th>medal_type</th>\n",
       "      <th>participant_type</th>\n",
       "      <th>participant_title</th>\n",
       "      <th>athlete_url</th>\n",
       "      <th>athlete_full_name</th>\n",
       "      <th>country_name</th>\n",
       "      <th>country_code</th>\n",
       "      <th>country_3_letter_code</th>\n",
       "    </tr>\n",
       "  </thead>\n",
       "  <tbody>\n",
       "    <tr>\n",
       "      <th>count</th>\n",
       "      <td>21697</td>\n",
       "      <td>21697</td>\n",
       "      <td>21697</td>\n",
       "      <td>21697</td>\n",
       "      <td>21697</td>\n",
       "      <td>21697</td>\n",
       "      <td>6584</td>\n",
       "      <td>17027</td>\n",
       "      <td>18073</td>\n",
       "      <td>21697</td>\n",
       "      <td>20195</td>\n",
       "      <td>21697</td>\n",
       "    </tr>\n",
       "    <tr>\n",
       "      <th>unique</th>\n",
       "      <td>86</td>\n",
       "      <td>53</td>\n",
       "      <td>1436</td>\n",
       "      <td>4</td>\n",
       "      <td>3</td>\n",
       "      <td>2</td>\n",
       "      <td>493</td>\n",
       "      <td>12116</td>\n",
       "      <td>12895</td>\n",
       "      <td>154</td>\n",
       "      <td>143</td>\n",
       "      <td>154</td>\n",
       "    </tr>\n",
       "    <tr>\n",
       "      <th>top</th>\n",
       "      <td>Athletics</td>\n",
       "      <td>tokyo-2020</td>\n",
       "      <td>Individual men</td>\n",
       "      <td>Men</td>\n",
       "      <td>BRONZE</td>\n",
       "      <td>Athlete</td>\n",
       "      <td>United States team</td>\n",
       "      <td>https://olympics.com/en/athletes/michael-phelp...</td>\n",
       "      <td>Michael PHELPS</td>\n",
       "      <td>United States of America</td>\n",
       "      <td>US</td>\n",
       "      <td>USA</td>\n",
       "    </tr>\n",
       "    <tr>\n",
       "      <th>freq</th>\n",
       "      <td>3080</td>\n",
       "      <td>1188</td>\n",
       "      <td>215</td>\n",
       "      <td>13932</td>\n",
       "      <td>7529</td>\n",
       "      <td>15113</td>\n",
       "      <td>523</td>\n",
       "      <td>16</td>\n",
       "      <td>16</td>\n",
       "      <td>3094</td>\n",
       "      <td>3094</td>\n",
       "      <td>3094</td>\n",
       "    </tr>\n",
       "  </tbody>\n",
       "</table>\n",
       "</div>"
      ],
      "text/plain": [
       "       discipline_title   slug_game     event_title event_gender medal_type  \\\n",
       "count             21697       21697           21697        21697      21697   \n",
       "unique               86          53            1436            4          3   \n",
       "top           Athletics  tokyo-2020  Individual men          Men     BRONZE   \n",
       "freq               3080        1188             215        13932       7529   \n",
       "\n",
       "       participant_type   participant_title  \\\n",
       "count             21697                6584   \n",
       "unique                2                 493   \n",
       "top             Athlete  United States team   \n",
       "freq              15113                 523   \n",
       "\n",
       "                                              athlete_url athlete_full_name  \\\n",
       "count                                               17027             18073   \n",
       "unique                                              12116             12895   \n",
       "top     https://olympics.com/en/athletes/michael-phelp...    Michael PHELPS   \n",
       "freq                                                   16                16   \n",
       "\n",
       "                    country_name country_code country_3_letter_code  \n",
       "count                      21697        20195                 21697  \n",
       "unique                       154          143                   154  \n",
       "top     United States of America           US                   USA  \n",
       "freq                        3094         3094                  3094  "
      ]
     },
     "execution_count": 55,
     "metadata": {},
     "output_type": "execute_result"
    }
   ],
   "source": [
    "medals.describe()"
   ]
  },
  {
   "cell_type": "code",
   "execution_count": 56,
   "id": "31f37880",
   "metadata": {},
   "outputs": [],
   "source": [
    "medals=medals.drop(['participant_title','athlete_url','country_code'],axis=1)"
   ]
  },
  {
   "cell_type": "code",
   "execution_count": 57,
   "id": "ed3f8b35",
   "metadata": {},
   "outputs": [
    {
     "name": "stdout",
     "output_type": "stream",
     "text": [
      "<class 'pandas.core.frame.DataFrame'>\n",
      "RangeIndex: 21697 entries, 0 to 21696\n",
      "Data columns (total 9 columns):\n",
      " #   Column                 Non-Null Count  Dtype \n",
      "---  ------                 --------------  ----- \n",
      " 0   discipline_title       21697 non-null  object\n",
      " 1   slug_game              21697 non-null  object\n",
      " 2   event_title            21697 non-null  object\n",
      " 3   event_gender           21697 non-null  object\n",
      " 4   medal_type             21697 non-null  object\n",
      " 5   participant_type       21697 non-null  object\n",
      " 6   athlete_full_name      18073 non-null  object\n",
      " 7   country_name           21697 non-null  object\n",
      " 8   country_3_letter_code  21697 non-null  object\n",
      "dtypes: object(9)\n",
      "memory usage: 1.5+ MB\n"
     ]
    }
   ],
   "source": [
    "medals.info()"
   ]
  },
  {
   "cell_type": "code",
   "execution_count": 58,
   "id": "5465595a",
   "metadata": {},
   "outputs": [],
   "source": [
    "medals['athlete_full_name']=medals['athlete_full_name'].fillna('Name Not Available')"
   ]
  },
  {
   "cell_type": "code",
   "execution_count": 59,
   "id": "efeb7c23",
   "metadata": {},
   "outputs": [],
   "source": [
    "medals=medals.drop('country_3_letter_code',axis=1)"
   ]
  },
  {
   "cell_type": "code",
   "execution_count": 60,
   "id": "e2735216",
   "metadata": {
    "scrolled": true
   },
   "outputs": [
    {
     "name": "stdout",
     "output_type": "stream",
     "text": [
      "<class 'pandas.core.frame.DataFrame'>\n",
      "RangeIndex: 21697 entries, 0 to 21696\n",
      "Data columns (total 8 columns):\n",
      " #   Column             Non-Null Count  Dtype \n",
      "---  ------             --------------  ----- \n",
      " 0   discipline_title   21697 non-null  object\n",
      " 1   slug_game          21697 non-null  object\n",
      " 2   event_title        21697 non-null  object\n",
      " 3   event_gender       21697 non-null  object\n",
      " 4   medal_type         21697 non-null  object\n",
      " 5   participant_type   21697 non-null  object\n",
      " 6   athlete_full_name  21697 non-null  object\n",
      " 7   country_name       21697 non-null  object\n",
      "dtypes: object(8)\n",
      "memory usage: 1.3+ MB\n"
     ]
    }
   ],
   "source": [
    "medals.info()"
   ]
  },
  {
   "cell_type": "code",
   "execution_count": 61,
   "id": "825eb2b4",
   "metadata": {},
   "outputs": [
    {
     "data": {
      "text/html": [
       "<div>\n",
       "<style scoped>\n",
       "    .dataframe tbody tr th:only-of-type {\n",
       "        vertical-align: middle;\n",
       "    }\n",
       "\n",
       "    .dataframe tbody tr th {\n",
       "        vertical-align: top;\n",
       "    }\n",
       "\n",
       "    .dataframe thead th {\n",
       "        text-align: right;\n",
       "    }\n",
       "</style>\n",
       "<table border=\"1\" class=\"dataframe\">\n",
       "  <thead>\n",
       "    <tr style=\"text-align: right;\">\n",
       "      <th></th>\n",
       "      <th>discipline_title</th>\n",
       "      <th>slug_game</th>\n",
       "      <th>event_title</th>\n",
       "      <th>event_gender</th>\n",
       "      <th>medal_type</th>\n",
       "      <th>participant_type</th>\n",
       "      <th>athlete_full_name</th>\n",
       "      <th>country_name</th>\n",
       "    </tr>\n",
       "  </thead>\n",
       "  <tbody>\n",
       "    <tr>\n",
       "      <th>0</th>\n",
       "      <td>Curling</td>\n",
       "      <td>beijing-2022</td>\n",
       "      <td>Mixed Doubles</td>\n",
       "      <td>Mixed</td>\n",
       "      <td>GOLD</td>\n",
       "      <td>GameTeam</td>\n",
       "      <td>Stefania CONSTANTINI</td>\n",
       "      <td>Italy</td>\n",
       "    </tr>\n",
       "    <tr>\n",
       "      <th>1</th>\n",
       "      <td>Curling</td>\n",
       "      <td>beijing-2022</td>\n",
       "      <td>Mixed Doubles</td>\n",
       "      <td>Mixed</td>\n",
       "      <td>GOLD</td>\n",
       "      <td>GameTeam</td>\n",
       "      <td>Amos MOSANER</td>\n",
       "      <td>Italy</td>\n",
       "    </tr>\n",
       "    <tr>\n",
       "      <th>2</th>\n",
       "      <td>Curling</td>\n",
       "      <td>beijing-2022</td>\n",
       "      <td>Mixed Doubles</td>\n",
       "      <td>Mixed</td>\n",
       "      <td>SILVER</td>\n",
       "      <td>GameTeam</td>\n",
       "      <td>Kristin SKASLIEN</td>\n",
       "      <td>Norway</td>\n",
       "    </tr>\n",
       "    <tr>\n",
       "      <th>3</th>\n",
       "      <td>Curling</td>\n",
       "      <td>beijing-2022</td>\n",
       "      <td>Mixed Doubles</td>\n",
       "      <td>Mixed</td>\n",
       "      <td>SILVER</td>\n",
       "      <td>GameTeam</td>\n",
       "      <td>Magnus NEDREGOTTEN</td>\n",
       "      <td>Norway</td>\n",
       "    </tr>\n",
       "    <tr>\n",
       "      <th>4</th>\n",
       "      <td>Curling</td>\n",
       "      <td>beijing-2022</td>\n",
       "      <td>Mixed Doubles</td>\n",
       "      <td>Mixed</td>\n",
       "      <td>BRONZE</td>\n",
       "      <td>GameTeam</td>\n",
       "      <td>Almida DE VAL</td>\n",
       "      <td>Sweden</td>\n",
       "    </tr>\n",
       "  </tbody>\n",
       "</table>\n",
       "</div>"
      ],
      "text/plain": [
       "  discipline_title     slug_game    event_title event_gender medal_type  \\\n",
       "0          Curling  beijing-2022  Mixed Doubles        Mixed       GOLD   \n",
       "1          Curling  beijing-2022  Mixed Doubles        Mixed       GOLD   \n",
       "2          Curling  beijing-2022  Mixed Doubles        Mixed     SILVER   \n",
       "3          Curling  beijing-2022  Mixed Doubles        Mixed     SILVER   \n",
       "4          Curling  beijing-2022  Mixed Doubles        Mixed     BRONZE   \n",
       "\n",
       "  participant_type     athlete_full_name country_name  \n",
       "0         GameTeam  Stefania CONSTANTINI        Italy  \n",
       "1         GameTeam          Amos MOSANER        Italy  \n",
       "2         GameTeam      Kristin SKASLIEN       Norway  \n",
       "3         GameTeam    Magnus NEDREGOTTEN       Norway  \n",
       "4         GameTeam         Almida DE VAL       Sweden  "
      ]
     },
     "execution_count": 61,
     "metadata": {},
     "output_type": "execute_result"
    }
   ],
   "source": [
    "medals.head()"
   ]
  },
  {
   "cell_type": "code",
   "execution_count": 62,
   "id": "89d34e95",
   "metadata": {},
   "outputs": [],
   "source": [
    "medals['game_location']=medals['slug_game'].apply(lambda x:x.split('-')[0])"
   ]
  },
  {
   "cell_type": "code",
   "execution_count": 63,
   "id": "4c493216",
   "metadata": {},
   "outputs": [],
   "source": [
    "medals['game_year']=medals['slug_game'].apply(lambda x:x.split('-')[-1])"
   ]
  },
  {
   "cell_type": "code",
   "execution_count": 64,
   "id": "ddb4a55b",
   "metadata": {},
   "outputs": [],
   "source": [
    "medals=medals.drop('slug_game',axis=1)"
   ]
  },
  {
   "cell_type": "code",
   "execution_count": 65,
   "id": "73489515",
   "metadata": {
    "scrolled": true
   },
   "outputs": [
    {
     "data": {
      "text/html": [
       "<div>\n",
       "<style scoped>\n",
       "    .dataframe tbody tr th:only-of-type {\n",
       "        vertical-align: middle;\n",
       "    }\n",
       "\n",
       "    .dataframe tbody tr th {\n",
       "        vertical-align: top;\n",
       "    }\n",
       "\n",
       "    .dataframe thead th {\n",
       "        text-align: right;\n",
       "    }\n",
       "</style>\n",
       "<table border=\"1\" class=\"dataframe\">\n",
       "  <thead>\n",
       "    <tr style=\"text-align: right;\">\n",
       "      <th></th>\n",
       "      <th>discipline_title</th>\n",
       "      <th>event_title</th>\n",
       "      <th>event_gender</th>\n",
       "      <th>medal_type</th>\n",
       "      <th>participant_type</th>\n",
       "      <th>athlete_full_name</th>\n",
       "      <th>country_name</th>\n",
       "      <th>game_location</th>\n",
       "      <th>game_year</th>\n",
       "    </tr>\n",
       "  </thead>\n",
       "  <tbody>\n",
       "    <tr>\n",
       "      <th>0</th>\n",
       "      <td>Curling</td>\n",
       "      <td>Mixed Doubles</td>\n",
       "      <td>Mixed</td>\n",
       "      <td>GOLD</td>\n",
       "      <td>GameTeam</td>\n",
       "      <td>Stefania CONSTANTINI</td>\n",
       "      <td>Italy</td>\n",
       "      <td>beijing</td>\n",
       "      <td>2022</td>\n",
       "    </tr>\n",
       "    <tr>\n",
       "      <th>1</th>\n",
       "      <td>Curling</td>\n",
       "      <td>Mixed Doubles</td>\n",
       "      <td>Mixed</td>\n",
       "      <td>GOLD</td>\n",
       "      <td>GameTeam</td>\n",
       "      <td>Amos MOSANER</td>\n",
       "      <td>Italy</td>\n",
       "      <td>beijing</td>\n",
       "      <td>2022</td>\n",
       "    </tr>\n",
       "    <tr>\n",
       "      <th>2</th>\n",
       "      <td>Curling</td>\n",
       "      <td>Mixed Doubles</td>\n",
       "      <td>Mixed</td>\n",
       "      <td>SILVER</td>\n",
       "      <td>GameTeam</td>\n",
       "      <td>Kristin SKASLIEN</td>\n",
       "      <td>Norway</td>\n",
       "      <td>beijing</td>\n",
       "      <td>2022</td>\n",
       "    </tr>\n",
       "    <tr>\n",
       "      <th>3</th>\n",
       "      <td>Curling</td>\n",
       "      <td>Mixed Doubles</td>\n",
       "      <td>Mixed</td>\n",
       "      <td>SILVER</td>\n",
       "      <td>GameTeam</td>\n",
       "      <td>Magnus NEDREGOTTEN</td>\n",
       "      <td>Norway</td>\n",
       "      <td>beijing</td>\n",
       "      <td>2022</td>\n",
       "    </tr>\n",
       "    <tr>\n",
       "      <th>4</th>\n",
       "      <td>Curling</td>\n",
       "      <td>Mixed Doubles</td>\n",
       "      <td>Mixed</td>\n",
       "      <td>BRONZE</td>\n",
       "      <td>GameTeam</td>\n",
       "      <td>Almida DE VAL</td>\n",
       "      <td>Sweden</td>\n",
       "      <td>beijing</td>\n",
       "      <td>2022</td>\n",
       "    </tr>\n",
       "  </tbody>\n",
       "</table>\n",
       "</div>"
      ],
      "text/plain": [
       "  discipline_title    event_title event_gender medal_type participant_type  \\\n",
       "0          Curling  Mixed Doubles        Mixed       GOLD         GameTeam   \n",
       "1          Curling  Mixed Doubles        Mixed       GOLD         GameTeam   \n",
       "2          Curling  Mixed Doubles        Mixed     SILVER         GameTeam   \n",
       "3          Curling  Mixed Doubles        Mixed     SILVER         GameTeam   \n",
       "4          Curling  Mixed Doubles        Mixed     BRONZE         GameTeam   \n",
       "\n",
       "      athlete_full_name country_name game_location game_year  \n",
       "0  Stefania CONSTANTINI        Italy       beijing      2022  \n",
       "1          Amos MOSANER        Italy       beijing      2022  \n",
       "2      Kristin SKASLIEN       Norway       beijing      2022  \n",
       "3    Magnus NEDREGOTTEN       Norway       beijing      2022  \n",
       "4         Almida DE VAL       Sweden       beijing      2022  "
      ]
     },
     "execution_count": 65,
     "metadata": {},
     "output_type": "execute_result"
    }
   ],
   "source": [
    "medals.head()"
   ]
  },
  {
   "cell_type": "code",
   "execution_count": 66,
   "id": "db653c29",
   "metadata": {},
   "outputs": [
    {
     "data": {
      "text/plain": [
       "United States of America      1222\n",
       "Soviet Union                   510\n",
       "Germany                        385\n",
       "People's Republic of China     333\n",
       "Great Britain                  332\n",
       "Name: country_name, dtype: int64"
      ]
     },
     "execution_count": 66,
     "metadata": {},
     "output_type": "execute_result"
    }
   ],
   "source": [
    "#top 5 coutntries with gold medals?\n",
    "\n",
    "medals[medals['medal_type']=='GOLD']['country_name'].value_counts().head(5)"
   ]
  },
  {
   "cell_type": "markdown",
   "id": "411f0539",
   "metadata": {},
   "source": [
    "Google is showing some different result! may be there is some problem with data."
   ]
  },
  {
   "cell_type": "code",
   "execution_count": 67,
   "id": "04824671",
   "metadata": {},
   "outputs": [
    {
     "data": {
      "text/plain": [
       "Athletics              342\n",
       "Swimming               258\n",
       "Shooting                57\n",
       "Wrestling               55\n",
       "Boxing                  50\n",
       "Diving                  48\n",
       "Rowing                  42\n",
       "Gymnastics Artistic     36\n",
       "Tennis                  34\n",
       "Speed skating           30\n",
       "Name: discipline_title, dtype: int64"
      ]
     },
     "execution_count": 67,
     "metadata": {},
     "output_type": "execute_result"
    }
   ],
   "source": [
    "#in which (top 10) sport USA has won most golds?\n",
    "\n",
    "medals[(medals['medal_type']=='GOLD') & (medals['country_name']=='United States of America')]['discipline_title'].value_counts().head(10)"
   ]
  },
  {
   "cell_type": "code",
   "execution_count": 68,
   "id": "66b98d88",
   "metadata": {},
   "outputs": [
    {
     "data": {
      "text/plain": [
       "1984    91\n",
       "1904    79\n",
       "1924    50\n",
       "1932    50\n",
       "2012    50\n",
       "2016    47\n",
       "1968    47\n",
       "1996    46\n",
       "1992    46\n",
       "1952    44\n",
       "1948    43\n",
       "1920    42\n",
       "1988    42\n",
       "2000    40\n",
       "2020    40\n",
       "2008    39\n",
       "2004    38\n",
       "1964    37\n",
       "1976    37\n",
       "1960    37\n",
       "1956    36\n",
       "1972    36\n",
       "1936    26\n",
       "1912    25\n",
       "1928    25\n",
       "1908    23\n",
       "1900    19\n",
       "2002    11\n",
       "1896    11\n",
       "2014    10\n",
       "2018    10\n",
       "2022     9\n",
       "2006     9\n",
       "2010     9\n",
       "1994     6\n",
       "1998     6\n",
       "1980     6\n",
       "Name: game_year, dtype: int64"
      ]
     },
     "execution_count": 68,
     "metadata": {},
     "output_type": "execute_result"
    }
   ],
   "source": [
    "medals[(medals['medal_type']=='GOLD') & (medals['country_name']=='United States of America')]['game_year'].value_counts()"
   ]
  },
  {
   "cell_type": "code",
   "execution_count": 69,
   "id": "5a442403",
   "metadata": {},
   "outputs": [
    {
     "data": {
      "image/png": "[encoded data removed]",
      "text/plain": [
       "<Figure size 3025x847 with 1 Axes>"
      ]
     },
     "metadata": {
      "needs_background": "light"
     },
     "output_type": "display_data"
    }
   ],
   "source": [
    "#USA Gold medals per year\n",
    "\n",
    "plt.figure(figsize=(25,7),dpi=121)\n",
    "sns.histplot(medals[(medals['medal_type']=='GOLD') & (medals['country_name']=='United States of America')]['game_year'],kde=True)\n",
    "plt.tight_layout()\n",
    "plt.savefig('gold performance.png')"
   ]
  },
  {
   "cell_type": "markdown",
   "id": "05e9efe0",
   "metadata": {},
   "source": [
    "  Strange! After 1992 USA has performed well on alternate seasons"
   ]
  },
  {
   "cell_type": "code",
   "execution_count": 70,
   "id": "b71fce25",
   "metadata": {},
   "outputs": [
    {
     "data": {
      "text/plain": [
       "game_year  medal_type\n",
       "1896       BRONZE         2\n",
       "           GOLD          11\n",
       "           SILVER         7\n",
       "1900       BRONZE        15\n",
       "           GOLD          19\n",
       "                         ..\n",
       "2020       GOLD          40\n",
       "           SILVER        44\n",
       "2022       BRONZE         9\n",
       "           GOLD           9\n",
       "           SILVER        10\n",
       "Name: discipline_title, Length: 111, dtype: int64"
      ]
     },
     "execution_count": 70,
     "metadata": {},
     "output_type": "execute_result"
    }
   ],
   "source": [
    "medals[medals['country_name']=='United States of America'].groupby(['game_year','medal_type']).count()['discipline_title']"
   ]
  },
  {
   "cell_type": "code",
   "execution_count": 71,
   "id": "a0278a89",
   "metadata": {},
   "outputs": [
    {
     "data": {
      "image/png": "[encoded data removed]",
      "text/plain": [
       "<Figure size 3025x1815 with 1 Axes>"
      ]
     },
     "metadata": {
      "needs_background": "light"
     },
     "output_type": "display_data"
    }
   ],
   "source": [
    "plt.figure(figsize=(25,15),dpi=121)\n",
    "sns.histplot(x=medals['game_year'],hue=medals['medal_type'])\n",
    "plt.tight_layout()\n"
   ]
  },
  {
   "cell_type": "code",
   "execution_count": 72,
   "id": "a375192f",
   "metadata": {},
   "outputs": [
    {
     "data": {
      "text/plain": [
       "Athletics              2052\n",
       "Swimming               1174\n",
       "Wrestling               928\n",
       "Boxing                  731\n",
       "Rowing                  716\n",
       "Gymnastics Artistic     641\n",
       "Shooting                581\n",
       "Canoe Sprint            533\n",
       "Sailing                 507\n",
       "Judo                    455\n",
       "Name: discipline_title, dtype: int64"
      ]
     },
     "execution_count": 72,
     "metadata": {},
     "output_type": "execute_result"
    }
   ],
   "source": [
    "# in Which (Top10) games it was hard to win gold medal\n",
    "\n",
    "medals[medals['medal_type']!='GOLD']['discipline_title'].value_counts().head(10)"
   ]
  },
  {
   "cell_type": "markdown",
   "id": "3c7d9a88",
   "metadata": {},
   "source": [
    "### Results"
   ]
  },
  {
   "cell_type": "code",
   "execution_count": 144,
   "id": "edd0e0da",
   "metadata": {},
   "outputs": [],
   "source": [
    "import pandas as pd"
   ]
  },
  {
   "cell_type": "code",
   "execution_count": 145,
   "id": "7cce9ab3",
   "metadata": {},
   "outputs": [],
   "source": [
    "results=pd.read_csv(\"olympic_results.csv\")"
   ]
  },
  {
   "cell_type": "code",
   "execution_count": 146,
   "id": "92abe051",
   "metadata": {
    "scrolled": true
   },
   "outputs": [
    {
     "data": {
      "text/html": [
       "<div>\n",
       "<style scoped>\n",
       "    .dataframe tbody tr th:only-of-type {\n",
       "        vertical-align: middle;\n",
       "    }\n",
       "\n",
       "    .dataframe tbody tr th {\n",
       "        vertical-align: top;\n",
       "    }\n",
       "\n",
       "    .dataframe thead th {\n",
       "        text-align: right;\n",
       "    }\n",
       "</style>\n",
       "<table border=\"1\" class=\"dataframe\">\n",
       "  <thead>\n",
       "    <tr style=\"text-align: right;\">\n",
       "      <th></th>\n",
       "      <th>discipline_title</th>\n",
       "      <th>event_title</th>\n",
       "      <th>slug_game</th>\n",
       "      <th>participant_type</th>\n",
       "      <th>medal_type</th>\n",
       "      <th>athletes</th>\n",
       "      <th>rank_equal</th>\n",
       "      <th>rank_position</th>\n",
       "      <th>country_name</th>\n",
       "      <th>country_code</th>\n",
       "      <th>country_3_letter_code</th>\n",
       "      <th>athlete_url</th>\n",
       "      <th>athlete_full_name</th>\n",
       "      <th>value_unit</th>\n",
       "      <th>value_type</th>\n",
       "    </tr>\n",
       "  </thead>\n",
       "  <tbody>\n",
       "    <tr>\n",
       "      <th>0</th>\n",
       "      <td>Curling</td>\n",
       "      <td>Mixed Doubles</td>\n",
       "      <td>beijing-2022</td>\n",
       "      <td>GameTeam</td>\n",
       "      <td>GOLD</td>\n",
       "      <td>[('Stefania CONSTANTINI', 'https://olympics.co...</td>\n",
       "      <td>False</td>\n",
       "      <td>1</td>\n",
       "      <td>Italy</td>\n",
       "      <td>IT</td>\n",
       "      <td>ITA</td>\n",
       "      <td>NaN</td>\n",
       "      <td>NaN</td>\n",
       "      <td>NaN</td>\n",
       "      <td>NaN</td>\n",
       "    </tr>\n",
       "    <tr>\n",
       "      <th>1</th>\n",
       "      <td>Curling</td>\n",
       "      <td>Mixed Doubles</td>\n",
       "      <td>beijing-2022</td>\n",
       "      <td>GameTeam</td>\n",
       "      <td>SILVER</td>\n",
       "      <td>[('Kristin SKASLIEN', 'https://olympics.com/en...</td>\n",
       "      <td>False</td>\n",
       "      <td>2</td>\n",
       "      <td>Norway</td>\n",
       "      <td>NO</td>\n",
       "      <td>NOR</td>\n",
       "      <td>NaN</td>\n",
       "      <td>NaN</td>\n",
       "      <td>NaN</td>\n",
       "      <td>NaN</td>\n",
       "    </tr>\n",
       "    <tr>\n",
       "      <th>2</th>\n",
       "      <td>Curling</td>\n",
       "      <td>Mixed Doubles</td>\n",
       "      <td>beijing-2022</td>\n",
       "      <td>GameTeam</td>\n",
       "      <td>BRONZE</td>\n",
       "      <td>[('Almida DE VAL', 'https://olympics.com/en/at...</td>\n",
       "      <td>False</td>\n",
       "      <td>3</td>\n",
       "      <td>Sweden</td>\n",
       "      <td>SE</td>\n",
       "      <td>SWE</td>\n",
       "      <td>NaN</td>\n",
       "      <td>NaN</td>\n",
       "      <td>NaN</td>\n",
       "      <td>NaN</td>\n",
       "    </tr>\n",
       "    <tr>\n",
       "      <th>3</th>\n",
       "      <td>Curling</td>\n",
       "      <td>Mixed Doubles</td>\n",
       "      <td>beijing-2022</td>\n",
       "      <td>GameTeam</td>\n",
       "      <td>NaN</td>\n",
       "      <td>[('Jennifer DODDS', 'https://olympics.com/en/a...</td>\n",
       "      <td>False</td>\n",
       "      <td>4</td>\n",
       "      <td>Great Britain</td>\n",
       "      <td>GB</td>\n",
       "      <td>GBR</td>\n",
       "      <td>NaN</td>\n",
       "      <td>NaN</td>\n",
       "      <td>NaN</td>\n",
       "      <td>NaN</td>\n",
       "    </tr>\n",
       "    <tr>\n",
       "      <th>4</th>\n",
       "      <td>Curling</td>\n",
       "      <td>Mixed Doubles</td>\n",
       "      <td>beijing-2022</td>\n",
       "      <td>GameTeam</td>\n",
       "      <td>NaN</td>\n",
       "      <td>[('Rachel HOMAN', 'https://olympics.com/en/ath...</td>\n",
       "      <td>False</td>\n",
       "      <td>5</td>\n",
       "      <td>Canada</td>\n",
       "      <td>CA</td>\n",
       "      <td>CAN</td>\n",
       "      <td>NaN</td>\n",
       "      <td>NaN</td>\n",
       "      <td>NaN</td>\n",
       "      <td>NaN</td>\n",
       "    </tr>\n",
       "  </tbody>\n",
       "</table>\n",
       "</div>"
      ],
      "text/plain": [
       "  discipline_title    event_title     slug_game participant_type medal_type  \\\n",
       "0          Curling  Mixed Doubles  beijing-2022         GameTeam       GOLD   \n",
       "1          Curling  Mixed Doubles  beijing-2022         GameTeam     SILVER   \n",
       "2          Curling  Mixed Doubles  beijing-2022         GameTeam     BRONZE   \n",
       "3          Curling  Mixed Doubles  beijing-2022         GameTeam        NaN   \n",
       "4          Curling  Mixed Doubles  beijing-2022         GameTeam        NaN   \n",
       "\n",
       "                                            athletes rank_equal rank_position  \\\n",
       "0  [('Stefania CONSTANTINI', 'https://olympics.co...      False             1   \n",
       "1  [('Kristin SKASLIEN', 'https://olympics.com/en...      False             2   \n",
       "2  [('Almida DE VAL', 'https://olympics.com/en/at...      False             3   \n",
       "3  [('Jennifer DODDS', 'https://olympics.com/en/a...      False             4   \n",
       "4  [('Rachel HOMAN', 'https://olympics.com/en/ath...      False             5   \n",
       "\n",
       "    country_name country_code country_3_letter_code athlete_url  \\\n",
       "0          Italy           IT                   ITA         NaN   \n",
       "1         Norway           NO                   NOR         NaN   \n",
       "2         Sweden           SE                   SWE         NaN   \n",
       "3  Great Britain           GB                   GBR         NaN   \n",
       "4         Canada           CA                   CAN         NaN   \n",
       "\n",
       "  athlete_full_name value_unit value_type  \n",
       "0               NaN        NaN        NaN  \n",
       "1               NaN        NaN        NaN  \n",
       "2               NaN        NaN        NaN  \n",
       "3               NaN        NaN        NaN  \n",
       "4               NaN        NaN        NaN  "
      ]
     },
     "execution_count": 146,
     "metadata": {},
     "output_type": "execute_result"
    }
   ],
   "source": [
    "results.head()"
   ]
  },
  {
   "cell_type": "code",
   "execution_count": 147,
   "id": "4f59ad78",
   "metadata": {},
   "outputs": [
    {
     "name": "stdout",
     "output_type": "stream",
     "text": [
      "<class 'pandas.core.frame.DataFrame'>\n",
      "RangeIndex: 162804 entries, 0 to 162803\n",
      "Data columns (total 15 columns):\n",
      " #   Column                 Non-Null Count   Dtype \n",
      "---  ------                 --------------   ----- \n",
      " 0   discipline_title       162804 non-null  object\n",
      " 1   event_title            162804 non-null  object\n",
      " 2   slug_game              162804 non-null  object\n",
      " 3   participant_type       162804 non-null  object\n",
      " 4   medal_type             20206 non-null   object\n",
      " 5   athletes               7976 non-null    object\n",
      " 6   rank_equal             32526 non-null   object\n",
      " 7   rank_position          158926 non-null  object\n",
      " 8   country_name           162804 non-null  object\n",
      " 9   country_code           157768 non-null  object\n",
      " 10  country_3_letter_code  162804 non-null  object\n",
      " 11  athlete_url            129991 non-null  object\n",
      " 12  athlete_full_name      141646 non-null  object\n",
      " 13  value_unit             78646 non-null   object\n",
      " 14  value_type             90049 non-null   object\n",
      "dtypes: object(15)\n",
      "memory usage: 18.6+ MB\n"
     ]
    }
   ],
   "source": [
    "results.info()"
   ]
  },
  {
   "cell_type": "code",
   "execution_count": 148,
   "id": "9cfd5b39",
   "metadata": {},
   "outputs": [],
   "source": [
    "results=results.drop(['medal_type','athletes','rank_equal','value_unit','value_type','athlete_url','country_3_letter_code','country_code'],axis=1)"
   ]
  },
  {
   "cell_type": "code",
   "execution_count": 149,
   "id": "ef3ce526",
   "metadata": {},
   "outputs": [
    {
     "data": {
      "text/html": [
       "<div>\n",
       "<style scoped>\n",
       "    .dataframe tbody tr th:only-of-type {\n",
       "        vertical-align: middle;\n",
       "    }\n",
       "\n",
       "    .dataframe tbody tr th {\n",
       "        vertical-align: top;\n",
       "    }\n",
       "\n",
       "    .dataframe thead th {\n",
       "        text-align: right;\n",
       "    }\n",
       "</style>\n",
       "<table border=\"1\" class=\"dataframe\">\n",
       "  <thead>\n",
       "    <tr style=\"text-align: right;\">\n",
       "      <th></th>\n",
       "      <th>discipline_title</th>\n",
       "      <th>event_title</th>\n",
       "      <th>slug_game</th>\n",
       "      <th>participant_type</th>\n",
       "      <th>rank_position</th>\n",
       "      <th>country_name</th>\n",
       "      <th>athlete_full_name</th>\n",
       "    </tr>\n",
       "  </thead>\n",
       "  <tbody>\n",
       "    <tr>\n",
       "      <th>count</th>\n",
       "      <td>162804</td>\n",
       "      <td>162804</td>\n",
       "      <td>162804</td>\n",
       "      <td>162804</td>\n",
       "      <td>158926</td>\n",
       "      <td>162804</td>\n",
       "      <td>141646</td>\n",
       "    </tr>\n",
       "    <tr>\n",
       "      <th>unique</th>\n",
       "      <td>86</td>\n",
       "      <td>1567</td>\n",
       "      <td>53</td>\n",
       "      <td>2</td>\n",
       "      <td>193</td>\n",
       "      <td>238</td>\n",
       "      <td>75263</td>\n",
       "    </tr>\n",
       "    <tr>\n",
       "      <th>top</th>\n",
       "      <td>Athletics</td>\n",
       "      <td>individual mixed</td>\n",
       "      <td>rio-2016</td>\n",
       "      <td>Athlete</td>\n",
       "      <td>9</td>\n",
       "      <td>United States of America</td>\n",
       "      <td>Heikki SAVOLAINEN</td>\n",
       "    </tr>\n",
       "    <tr>\n",
       "      <th>freq</th>\n",
       "      <td>19259</td>\n",
       "      <td>2731</td>\n",
       "      <td>7672</td>\n",
       "      <td>141646</td>\n",
       "      <td>8279</td>\n",
       "      <td>11916</td>\n",
       "      <td>34</td>\n",
       "    </tr>\n",
       "  </tbody>\n",
       "</table>\n",
       "</div>"
      ],
      "text/plain": [
       "       discipline_title       event_title slug_game participant_type  \\\n",
       "count            162804            162804    162804           162804   \n",
       "unique               86              1567        53                2   \n",
       "top           Athletics  individual mixed  rio-2016          Athlete   \n",
       "freq              19259              2731      7672           141646   \n",
       "\n",
       "       rank_position              country_name  athlete_full_name  \n",
       "count         158926                    162804             141646  \n",
       "unique           193                       238              75263  \n",
       "top                9  United States of America  Heikki SAVOLAINEN  \n",
       "freq            8279                     11916                 34  "
      ]
     },
     "execution_count": 149,
     "metadata": {},
     "output_type": "execute_result"
    }
   ],
   "source": [
    "results.describe()"
   ]
  },
  {
   "cell_type": "code",
   "execution_count": 150,
   "id": "97bd71b7",
   "metadata": {
    "scrolled": true
   },
   "outputs": [
    {
     "name": "stdout",
     "output_type": "stream",
     "text": [
      "<class 'pandas.core.frame.DataFrame'>\n",
      "RangeIndex: 162804 entries, 0 to 162803\n",
      "Data columns (total 7 columns):\n",
      " #   Column             Non-Null Count   Dtype \n",
      "---  ------             --------------   ----- \n",
      " 0   discipline_title   162804 non-null  object\n",
      " 1   event_title        162804 non-null  object\n",
      " 2   slug_game          162804 non-null  object\n",
      " 3   participant_type   162804 non-null  object\n",
      " 4   rank_position      158926 non-null  object\n",
      " 5   country_name       162804 non-null  object\n",
      " 6   athlete_full_name  141646 non-null  object\n",
      "dtypes: object(7)\n",
      "memory usage: 8.7+ MB\n"
     ]
    }
   ],
   "source": [
    "results.info()"
   ]
  },
  {
   "cell_type": "code",
   "execution_count": 151,
   "id": "e20a700d",
   "metadata": {},
   "outputs": [],
   "source": [
    "results['athlete_full_name']=results['athlete_full_name'].fillna('Name Not Available',axis=0)"
   ]
  },
  {
   "cell_type": "code",
   "execution_count": 152,
   "id": "c469acd5",
   "metadata": {},
   "outputs": [
    {
     "name": "stdout",
     "output_type": "stream",
     "text": [
      "<class 'pandas.core.frame.DataFrame'>\n",
      "RangeIndex: 162804 entries, 0 to 162803\n",
      "Data columns (total 7 columns):\n",
      " #   Column             Non-Null Count   Dtype \n",
      "---  ------             --------------   ----- \n",
      " 0   discipline_title   162804 non-null  object\n",
      " 1   event_title        162804 non-null  object\n",
      " 2   slug_game          162804 non-null  object\n",
      " 3   participant_type   162804 non-null  object\n",
      " 4   rank_position      158926 non-null  object\n",
      " 5   country_name       162804 non-null  object\n",
      " 6   athlete_full_name  162804 non-null  object\n",
      "dtypes: object(7)\n",
      "memory usage: 8.7+ MB\n"
     ]
    }
   ],
   "source": [
    "results.info()"
   ]
  },
  {
   "cell_type": "code",
   "execution_count": 153,
   "id": "bc8c290e",
   "metadata": {},
   "outputs": [],
   "source": [
    "results['rank_position']=results['rank_position'].fillna(results['rank_position'].mode,axis=0)"
   ]
  },
  {
   "cell_type": "code",
   "execution_count": 154,
   "id": "eea8c463",
   "metadata": {},
   "outputs": [
    {
     "name": "stdout",
     "output_type": "stream",
     "text": [
      "<class 'pandas.core.frame.DataFrame'>\n",
      "RangeIndex: 162804 entries, 0 to 162803\n",
      "Data columns (total 7 columns):\n",
      " #   Column             Non-Null Count   Dtype \n",
      "---  ------             --------------   ----- \n",
      " 0   discipline_title   162804 non-null  object\n",
      " 1   event_title        162804 non-null  object\n",
      " 2   slug_game          162804 non-null  object\n",
      " 3   participant_type   162804 non-null  object\n",
      " 4   rank_position      162804 non-null  object\n",
      " 5   country_name       162804 non-null  object\n",
      " 6   athlete_full_name  162804 non-null  object\n",
      "dtypes: object(7)\n",
      "memory usage: 8.7+ MB\n"
     ]
    }
   ],
   "source": [
    "results.info()"
   ]
  },
  {
   "cell_type": "code",
   "execution_count": 155,
   "id": "40f198c0",
   "metadata": {},
   "outputs": [
    {
     "data": {
      "text/html": [
       "<div>\n",
       "<style scoped>\n",
       "    .dataframe tbody tr th:only-of-type {\n",
       "        vertical-align: middle;\n",
       "    }\n",
       "\n",
       "    .dataframe tbody tr th {\n",
       "        vertical-align: top;\n",
       "    }\n",
       "\n",
       "    .dataframe thead th {\n",
       "        text-align: right;\n",
       "    }\n",
       "</style>\n",
       "<table border=\"1\" class=\"dataframe\">\n",
       "  <thead>\n",
       "    <tr style=\"text-align: right;\">\n",
       "      <th></th>\n",
       "      <th>discipline_title</th>\n",
       "      <th>event_title</th>\n",
       "      <th>slug_game</th>\n",
       "      <th>participant_type</th>\n",
       "      <th>rank_position</th>\n",
       "      <th>country_name</th>\n",
       "      <th>athlete_full_name</th>\n",
       "    </tr>\n",
       "  </thead>\n",
       "  <tbody>\n",
       "    <tr>\n",
       "      <th>0</th>\n",
       "      <td>Curling</td>\n",
       "      <td>Mixed Doubles</td>\n",
       "      <td>beijing-2022</td>\n",
       "      <td>GameTeam</td>\n",
       "      <td>1</td>\n",
       "      <td>Italy</td>\n",
       "      <td>Name Not Available</td>\n",
       "    </tr>\n",
       "    <tr>\n",
       "      <th>1</th>\n",
       "      <td>Curling</td>\n",
       "      <td>Mixed Doubles</td>\n",
       "      <td>beijing-2022</td>\n",
       "      <td>GameTeam</td>\n",
       "      <td>2</td>\n",
       "      <td>Norway</td>\n",
       "      <td>Name Not Available</td>\n",
       "    </tr>\n",
       "    <tr>\n",
       "      <th>2</th>\n",
       "      <td>Curling</td>\n",
       "      <td>Mixed Doubles</td>\n",
       "      <td>beijing-2022</td>\n",
       "      <td>GameTeam</td>\n",
       "      <td>3</td>\n",
       "      <td>Sweden</td>\n",
       "      <td>Name Not Available</td>\n",
       "    </tr>\n",
       "    <tr>\n",
       "      <th>3</th>\n",
       "      <td>Curling</td>\n",
       "      <td>Mixed Doubles</td>\n",
       "      <td>beijing-2022</td>\n",
       "      <td>GameTeam</td>\n",
       "      <td>4</td>\n",
       "      <td>Great Britain</td>\n",
       "      <td>Name Not Available</td>\n",
       "    </tr>\n",
       "    <tr>\n",
       "      <th>4</th>\n",
       "      <td>Curling</td>\n",
       "      <td>Mixed Doubles</td>\n",
       "      <td>beijing-2022</td>\n",
       "      <td>GameTeam</td>\n",
       "      <td>5</td>\n",
       "      <td>Canada</td>\n",
       "      <td>Name Not Available</td>\n",
       "    </tr>\n",
       "  </tbody>\n",
       "</table>\n",
       "</div>"
      ],
      "text/plain": [
       "  discipline_title    event_title     slug_game participant_type  \\\n",
       "0          Curling  Mixed Doubles  beijing-2022         GameTeam   \n",
       "1          Curling  Mixed Doubles  beijing-2022         GameTeam   \n",
       "2          Curling  Mixed Doubles  beijing-2022         GameTeam   \n",
       "3          Curling  Mixed Doubles  beijing-2022         GameTeam   \n",
       "4          Curling  Mixed Doubles  beijing-2022         GameTeam   \n",
       "\n",
       "  rank_position   country_name   athlete_full_name  \n",
       "0             1          Italy  Name Not Available  \n",
       "1             2         Norway  Name Not Available  \n",
       "2             3         Sweden  Name Not Available  \n",
       "3             4  Great Britain  Name Not Available  \n",
       "4             5         Canada  Name Not Available  "
      ]
     },
     "execution_count": 155,
     "metadata": {},
     "output_type": "execute_result"
    }
   ],
   "source": [
    "results.head()"
   ]
  },
  {
   "cell_type": "code",
   "execution_count": 156,
   "id": "51a275d6",
   "metadata": {},
   "outputs": [],
   "source": [
    "results['game_year']=results['slug_game'].apply(lambda x:x.split('-')[-1])"
   ]
  },
  {
   "cell_type": "code",
   "execution_count": 157,
   "id": "749b4327",
   "metadata": {},
   "outputs": [
    {
     "data": {
      "text/html": [
       "<div>\n",
       "<style scoped>\n",
       "    .dataframe tbody tr th:only-of-type {\n",
       "        vertical-align: middle;\n",
       "    }\n",
       "\n",
       "    .dataframe tbody tr th {\n",
       "        vertical-align: top;\n",
       "    }\n",
       "\n",
       "    .dataframe thead th {\n",
       "        text-align: right;\n",
       "    }\n",
       "</style>\n",
       "<table border=\"1\" class=\"dataframe\">\n",
       "  <thead>\n",
       "    <tr style=\"text-align: right;\">\n",
       "      <th></th>\n",
       "      <th>discipline_title</th>\n",
       "      <th>event_title</th>\n",
       "      <th>slug_game</th>\n",
       "      <th>participant_type</th>\n",
       "      <th>rank_position</th>\n",
       "      <th>country_name</th>\n",
       "      <th>athlete_full_name</th>\n",
       "      <th>game_year</th>\n",
       "    </tr>\n",
       "  </thead>\n",
       "  <tbody>\n",
       "    <tr>\n",
       "      <th>0</th>\n",
       "      <td>Curling</td>\n",
       "      <td>Mixed Doubles</td>\n",
       "      <td>beijing-2022</td>\n",
       "      <td>GameTeam</td>\n",
       "      <td>1</td>\n",
       "      <td>Italy</td>\n",
       "      <td>Name Not Available</td>\n",
       "      <td>2022</td>\n",
       "    </tr>\n",
       "    <tr>\n",
       "      <th>1</th>\n",
       "      <td>Curling</td>\n",
       "      <td>Mixed Doubles</td>\n",
       "      <td>beijing-2022</td>\n",
       "      <td>GameTeam</td>\n",
       "      <td>2</td>\n",
       "      <td>Norway</td>\n",
       "      <td>Name Not Available</td>\n",
       "      <td>2022</td>\n",
       "    </tr>\n",
       "    <tr>\n",
       "      <th>2</th>\n",
       "      <td>Curling</td>\n",
       "      <td>Mixed Doubles</td>\n",
       "      <td>beijing-2022</td>\n",
       "      <td>GameTeam</td>\n",
       "      <td>3</td>\n",
       "      <td>Sweden</td>\n",
       "      <td>Name Not Available</td>\n",
       "      <td>2022</td>\n",
       "    </tr>\n",
       "    <tr>\n",
       "      <th>3</th>\n",
       "      <td>Curling</td>\n",
       "      <td>Mixed Doubles</td>\n",
       "      <td>beijing-2022</td>\n",
       "      <td>GameTeam</td>\n",
       "      <td>4</td>\n",
       "      <td>Great Britain</td>\n",
       "      <td>Name Not Available</td>\n",
       "      <td>2022</td>\n",
       "    </tr>\n",
       "    <tr>\n",
       "      <th>4</th>\n",
       "      <td>Curling</td>\n",
       "      <td>Mixed Doubles</td>\n",
       "      <td>beijing-2022</td>\n",
       "      <td>GameTeam</td>\n",
       "      <td>5</td>\n",
       "      <td>Canada</td>\n",
       "      <td>Name Not Available</td>\n",
       "      <td>2022</td>\n",
       "    </tr>\n",
       "    <tr>\n",
       "      <th>...</th>\n",
       "      <td>...</td>\n",
       "      <td>...</td>\n",
       "      <td>...</td>\n",
       "      <td>...</td>\n",
       "      <td>...</td>\n",
       "      <td>...</td>\n",
       "      <td>...</td>\n",
       "      <td>...</td>\n",
       "    </tr>\n",
       "    <tr>\n",
       "      <th>162799</th>\n",
       "      <td>Ski Jumping</td>\n",
       "      <td>Normal Hill Individual men</td>\n",
       "      <td>chamonix-1924</td>\n",
       "      <td>Athlete</td>\n",
       "      <td>DNS</td>\n",
       "      <td>Poland</td>\n",
       "      <td>Franciszek BUJAK</td>\n",
       "      <td>1924</td>\n",
       "    </tr>\n",
       "    <tr>\n",
       "      <th>162800</th>\n",
       "      <td>Ski Jumping</td>\n",
       "      <td>Normal Hill Individual men</td>\n",
       "      <td>chamonix-1924</td>\n",
       "      <td>Athlete</td>\n",
       "      <td>DNS</td>\n",
       "      <td>Poland</td>\n",
       "      <td>Henryk Mückenbrunn</td>\n",
       "      <td>1924</td>\n",
       "    </tr>\n",
       "    <tr>\n",
       "      <th>162801</th>\n",
       "      <td>Ski Jumping</td>\n",
       "      <td>Normal Hill Individual men</td>\n",
       "      <td>chamonix-1924</td>\n",
       "      <td>Athlete</td>\n",
       "      <td>DNS</td>\n",
       "      <td>Czechoslovakia</td>\n",
       "      <td>Milda Prokopec</td>\n",
       "      <td>1924</td>\n",
       "    </tr>\n",
       "    <tr>\n",
       "      <th>162802</th>\n",
       "      <td>Ski Jumping</td>\n",
       "      <td>Normal Hill Individual men</td>\n",
       "      <td>chamonix-1924</td>\n",
       "      <td>Athlete</td>\n",
       "      <td>DNS</td>\n",
       "      <td>United States of America</td>\n",
       "      <td>Sigurd Overby</td>\n",
       "      <td>1924</td>\n",
       "    </tr>\n",
       "    <tr>\n",
       "      <th>162803</th>\n",
       "      <td>Gymnastics Artistic</td>\n",
       "      <td>26th Federal Festival, Society and Association...</td>\n",
       "      <td>paris-1900</td>\n",
       "      <td>GameTeam</td>\n",
       "      <td>1</td>\n",
       "      <td>France</td>\n",
       "      <td>Name Not Available</td>\n",
       "      <td>1900</td>\n",
       "    </tr>\n",
       "  </tbody>\n",
       "</table>\n",
       "<p>162804 rows × 8 columns</p>\n",
       "</div>"
      ],
      "text/plain": [
       "           discipline_title  \\\n",
       "0                   Curling   \n",
       "1                   Curling   \n",
       "2                   Curling   \n",
       "3                   Curling   \n",
       "4                   Curling   \n",
       "...                     ...   \n",
       "162799          Ski Jumping   \n",
       "162800          Ski Jumping   \n",
       "162801          Ski Jumping   \n",
       "162802          Ski Jumping   \n",
       "162803  Gymnastics Artistic   \n",
       "\n",
       "                                              event_title      slug_game  \\\n",
       "0                                           Mixed Doubles   beijing-2022   \n",
       "1                                           Mixed Doubles   beijing-2022   \n",
       "2                                           Mixed Doubles   beijing-2022   \n",
       "3                                           Mixed Doubles   beijing-2022   \n",
       "4                                           Mixed Doubles   beijing-2022   \n",
       "...                                                   ...            ...   \n",
       "162799                         Normal Hill Individual men  chamonix-1924   \n",
       "162800                         Normal Hill Individual men  chamonix-1924   \n",
       "162801                         Normal Hill Individual men  chamonix-1924   \n",
       "162802                         Normal Hill Individual men  chamonix-1924   \n",
       "162803  26th Federal Festival, Society and Association...     paris-1900   \n",
       "\n",
       "       participant_type rank_position              country_name  \\\n",
       "0              GameTeam             1                     Italy   \n",
       "1              GameTeam             2                    Norway   \n",
       "2              GameTeam             3                    Sweden   \n",
       "3              GameTeam             4             Great Britain   \n",
       "4              GameTeam             5                    Canada   \n",
       "...                 ...           ...                       ...   \n",
       "162799          Athlete           DNS                    Poland   \n",
       "162800          Athlete           DNS                    Poland   \n",
       "162801          Athlete           DNS            Czechoslovakia   \n",
       "162802          Athlete           DNS  United States of America   \n",
       "162803         GameTeam             1                    France   \n",
       "\n",
       "         athlete_full_name game_year  \n",
       "0       Name Not Available      2022  \n",
       "1       Name Not Available      2022  \n",
       "2       Name Not Available      2022  \n",
       "3       Name Not Available      2022  \n",
       "4       Name Not Available      2022  \n",
       "...                    ...       ...  \n",
       "162799    Franciszek BUJAK      1924  \n",
       "162800  Henryk Mückenbrunn      1924  \n",
       "162801      Milda Prokopec      1924  \n",
       "162802       Sigurd Overby      1924  \n",
       "162803  Name Not Available      1900  \n",
       "\n",
       "[162804 rows x 8 columns]"
      ]
     },
     "execution_count": 157,
     "metadata": {},
     "output_type": "execute_result"
    }
   ],
   "source": [
    "results"
   ]
  },
  {
   "cell_type": "code",
   "execution_count": 158,
   "id": "72aa9d5c",
   "metadata": {},
   "outputs": [
    {
     "data": {
      "text/plain": [
       "United States of America      1186\n",
       "Soviet Union                   473\n",
       "Germany                        341\n",
       "France                         337\n",
       "Great Britain                  300\n",
       "People's Republic of China     285\n",
       "Italy                          258\n",
       "Sweden                         210\n",
       "Norway                         210\n",
       "Russian Federation             197\n",
       "Name: country_name, dtype: int64"
      ]
     },
     "execution_count": 158,
     "metadata": {},
     "output_type": "execute_result"
    }
   ],
   "source": [
    "#Top10 countries with Rank 1\n",
    "results[results['rank_position']=='1']['country_name'].value_counts().head(10)"
   ]
  },
  {
   "cell_type": "code",
   "execution_count": 159,
   "id": "15bf59d3",
   "metadata": {
    "scrolled": true
   },
   "outputs": [
    {
     "data": {
      "text/html": [
       "<div>\n",
       "<style scoped>\n",
       "    .dataframe tbody tr th:only-of-type {\n",
       "        vertical-align: middle;\n",
       "    }\n",
       "\n",
       "    .dataframe tbody tr th {\n",
       "        vertical-align: top;\n",
       "    }\n",
       "\n",
       "    .dataframe thead th {\n",
       "        text-align: right;\n",
       "    }\n",
       "</style>\n",
       "<table border=\"1\" class=\"dataframe\">\n",
       "  <thead>\n",
       "    <tr style=\"text-align: right;\">\n",
       "      <th></th>\n",
       "      <th>discipline_title</th>\n",
       "      <th>event_title</th>\n",
       "      <th>slug_game</th>\n",
       "      <th>participant_type</th>\n",
       "      <th>rank_position</th>\n",
       "      <th>country_name</th>\n",
       "      <th>athlete_full_name</th>\n",
       "      <th>game_year</th>\n",
       "    </tr>\n",
       "  </thead>\n",
       "  <tbody>\n",
       "    <tr>\n",
       "      <th>0</th>\n",
       "      <td>Curling</td>\n",
       "      <td>Mixed Doubles</td>\n",
       "      <td>beijing-2022</td>\n",
       "      <td>GameTeam</td>\n",
       "      <td>1</td>\n",
       "      <td>Italy</td>\n",
       "      <td>Name Not Available</td>\n",
       "      <td>2022</td>\n",
       "    </tr>\n",
       "    <tr>\n",
       "      <th>10</th>\n",
       "      <td>Curling</td>\n",
       "      <td>Women</td>\n",
       "      <td>beijing-2022</td>\n",
       "      <td>GameTeam</td>\n",
       "      <td>1</td>\n",
       "      <td>Great Britain</td>\n",
       "      <td>Name Not Available</td>\n",
       "      <td>2022</td>\n",
       "    </tr>\n",
       "    <tr>\n",
       "      <th>20</th>\n",
       "      <td>Curling</td>\n",
       "      <td>Men</td>\n",
       "      <td>beijing-2022</td>\n",
       "      <td>GameTeam</td>\n",
       "      <td>1</td>\n",
       "      <td>Sweden</td>\n",
       "      <td>Name Not Available</td>\n",
       "      <td>2022</td>\n",
       "    </tr>\n",
       "    <tr>\n",
       "      <th>48</th>\n",
       "      <td>Freestyle Skiing</td>\n",
       "      <td>Men's Moguls</td>\n",
       "      <td>beijing-2022</td>\n",
       "      <td>Athlete</td>\n",
       "      <td>1</td>\n",
       "      <td>Sweden</td>\n",
       "      <td>Walter WALLBERG</td>\n",
       "      <td>2022</td>\n",
       "    </tr>\n",
       "    <tr>\n",
       "      <th>64</th>\n",
       "      <td>Freestyle Skiing</td>\n",
       "      <td>Men's Freeski Halfpipe</td>\n",
       "      <td>beijing-2022</td>\n",
       "      <td>Athlete</td>\n",
       "      <td>1</td>\n",
       "      <td>New Zealand</td>\n",
       "      <td>Nico PORTEOUS</td>\n",
       "      <td>2022</td>\n",
       "    </tr>\n",
       "    <tr>\n",
       "      <th>...</th>\n",
       "      <td>...</td>\n",
       "      <td>...</td>\n",
       "      <td>...</td>\n",
       "      <td>...</td>\n",
       "      <td>...</td>\n",
       "      <td>...</td>\n",
       "      <td>...</td>\n",
       "      <td>...</td>\n",
       "    </tr>\n",
       "    <tr>\n",
       "      <th>162615</th>\n",
       "      <td>Alpine Skiing</td>\n",
       "      <td>slalom men</td>\n",
       "      <td>lake-placid-1980</td>\n",
       "      <td>Athlete</td>\n",
       "      <td>1</td>\n",
       "      <td>Sweden</td>\n",
       "      <td>Ingemar STENMARK</td>\n",
       "      <td>1980</td>\n",
       "    </tr>\n",
       "    <tr>\n",
       "      <th>162698</th>\n",
       "      <td>Equestrian Jumping</td>\n",
       "      <td>Jumping Individual mixed</td>\n",
       "      <td>montreal-1976</td>\n",
       "      <td>Athlete</td>\n",
       "      <td>1</td>\n",
       "      <td>Federal Republic of Germany</td>\n",
       "      <td>Alwin SCHOCKEMÖHLE</td>\n",
       "      <td>1976</td>\n",
       "    </tr>\n",
       "    <tr>\n",
       "      <th>162745</th>\n",
       "      <td>Figure skating</td>\n",
       "      <td>Ice dancing mixed</td>\n",
       "      <td>innsbruck-1976</td>\n",
       "      <td>GameTeam</td>\n",
       "      <td>1</td>\n",
       "      <td>Soviet Union</td>\n",
       "      <td>Name Not Available</td>\n",
       "      <td>1976</td>\n",
       "    </tr>\n",
       "    <tr>\n",
       "      <th>162763</th>\n",
       "      <td>Ski Jumping</td>\n",
       "      <td>Normal Hill Individual men</td>\n",
       "      <td>chamonix-1924</td>\n",
       "      <td>Athlete</td>\n",
       "      <td>1</td>\n",
       "      <td>Norway</td>\n",
       "      <td>Jacob Tullin THAMS</td>\n",
       "      <td>1924</td>\n",
       "    </tr>\n",
       "    <tr>\n",
       "      <th>162803</th>\n",
       "      <td>Gymnastics Artistic</td>\n",
       "      <td>26th Federal Festival, Society and Association...</td>\n",
       "      <td>paris-1900</td>\n",
       "      <td>GameTeam</td>\n",
       "      <td>1</td>\n",
       "      <td>France</td>\n",
       "      <td>Name Not Available</td>\n",
       "      <td>1900</td>\n",
       "    </tr>\n",
       "  </tbody>\n",
       "</table>\n",
       "<p>6754 rows × 8 columns</p>\n",
       "</div>"
      ],
      "text/plain": [
       "           discipline_title  \\\n",
       "0                   Curling   \n",
       "10                  Curling   \n",
       "20                  Curling   \n",
       "48         Freestyle Skiing   \n",
       "64         Freestyle Skiing   \n",
       "...                     ...   \n",
       "162615        Alpine Skiing   \n",
       "162698   Equestrian Jumping   \n",
       "162745       Figure skating   \n",
       "162763          Ski Jumping   \n",
       "162803  Gymnastics Artistic   \n",
       "\n",
       "                                              event_title         slug_game  \\\n",
       "0                                           Mixed Doubles      beijing-2022   \n",
       "10                                                  Women      beijing-2022   \n",
       "20                                                    Men      beijing-2022   \n",
       "48                                           Men's Moguls      beijing-2022   \n",
       "64                                 Men's Freeski Halfpipe      beijing-2022   \n",
       "...                                                   ...               ...   \n",
       "162615                                         slalom men  lake-placid-1980   \n",
       "162698                           Jumping Individual mixed     montreal-1976   \n",
       "162745                                  Ice dancing mixed    innsbruck-1976   \n",
       "162763                         Normal Hill Individual men     chamonix-1924   \n",
       "162803  26th Federal Festival, Society and Association...        paris-1900   \n",
       "\n",
       "       participant_type rank_position                 country_name  \\\n",
       "0              GameTeam             1                        Italy   \n",
       "10             GameTeam             1                Great Britain   \n",
       "20             GameTeam             1                       Sweden   \n",
       "48              Athlete             1                       Sweden   \n",
       "64              Athlete             1                  New Zealand   \n",
       "...                 ...           ...                          ...   \n",
       "162615          Athlete             1                       Sweden   \n",
       "162698          Athlete             1  Federal Republic of Germany   \n",
       "162745         GameTeam             1                 Soviet Union   \n",
       "162763          Athlete             1                       Norway   \n",
       "162803         GameTeam             1                       France   \n",
       "\n",
       "         athlete_full_name game_year  \n",
       "0       Name Not Available      2022  \n",
       "10      Name Not Available      2022  \n",
       "20      Name Not Available      2022  \n",
       "48         Walter WALLBERG      2022  \n",
       "64           Nico PORTEOUS      2022  \n",
       "...                    ...       ...  \n",
       "162615    Ingemar STENMARK      1980  \n",
       "162698  Alwin SCHOCKEMÖHLE      1976  \n",
       "162745  Name Not Available      1976  \n",
       "162763  Jacob Tullin THAMS      1924  \n",
       "162803  Name Not Available      1900  \n",
       "\n",
       "[6754 rows x 8 columns]"
      ]
     },
     "execution_count": 159,
     "metadata": {},
     "output_type": "execute_result"
    }
   ],
   "source": [
    "results[results['rank_position']=='1']"
   ]
  },
  {
   "cell_type": "code",
   "execution_count": null,
   "id": "388ba57d",
   "metadata": {},
   "outputs": [],
   "source": []
  },
  {
   "cell_type": "code",
   "execution_count": 160,
   "id": "88b60efe",
   "metadata": {},
   "outputs": [
    {
     "data": {
      "text/html": [
       "<div>\n",
       "<style scoped>\n",
       "    .dataframe tbody tr th:only-of-type {\n",
       "        vertical-align: middle;\n",
       "    }\n",
       "\n",
       "    .dataframe tbody tr th {\n",
       "        vertical-align: top;\n",
       "    }\n",
       "\n",
       "    .dataframe thead th {\n",
       "        text-align: right;\n",
       "    }\n",
       "</style>\n",
       "<table border=\"1\" class=\"dataframe\">\n",
       "  <thead>\n",
       "    <tr style=\"text-align: right;\">\n",
       "      <th></th>\n",
       "      <th>discipline_title</th>\n",
       "      <th>event_title</th>\n",
       "      <th>slug_game</th>\n",
       "      <th>participant_type</th>\n",
       "      <th>rank_position</th>\n",
       "      <th>country_name</th>\n",
       "      <th>athlete_full_name</th>\n",
       "      <th>game_year</th>\n",
       "    </tr>\n",
       "  </thead>\n",
       "  <tbody>\n",
       "    <tr>\n",
       "      <th>7</th>\n",
       "      <td>Curling</td>\n",
       "      <td>Mixed Doubles</td>\n",
       "      <td>beijing-2022</td>\n",
       "      <td>GameTeam</td>\n",
       "      <td>8</td>\n",
       "      <td>United States of America</td>\n",
       "      <td>Name Not Available</td>\n",
       "      <td>2022</td>\n",
       "    </tr>\n",
       "    <tr>\n",
       "      <th>15</th>\n",
       "      <td>Curling</td>\n",
       "      <td>Women</td>\n",
       "      <td>beijing-2022</td>\n",
       "      <td>GameTeam</td>\n",
       "      <td>6</td>\n",
       "      <td>United States of America</td>\n",
       "      <td>Name Not Available</td>\n",
       "      <td>2022</td>\n",
       "    </tr>\n",
       "    <tr>\n",
       "      <th>23</th>\n",
       "      <td>Curling</td>\n",
       "      <td>Men</td>\n",
       "      <td>beijing-2022</td>\n",
       "      <td>GameTeam</td>\n",
       "      <td>4</td>\n",
       "      <td>United States of America</td>\n",
       "      <td>Name Not Available</td>\n",
       "      <td>2022</td>\n",
       "    </tr>\n",
       "    <tr>\n",
       "      <th>32</th>\n",
       "      <td>Freestyle Skiing</td>\n",
       "      <td>Men's Moguls</td>\n",
       "      <td>beijing-2022</td>\n",
       "      <td>Athlete</td>\n",
       "      <td>16</td>\n",
       "      <td>United States of America</td>\n",
       "      <td>Dylan WALCZYK</td>\n",
       "      <td>2022</td>\n",
       "    </tr>\n",
       "    <tr>\n",
       "      <th>49</th>\n",
       "      <td>Freestyle Skiing</td>\n",
       "      <td>Men's Moguls</td>\n",
       "      <td>beijing-2022</td>\n",
       "      <td>Athlete</td>\n",
       "      <td>25</td>\n",
       "      <td>United States of America</td>\n",
       "      <td>Bradley WILSON</td>\n",
       "      <td>2022</td>\n",
       "    </tr>\n",
       "    <tr>\n",
       "      <th>...</th>\n",
       "      <td>...</td>\n",
       "      <td>...</td>\n",
       "      <td>...</td>\n",
       "      <td>...</td>\n",
       "      <td>...</td>\n",
       "      <td>...</td>\n",
       "      <td>...</td>\n",
       "      <td>...</td>\n",
       "    </tr>\n",
       "    <tr>\n",
       "      <th>162761</th>\n",
       "      <td>Figure skating</td>\n",
       "      <td>Ice dancing mixed</td>\n",
       "      <td>innsbruck-1976</td>\n",
       "      <td>GameTeam</td>\n",
       "      <td>17</td>\n",
       "      <td>United States of America</td>\n",
       "      <td>Name Not Available</td>\n",
       "      <td>1976</td>\n",
       "    </tr>\n",
       "    <tr>\n",
       "      <th>162765</th>\n",
       "      <td>Ski Jumping</td>\n",
       "      <td>Normal Hill Individual men</td>\n",
       "      <td>chamonix-1924</td>\n",
       "      <td>Athlete</td>\n",
       "      <td>3</td>\n",
       "      <td>United States of America</td>\n",
       "      <td>Anders HAUGEN</td>\n",
       "      <td>1924</td>\n",
       "    </tr>\n",
       "    <tr>\n",
       "      <th>162776</th>\n",
       "      <td>Ski Jumping</td>\n",
       "      <td>Normal Hill Individual men</td>\n",
       "      <td>chamonix-1924</td>\n",
       "      <td>Athlete</td>\n",
       "      <td>14</td>\n",
       "      <td>United States of America</td>\n",
       "      <td>La Moine Batson</td>\n",
       "      <td>1924</td>\n",
       "    </tr>\n",
       "    <tr>\n",
       "      <th>162778</th>\n",
       "      <td>Ski Jumping</td>\n",
       "      <td>Normal Hill Individual men</td>\n",
       "      <td>chamonix-1924</td>\n",
       "      <td>Athlete</td>\n",
       "      <td>16</td>\n",
       "      <td>United States of America</td>\n",
       "      <td>Harry LIEN</td>\n",
       "      <td>1924</td>\n",
       "    </tr>\n",
       "    <tr>\n",
       "      <th>162802</th>\n",
       "      <td>Ski Jumping</td>\n",
       "      <td>Normal Hill Individual men</td>\n",
       "      <td>chamonix-1924</td>\n",
       "      <td>Athlete</td>\n",
       "      <td>DNS</td>\n",
       "      <td>United States of America</td>\n",
       "      <td>Sigurd Overby</td>\n",
       "      <td>1924</td>\n",
       "    </tr>\n",
       "  </tbody>\n",
       "</table>\n",
       "<p>11916 rows × 8 columns</p>\n",
       "</div>"
      ],
      "text/plain": [
       "        discipline_title                 event_title       slug_game  \\\n",
       "7                Curling               Mixed Doubles    beijing-2022   \n",
       "15               Curling                       Women    beijing-2022   \n",
       "23               Curling                         Men    beijing-2022   \n",
       "32      Freestyle Skiing                Men's Moguls    beijing-2022   \n",
       "49      Freestyle Skiing                Men's Moguls    beijing-2022   \n",
       "...                  ...                         ...             ...   \n",
       "162761    Figure skating           Ice dancing mixed  innsbruck-1976   \n",
       "162765       Ski Jumping  Normal Hill Individual men   chamonix-1924   \n",
       "162776       Ski Jumping  Normal Hill Individual men   chamonix-1924   \n",
       "162778       Ski Jumping  Normal Hill Individual men   chamonix-1924   \n",
       "162802       Ski Jumping  Normal Hill Individual men   chamonix-1924   \n",
       "\n",
       "       participant_type rank_position              country_name  \\\n",
       "7              GameTeam             8  United States of America   \n",
       "15             GameTeam             6  United States of America   \n",
       "23             GameTeam             4  United States of America   \n",
       "32              Athlete            16  United States of America   \n",
       "49              Athlete            25  United States of America   \n",
       "...                 ...           ...                       ...   \n",
       "162761         GameTeam            17  United States of America   \n",
       "162765          Athlete             3  United States of America   \n",
       "162776          Athlete            14  United States of America   \n",
       "162778          Athlete            16  United States of America   \n",
       "162802          Athlete           DNS  United States of America   \n",
       "\n",
       "         athlete_full_name game_year  \n",
       "7       Name Not Available      2022  \n",
       "15      Name Not Available      2022  \n",
       "23      Name Not Available      2022  \n",
       "32           Dylan WALCZYK      2022  \n",
       "49          Bradley WILSON      2022  \n",
       "...                    ...       ...  \n",
       "162761  Name Not Available      1976  \n",
       "162765       Anders HAUGEN      1924  \n",
       "162776     La Moine Batson      1924  \n",
       "162778          Harry LIEN      1924  \n",
       "162802       Sigurd Overby      1924  \n",
       "\n",
       "[11916 rows x 8 columns]"
      ]
     },
     "execution_count": 160,
     "metadata": {},
     "output_type": "execute_result"
    }
   ],
   "source": [
    "results[(results['country_name']=='United States of America')]"
   ]
  },
  {
   "cell_type": "code",
   "execution_count": 161,
   "id": "29d9b2d0",
   "metadata": {},
   "outputs": [
    {
     "data": {
      "text/html": [
       "<div>\n",
       "<style scoped>\n",
       "    .dataframe tbody tr th:only-of-type {\n",
       "        vertical-align: middle;\n",
       "    }\n",
       "\n",
       "    .dataframe tbody tr th {\n",
       "        vertical-align: top;\n",
       "    }\n",
       "\n",
       "    .dataframe thead th {\n",
       "        text-align: right;\n",
       "    }\n",
       "</style>\n",
       "<table border=\"1\" class=\"dataframe\">\n",
       "  <thead>\n",
       "    <tr style=\"text-align: right;\">\n",
       "      <th></th>\n",
       "      <th></th>\n",
       "      <th>discipline_title</th>\n",
       "      <th>event_title</th>\n",
       "      <th>slug_game</th>\n",
       "      <th>participant_type</th>\n",
       "      <th>country_name</th>\n",
       "      <th>athlete_full_name</th>\n",
       "    </tr>\n",
       "    <tr>\n",
       "      <th>game_year</th>\n",
       "      <th>rank_position</th>\n",
       "      <th></th>\n",
       "      <th></th>\n",
       "      <th></th>\n",
       "      <th></th>\n",
       "      <th></th>\n",
       "      <th></th>\n",
       "    </tr>\n",
       "  </thead>\n",
       "  <tbody>\n",
       "    <tr>\n",
       "      <th rowspan=\"5\" valign=\"top\">1896</th>\n",
       "      <th>&lt;bound method Series.mode of 0           1\\n1           2\\n2           3\\n3           4\\n4           5\\n         ... \\n162799    DNS\\n162800    DNS\\n162801    DNS\\n162802    DNS\\n162803      1\\nName: rank_position, Length: 162804, dtype: object&gt;</th>\n",
       "      <td>118</td>\n",
       "      <td>118</td>\n",
       "      <td>118</td>\n",
       "      <td>118</td>\n",
       "      <td>118</td>\n",
       "      <td>118</td>\n",
       "    </tr>\n",
       "    <tr>\n",
       "      <th>1</th>\n",
       "      <td>43</td>\n",
       "      <td>43</td>\n",
       "      <td>43</td>\n",
       "      <td>43</td>\n",
       "      <td>43</td>\n",
       "      <td>43</td>\n",
       "    </tr>\n",
       "    <tr>\n",
       "      <th>10</th>\n",
       "      <td>1</td>\n",
       "      <td>1</td>\n",
       "      <td>1</td>\n",
       "      <td>1</td>\n",
       "      <td>1</td>\n",
       "      <td>1</td>\n",
       "    </tr>\n",
       "    <tr>\n",
       "      <th>11</th>\n",
       "      <td>1</td>\n",
       "      <td>1</td>\n",
       "      <td>1</td>\n",
       "      <td>1</td>\n",
       "      <td>1</td>\n",
       "      <td>1</td>\n",
       "    </tr>\n",
       "    <tr>\n",
       "      <th>12</th>\n",
       "      <td>2</td>\n",
       "      <td>2</td>\n",
       "      <td>2</td>\n",
       "      <td>2</td>\n",
       "      <td>2</td>\n",
       "      <td>2</td>\n",
       "    </tr>\n",
       "    <tr>\n",
       "      <th>...</th>\n",
       "      <th>...</th>\n",
       "      <td>...</td>\n",
       "      <td>...</td>\n",
       "      <td>...</td>\n",
       "      <td>...</td>\n",
       "      <td>...</td>\n",
       "      <td>...</td>\n",
       "    </tr>\n",
       "    <tr>\n",
       "      <th rowspan=\"5\" valign=\"top\">2022</th>\n",
       "      <th>DSQ</th>\n",
       "      <td>8</td>\n",
       "      <td>8</td>\n",
       "      <td>8</td>\n",
       "      <td>8</td>\n",
       "      <td>8</td>\n",
       "      <td>8</td>\n",
       "    </tr>\n",
       "    <tr>\n",
       "      <th>LAP</th>\n",
       "      <td>3</td>\n",
       "      <td>3</td>\n",
       "      <td>3</td>\n",
       "      <td>3</td>\n",
       "      <td>3</td>\n",
       "      <td>3</td>\n",
       "    </tr>\n",
       "    <tr>\n",
       "      <th>PEN</th>\n",
       "      <td>13</td>\n",
       "      <td>13</td>\n",
       "      <td>13</td>\n",
       "      <td>13</td>\n",
       "      <td>13</td>\n",
       "      <td>13</td>\n",
       "    </tr>\n",
       "    <tr>\n",
       "      <th>WDR</th>\n",
       "      <td>4</td>\n",
       "      <td>4</td>\n",
       "      <td>4</td>\n",
       "      <td>4</td>\n",
       "      <td>4</td>\n",
       "      <td>4</td>\n",
       "    </tr>\n",
       "    <tr>\n",
       "      <th>YCD</th>\n",
       "      <td>2</td>\n",
       "      <td>2</td>\n",
       "      <td>2</td>\n",
       "      <td>2</td>\n",
       "      <td>2</td>\n",
       "      <td>2</td>\n",
       "    </tr>\n",
       "  </tbody>\n",
       "</table>\n",
       "<p>3710 rows × 6 columns</p>\n",
       "</div>"
      ],
      "text/plain": [
       "                                                              discipline_title  \\\n",
       "game_year rank_position                                                          \n",
       "1896      <bound method Series.mode of 0           1\\n1  ...               118   \n",
       "          1                                                                 43   \n",
       "          10                                                                 1   \n",
       "          11                                                                 1   \n",
       "          12                                                                 2   \n",
       "...                                                                        ...   \n",
       "2022      DSQ                                                                8   \n",
       "          LAP                                                                3   \n",
       "          PEN                                                               13   \n",
       "          WDR                                                                4   \n",
       "          YCD                                                                2   \n",
       "\n",
       "                                                              event_title  \\\n",
       "game_year rank_position                                                     \n",
       "1896      <bound method Series.mode of 0           1\\n1  ...          118   \n",
       "          1                                                            43   \n",
       "          10                                                            1   \n",
       "          11                                                            1   \n",
       "          12                                                            2   \n",
       "...                                                                   ...   \n",
       "2022      DSQ                                                           8   \n",
       "          LAP                                                           3   \n",
       "          PEN                                                          13   \n",
       "          WDR                                                           4   \n",
       "          YCD                                                           2   \n",
       "\n",
       "                                                              slug_game  \\\n",
       "game_year rank_position                                                   \n",
       "1896      <bound method Series.mode of 0           1\\n1  ...        118   \n",
       "          1                                                          43   \n",
       "          10                                                          1   \n",
       "          11                                                          1   \n",
       "          12                                                          2   \n",
       "...                                                                 ...   \n",
       "2022      DSQ                                                         8   \n",
       "          LAP                                                         3   \n",
       "          PEN                                                        13   \n",
       "          WDR                                                         4   \n",
       "          YCD                                                         2   \n",
       "\n",
       "                                                              participant_type  \\\n",
       "game_year rank_position                                                          \n",
       "1896      <bound method Series.mode of 0           1\\n1  ...               118   \n",
       "          1                                                                 43   \n",
       "          10                                                                 1   \n",
       "          11                                                                 1   \n",
       "          12                                                                 2   \n",
       "...                                                                        ...   \n",
       "2022      DSQ                                                                8   \n",
       "          LAP                                                                3   \n",
       "          PEN                                                               13   \n",
       "          WDR                                                                4   \n",
       "          YCD                                                                2   \n",
       "\n",
       "                                                              country_name  \\\n",
       "game_year rank_position                                                      \n",
       "1896      <bound method Series.mode of 0           1\\n1  ...           118   \n",
       "          1                                                             43   \n",
       "          10                                                             1   \n",
       "          11                                                             1   \n",
       "          12                                                             2   \n",
       "...                                                                    ...   \n",
       "2022      DSQ                                                            8   \n",
       "          LAP                                                            3   \n",
       "          PEN                                                           13   \n",
       "          WDR                                                            4   \n",
       "          YCD                                                            2   \n",
       "\n",
       "                                                              athlete_full_name  \n",
       "game_year rank_position                                                          \n",
       "1896      <bound method Series.mode of 0           1\\n1  ...                118  \n",
       "          1                                                                  43  \n",
       "          10                                                                  1  \n",
       "          11                                                                  1  \n",
       "          12                                                                  2  \n",
       "...                                                                         ...  \n",
       "2022      DSQ                                                                 8  \n",
       "          LAP                                                                 3  \n",
       "          PEN                                                                13  \n",
       "          WDR                                                                 4  \n",
       "          YCD                                                                 2  \n",
       "\n",
       "[3710 rows x 6 columns]"
      ]
     },
     "execution_count": 161,
     "metadata": {},
     "output_type": "execute_result"
    }
   ],
   "source": [
    "results.groupby(['game_year','rank_position']).count()"
   ]
  },
  {
   "cell_type": "code",
   "execution_count": 134,
   "id": "85a0708f",
   "metadata": {},
   "outputs": [
    {
     "data": {
      "text/html": [
       "<div>\n",
       "<style scoped>\n",
       "    .dataframe tbody tr th:only-of-type {\n",
       "        vertical-align: middle;\n",
       "    }\n",
       "\n",
       "    .dataframe tbody tr th {\n",
       "        vertical-align: top;\n",
       "    }\n",
       "\n",
       "    .dataframe thead th {\n",
       "        text-align: right;\n",
       "    }\n",
       "</style>\n",
       "<table border=\"1\" class=\"dataframe\">\n",
       "  <thead>\n",
       "    <tr style=\"text-align: right;\">\n",
       "      <th></th>\n",
       "      <th>discipline_title</th>\n",
       "      <th>event_title</th>\n",
       "      <th>slug_game</th>\n",
       "      <th>participant_type</th>\n",
       "      <th>rank_position</th>\n",
       "      <th>country_name</th>\n",
       "      <th>athlete_full_name</th>\n",
       "      <th>game_year</th>\n",
       "    </tr>\n",
       "  </thead>\n",
       "  <tbody>\n",
       "    <tr>\n",
       "      <th>2182</th>\n",
       "      <td>Alpine Skiing</td>\n",
       "      <td>Men's Alpine Combined</td>\n",
       "      <td>beijing-2022</td>\n",
       "      <td>Athlete</td>\n",
       "      <td>&lt;bound method Series.mode of 0           1\\n1 ...</td>\n",
       "      <td>Czech Republic</td>\n",
       "      <td>Jan ZABYSTRAN</td>\n",
       "      <td>2022</td>\n",
       "    </tr>\n",
       "    <tr>\n",
       "      <th>2185</th>\n",
       "      <td>Alpine Skiing</td>\n",
       "      <td>Men's Alpine Combined</td>\n",
       "      <td>beijing-2022</td>\n",
       "      <td>Athlete</td>\n",
       "      <td>&lt;bound method Series.mode of 0           1\\n1 ...</td>\n",
       "      <td>France</td>\n",
       "      <td>Alexis PINTURAULT</td>\n",
       "      <td>2022</td>\n",
       "    </tr>\n",
       "    <tr>\n",
       "      <th>2191</th>\n",
       "      <td>Alpine Skiing</td>\n",
       "      <td>Men's Alpine Combined</td>\n",
       "      <td>beijing-2022</td>\n",
       "      <td>Athlete</td>\n",
       "      <td>&lt;bound method Series.mode of 0           1\\n1 ...</td>\n",
       "      <td>Switzerland</td>\n",
       "      <td>Yannick CHABLOZ</td>\n",
       "      <td>2022</td>\n",
       "    </tr>\n",
       "    <tr>\n",
       "      <th>2192</th>\n",
       "      <td>Alpine Skiing</td>\n",
       "      <td>Men's Alpine Combined</td>\n",
       "      <td>beijing-2022</td>\n",
       "      <td>Athlete</td>\n",
       "      <td>&lt;bound method Series.mode of 0           1\\n1 ...</td>\n",
       "      <td>Switzerland</td>\n",
       "      <td>Luca AERNI</td>\n",
       "      <td>2022</td>\n",
       "    </tr>\n",
       "    <tr>\n",
       "      <th>2193</th>\n",
       "      <td>Alpine Skiing</td>\n",
       "      <td>Men's Alpine Combined</td>\n",
       "      <td>beijing-2022</td>\n",
       "      <td>Athlete</td>\n",
       "      <td>&lt;bound method Series.mode of 0           1\\n1 ...</td>\n",
       "      <td>Chile</td>\n",
       "      <td>Henrik VON APPEN</td>\n",
       "      <td>2022</td>\n",
       "    </tr>\n",
       "    <tr>\n",
       "      <th>...</th>\n",
       "      <td>...</td>\n",
       "      <td>...</td>\n",
       "      <td>...</td>\n",
       "      <td>...</td>\n",
       "      <td>...</td>\n",
       "      <td>...</td>\n",
       "      <td>...</td>\n",
       "      <td>...</td>\n",
       "    </tr>\n",
       "    <tr>\n",
       "      <th>162552</th>\n",
       "      <td>Shooting</td>\n",
       "      <td>army rifle 300m men</td>\n",
       "      <td>athens-1896</td>\n",
       "      <td>Athlete</td>\n",
       "      <td>&lt;bound method Series.mode of 0           1\\n1 ...</td>\n",
       "      <td>Greece</td>\n",
       "      <td>- Antelothanasis</td>\n",
       "      <td>1896</td>\n",
       "    </tr>\n",
       "    <tr>\n",
       "      <th>162741</th>\n",
       "      <td>Equestrian Jumping</td>\n",
       "      <td>Jumping Individual mixed</td>\n",
       "      <td>montreal-1976</td>\n",
       "      <td>Athlete</td>\n",
       "      <td>&lt;bound method Series.mode of 0           1\\n1 ...</td>\n",
       "      <td>Australia</td>\n",
       "      <td>Barry Thomas ROYCROFT</td>\n",
       "      <td>1976</td>\n",
       "    </tr>\n",
       "    <tr>\n",
       "      <th>162742</th>\n",
       "      <td>Equestrian Jumping</td>\n",
       "      <td>Jumping Individual mixed</td>\n",
       "      <td>montreal-1976</td>\n",
       "      <td>Athlete</td>\n",
       "      <td>&lt;bound method Series.mode of 0           1\\n1 ...</td>\n",
       "      <td>Austria</td>\n",
       "      <td>Heinrich (Henk) HULZEBOS</td>\n",
       "      <td>1976</td>\n",
       "    </tr>\n",
       "    <tr>\n",
       "      <th>162743</th>\n",
       "      <td>Equestrian Jumping</td>\n",
       "      <td>Jumping Individual mixed</td>\n",
       "      <td>montreal-1976</td>\n",
       "      <td>Athlete</td>\n",
       "      <td>&lt;bound method Series.mode of 0           1\\n1 ...</td>\n",
       "      <td>Bolivia</td>\n",
       "      <td>Roberto NIELSEN-REYES</td>\n",
       "      <td>1976</td>\n",
       "    </tr>\n",
       "    <tr>\n",
       "      <th>162744</th>\n",
       "      <td>Equestrian Jumping</td>\n",
       "      <td>Jumping Individual mixed</td>\n",
       "      <td>montreal-1976</td>\n",
       "      <td>Athlete</td>\n",
       "      <td>&lt;bound method Series.mode of 0           1\\n1 ...</td>\n",
       "      <td>Spain</td>\n",
       "      <td>Alfonso SEGOVIA SEGOVIA</td>\n",
       "      <td>1976</td>\n",
       "    </tr>\n",
       "  </tbody>\n",
       "</table>\n",
       "<p>3878 rows × 8 columns</p>\n",
       "</div>"
      ],
      "text/plain": [
       "          discipline_title               event_title      slug_game  \\\n",
       "2182         Alpine Skiing     Men's Alpine Combined   beijing-2022   \n",
       "2185         Alpine Skiing     Men's Alpine Combined   beijing-2022   \n",
       "2191         Alpine Skiing     Men's Alpine Combined   beijing-2022   \n",
       "2192         Alpine Skiing     Men's Alpine Combined   beijing-2022   \n",
       "2193         Alpine Skiing     Men's Alpine Combined   beijing-2022   \n",
       "...                    ...                       ...            ...   \n",
       "162552            Shooting       army rifle 300m men    athens-1896   \n",
       "162741  Equestrian Jumping  Jumping Individual mixed  montreal-1976   \n",
       "162742  Equestrian Jumping  Jumping Individual mixed  montreal-1976   \n",
       "162743  Equestrian Jumping  Jumping Individual mixed  montreal-1976   \n",
       "162744  Equestrian Jumping  Jumping Individual mixed  montreal-1976   \n",
       "\n",
       "       participant_type                                      rank_position  \\\n",
       "2182            Athlete  <bound method Series.mode of 0           1\\n1 ...   \n",
       "2185            Athlete  <bound method Series.mode of 0           1\\n1 ...   \n",
       "2191            Athlete  <bound method Series.mode of 0           1\\n1 ...   \n",
       "2192            Athlete  <bound method Series.mode of 0           1\\n1 ...   \n",
       "2193            Athlete  <bound method Series.mode of 0           1\\n1 ...   \n",
       "...                 ...                                                ...   \n",
       "162552          Athlete  <bound method Series.mode of 0           1\\n1 ...   \n",
       "162741          Athlete  <bound method Series.mode of 0           1\\n1 ...   \n",
       "162742          Athlete  <bound method Series.mode of 0           1\\n1 ...   \n",
       "162743          Athlete  <bound method Series.mode of 0           1\\n1 ...   \n",
       "162744          Athlete  <bound method Series.mode of 0           1\\n1 ...   \n",
       "\n",
       "          country_name         athlete_full_name game_year  \n",
       "2182    Czech Republic             Jan ZABYSTRAN      2022  \n",
       "2185            France         Alexis PINTURAULT      2022  \n",
       "2191       Switzerland           Yannick CHABLOZ      2022  \n",
       "2192       Switzerland                Luca AERNI      2022  \n",
       "2193             Chile          Henrik VON APPEN      2022  \n",
       "...                ...                       ...       ...  \n",
       "162552          Greece          - Antelothanasis      1896  \n",
       "162741       Australia     Barry Thomas ROYCROFT      1976  \n",
       "162742         Austria  Heinrich (Henk) HULZEBOS      1976  \n",
       "162743         Bolivia     Roberto NIELSEN-REYES      1976  \n",
       "162744           Spain   Alfonso SEGOVIA SEGOVIA      1976  \n",
       "\n",
       "[3878 rows x 8 columns]"
      ]
     },
     "execution_count": 134,
     "metadata": {},
     "output_type": "execute_result"
    }
   ],
   "source": [
    "results[results['rank_position']==results[results['game_year']=='1896']['rank_position'].unique()[12]]"
   ]
  },
  {
   "cell_type": "code",
   "execution_count": 135,
   "id": "6e67b921",
   "metadata": {
    "scrolled": true
   },
   "outputs": [],
   "source": [
    "faulty_rank_positions=results[results['rank_position']==results[results['game_year']=='1896']['rank_position'].unique()[12]]"
   ]
  },
  {
   "cell_type": "code",
   "execution_count": 136,
   "id": "a124c3ca",
   "metadata": {},
   "outputs": [
    {
     "data": {
      "text/plain": [
       "Int64Index([  2182,   2185,   2191,   2192,   2193,   2195,   2196,   2200,\n",
       "              2202,   2204,\n",
       "            ...\n",
       "            162547, 162548, 162549, 162550, 162551, 162552, 162741, 162742,\n",
       "            162743, 162744],\n",
       "           dtype='int64', length=3878)"
      ]
     },
     "execution_count": 136,
     "metadata": {},
     "output_type": "execute_result"
    }
   ],
   "source": [
    "faulty_rank_positions.index"
   ]
  },
  {
   "cell_type": "code",
   "execution_count": 137,
   "id": "b121589d",
   "metadata": {},
   "outputs": [],
   "source": [
    "results['rank_position'].iloc[faulty_rank_positions.index[0]]=results['rank_position'].mode()[0]"
   ]
  },
  {
   "cell_type": "code",
   "execution_count": 138,
   "id": "06ae70b4",
   "metadata": {},
   "outputs": [
    {
     "data": {
      "text/plain": [
       "'9'"
      ]
     },
     "execution_count": 138,
     "metadata": {},
     "output_type": "execute_result"
    }
   ],
   "source": [
    "results['rank_position'].iloc[2182]"
   ]
  },
  {
   "cell_type": "code",
   "execution_count": 139,
   "id": "caa6e7da",
   "metadata": {},
   "outputs": [
    {
     "data": {
      "text/plain": [
       "'9'"
      ]
     },
     "execution_count": 139,
     "metadata": {},
     "output_type": "execute_result"
    }
   ],
   "source": [
    "results['rank_position'].mode()[0]"
   ]
  },
  {
   "cell_type": "code",
   "execution_count": 140,
   "id": "d4765664",
   "metadata": {},
   "outputs": [],
   "source": [
    "for index in range(len(faulty_rank_positions.index)):\n",
    "    results['rank_position'].iloc[faulty_rank_positions.index[index]]=results['rank_position'].mode()[0]\n",
    "    \n",
    "    "
   ]
  },
  {
   "cell_type": "code",
   "execution_count": 141,
   "id": "feaac719",
   "metadata": {},
   "outputs": [
    {
     "data": {
      "text/html": [
       "<div>\n",
       "<style scoped>\n",
       "    .dataframe tbody tr th:only-of-type {\n",
       "        vertical-align: middle;\n",
       "    }\n",
       "\n",
       "    .dataframe tbody tr th {\n",
       "        vertical-align: top;\n",
       "    }\n",
       "\n",
       "    .dataframe thead th {\n",
       "        text-align: right;\n",
       "    }\n",
       "</style>\n",
       "<table border=\"1\" class=\"dataframe\">\n",
       "  <thead>\n",
       "    <tr style=\"text-align: right;\">\n",
       "      <th></th>\n",
       "      <th></th>\n",
       "      <th>discipline_title</th>\n",
       "      <th>event_title</th>\n",
       "      <th>slug_game</th>\n",
       "      <th>participant_type</th>\n",
       "      <th>country_name</th>\n",
       "      <th>athlete_full_name</th>\n",
       "    </tr>\n",
       "    <tr>\n",
       "      <th>game_year</th>\n",
       "      <th>rank_position</th>\n",
       "      <th></th>\n",
       "      <th></th>\n",
       "      <th></th>\n",
       "      <th></th>\n",
       "      <th></th>\n",
       "      <th></th>\n",
       "    </tr>\n",
       "  </thead>\n",
       "  <tbody>\n",
       "    <tr>\n",
       "      <th rowspan=\"5\" valign=\"top\">1896</th>\n",
       "      <th>1</th>\n",
       "      <td>43</td>\n",
       "      <td>43</td>\n",
       "      <td>43</td>\n",
       "      <td>43</td>\n",
       "      <td>43</td>\n",
       "      <td>43</td>\n",
       "    </tr>\n",
       "    <tr>\n",
       "      <th>10</th>\n",
       "      <td>1</td>\n",
       "      <td>1</td>\n",
       "      <td>1</td>\n",
       "      <td>1</td>\n",
       "      <td>1</td>\n",
       "      <td>1</td>\n",
       "    </tr>\n",
       "    <tr>\n",
       "      <th>11</th>\n",
       "      <td>1</td>\n",
       "      <td>1</td>\n",
       "      <td>1</td>\n",
       "      <td>1</td>\n",
       "      <td>1</td>\n",
       "      <td>1</td>\n",
       "    </tr>\n",
       "    <tr>\n",
       "      <th>12</th>\n",
       "      <td>2</td>\n",
       "      <td>2</td>\n",
       "      <td>2</td>\n",
       "      <td>2</td>\n",
       "      <td>2</td>\n",
       "      <td>2</td>\n",
       "    </tr>\n",
       "    <tr>\n",
       "      <th>2</th>\n",
       "      <td>43</td>\n",
       "      <td>43</td>\n",
       "      <td>43</td>\n",
       "      <td>43</td>\n",
       "      <td>43</td>\n",
       "      <td>43</td>\n",
       "    </tr>\n",
       "    <tr>\n",
       "      <th>...</th>\n",
       "      <th>...</th>\n",
       "      <td>...</td>\n",
       "      <td>...</td>\n",
       "      <td>...</td>\n",
       "      <td>...</td>\n",
       "      <td>...</td>\n",
       "      <td>...</td>\n",
       "    </tr>\n",
       "    <tr>\n",
       "      <th rowspan=\"5\" valign=\"top\">2022</th>\n",
       "      <th>DSQ</th>\n",
       "      <td>8</td>\n",
       "      <td>8</td>\n",
       "      <td>8</td>\n",
       "      <td>8</td>\n",
       "      <td>8</td>\n",
       "      <td>8</td>\n",
       "    </tr>\n",
       "    <tr>\n",
       "      <th>LAP</th>\n",
       "      <td>3</td>\n",
       "      <td>3</td>\n",
       "      <td>3</td>\n",
       "      <td>3</td>\n",
       "      <td>3</td>\n",
       "      <td>3</td>\n",
       "    </tr>\n",
       "    <tr>\n",
       "      <th>PEN</th>\n",
       "      <td>13</td>\n",
       "      <td>13</td>\n",
       "      <td>13</td>\n",
       "      <td>13</td>\n",
       "      <td>13</td>\n",
       "      <td>13</td>\n",
       "    </tr>\n",
       "    <tr>\n",
       "      <th>WDR</th>\n",
       "      <td>4</td>\n",
       "      <td>4</td>\n",
       "      <td>4</td>\n",
       "      <td>4</td>\n",
       "      <td>4</td>\n",
       "      <td>4</td>\n",
       "    </tr>\n",
       "    <tr>\n",
       "      <th>YCD</th>\n",
       "      <td>2</td>\n",
       "      <td>2</td>\n",
       "      <td>2</td>\n",
       "      <td>2</td>\n",
       "      <td>2</td>\n",
       "      <td>2</td>\n",
       "    </tr>\n",
       "  </tbody>\n",
       "</table>\n",
       "<p>3678 rows × 6 columns</p>\n",
       "</div>"
      ],
      "text/plain": [
       "                         discipline_title  event_title  slug_game  \\\n",
       "game_year rank_position                                             \n",
       "1896      1                            43           43         43   \n",
       "          10                            1            1          1   \n",
       "          11                            1            1          1   \n",
       "          12                            2            2          2   \n",
       "          2                            43           43         43   \n",
       "...                                   ...          ...        ...   \n",
       "2022      DSQ                           8            8          8   \n",
       "          LAP                           3            3          3   \n",
       "          PEN                          13           13         13   \n",
       "          WDR                           4            4          4   \n",
       "          YCD                           2            2          2   \n",
       "\n",
       "                         participant_type  country_name  athlete_full_name  \n",
       "game_year rank_position                                                     \n",
       "1896      1                            43            43                 43  \n",
       "          10                            1             1                  1  \n",
       "          11                            1             1                  1  \n",
       "          12                            2             2                  2  \n",
       "          2                            43            43                 43  \n",
       "...                                   ...           ...                ...  \n",
       "2022      DSQ                           8             8                  8  \n",
       "          LAP                           3             3                  3  \n",
       "          PEN                          13            13                 13  \n",
       "          WDR                           4             4                  4  \n",
       "          YCD                           2             2                  2  \n",
       "\n",
       "[3678 rows x 6 columns]"
      ]
     },
     "execution_count": 141,
     "metadata": {},
     "output_type": "execute_result"
    }
   ],
   "source": [
    "#Yearwise Rank position\n",
    "results.groupby(['game_year','rank_position']).count()"
   ]
  },
  {
   "cell_type": "code",
   "execution_count": 142,
   "id": "9f91e87b",
   "metadata": {},
   "outputs": [
    {
     "data": {
      "text/plain": [
       "<function str.index>"
      ]
     },
     "execution_count": 142,
     "metadata": {},
     "output_type": "execute_result"
    }
   ],
   "source": [
    "results['rank_position'].iloc[25].index"
   ]
  },
  {
   "cell_type": "code",
   "execution_count": 143,
   "id": "22f4a8f1",
   "metadata": {
    "scrolled": true
   },
   "outputs": [],
   "source": [
    "for i in range(len(results['rank_position'])):\n",
    "    if results['rank_position'].iloc[i].isnumeric()==False:\n",
    "        #results['rank_position']=results['rank_position'].replace()\n",
    "        results['rank_position']=results['rank_position'].drop(index=i,axis=0)"
   ]
  },
  {
   "cell_type": "code",
   "execution_count": 101,
   "id": "0ae1d4da",
   "metadata": {
    "scrolled": true
   },
   "outputs": [],
   "source": [
    "results['rank_position']=results['rank_position'].fillna(results['rank_position'].mode()[0],axis=0)"
   ]
  },
  {
   "cell_type": "code",
   "execution_count": 102,
   "id": "7b19b3ba",
   "metadata": {},
   "outputs": [],
   "source": [
    "results['rank_position']=results['rank_position'].astype(int)"
   ]
  },
  {
   "cell_type": "code",
   "execution_count": 103,
   "id": "311b03b3",
   "metadata": {},
   "outputs": [
    {
     "data": {
      "text/plain": [
       "<AxesSubplot:xlabel='game_year', ylabel='rank_position'>"
      ]
     },
     "execution_count": 103,
     "metadata": {},
     "output_type": "execute_result"
    },
    {
     "data": {
      "image/png": "[encoded data removed]",
      "text/plain": [
       "<Figure size 1800x1080 with 1 Axes>"
      ]
     },
     "metadata": {
      "needs_background": "light"
     },
     "output_type": "display_data"
    }
   ],
   "source": [
    "#Distribution of ranks of USA over the year\n",
    "plt.figure(figsize=(25,15))\n",
    "sns.histplot(x=results[results['country_name']=='United States of America']['game_year'],y=results[results['country_name']=='United States of America']['rank_position'])"
   ]
  },
  {
   "cell_type": "code",
   "execution_count": null,
   "id": "920b3651",
   "metadata": {},
   "outputs": [],
   "source": []
  },
  {
   "cell_type": "code",
   "execution_count": null,
   "id": "c5f4e090",
   "metadata": {},
   "outputs": [],
   "source": []
  }
 ],
 "metadata": {
  "kernelspec": {
   "display_name": "Python 3 (ipykernel)",
   "language": "python",
   "name": "python3"
  },
  "language_info": {
   "codemirror_mode": {
    "name": "ipython",
    "version": 3
   },
   "file_extension": ".py",
   "mimetype": "text/x-python",
   "name": "python",
   "nbconvert_exporter": "python",
   "pygments_lexer": "ipython3",
   "version": "3.9.7"
  }
 },
 "nbformat": 4,
 "nbformat_minor": 5
}
