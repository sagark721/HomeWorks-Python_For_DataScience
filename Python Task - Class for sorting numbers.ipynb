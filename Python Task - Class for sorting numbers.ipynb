{
 "cells": [
  {
   "cell_type": "markdown",
   "id": "866a2de2",
   "metadata": {},
   "source": [
    "### Problem Statement:\n",
    "\n",
    "**Create class to sort the numbers recieved from user.**"
   ]
  },
  {
   "cell_type": "code",
   "execution_count": 50,
   "id": "cf76c2c5",
   "metadata": {},
   "outputs": [],
   "source": [
    "class sort:\n",
    "    \n",
    "    def ascending(self,*args):\n",
    "        a=[]\n",
    "        for arg in args:\n",
    "            a.append(arg)\n",
    "\n",
    "        for i in range(len(a)):\n",
    "            for j in range(len(a)):\n",
    "                if a[j]>a[i]:\n",
    "                    b=a[j]\n",
    "                    s=a[i]\n",
    "                    a[j]=s\n",
    "                    a[i]=b\n",
    "                    \n",
    "                elif a[i]>a[j]:\n",
    "                    b=a[i]\n",
    "                    s=a[j]\n",
    "                    a[j]=s\n",
    "                    a[i]=b\n",
    "                    \n",
    "        return a\n",
    "\n",
    "\n",
    "\n",
    "\n",
    "\n",
    "    def descending(self,*args):\n",
    "        a=[]\n",
    "        for arg in args:\n",
    "            a.append(arg)\n",
    "\n",
    "        for i in range(len(a)):\n",
    "            for j in range(len(a)):\n",
    "                if a[i]>a[j]:\n",
    "                    b=a[i]\n",
    "                    s=a[j]\n",
    "                    a[i]=s\n",
    "                    a[j]=b\n",
    "                    \n",
    "                elif a[j]>a[i]:\n",
    "                    b=a[j]\n",
    "                    s=a[i]\n",
    "\n",
    "                    a[i]=s\n",
    "                    a[j]=b\n",
    "    \n",
    "        return a\n",
    "        \n",
    "        \n",
    "        \n",
    "  "
   ]
  },
  {
   "cell_type": "code",
   "execution_count": 51,
   "id": "fe07c828",
   "metadata": {},
   "outputs": [],
   "source": [
    "a=sort()"
   ]
  },
  {
   "cell_type": "code",
   "execution_count": 52,
   "id": "889201b5",
   "metadata": {},
   "outputs": [
    {
     "data": {
      "text/plain": [
       "[-12, 0, 1, 7, 7, 12, 23, 721]"
      ]
     },
     "execution_count": 52,
     "metadata": {},
     "output_type": "execute_result"
    }
   ],
   "source": [
    "a.ascending(7,12,1,0,23,-12,721,7)"
   ]
  },
  {
   "cell_type": "code",
   "execution_count": 53,
   "id": "861fa96f",
   "metadata": {},
   "outputs": [
    {
     "data": {
      "text/plain": [
       "[721, 23, 12, 7, 7, 1, 0, -12]"
      ]
     },
     "execution_count": 53,
     "metadata": {},
     "output_type": "execute_result"
    }
   ],
   "source": [
    "a.descending(7,12,1,0,23,-12,721,7)"
   ]
  },
  {
   "cell_type": "code",
   "execution_count": null,
   "id": "13f5b1c2",
   "metadata": {},
   "outputs": [],
   "source": []
  }
 ],
 "metadata": {
  "kernelspec": {
   "display_name": "Python 3 (ipykernel)",
   "language": "python",
   "name": "python3"
  },
  "language_info": {
   "codemirror_mode": {
    "name": "ipython",
    "version": 3
   },
   "file_extension": ".py",
   "mimetype": "text/x-python",
   "name": "python",
   "nbconvert_exporter": "python",
   "pygments_lexer": "ipython3",
   "version": "3.9.7"
  }
 },
 "nbformat": 4,
 "nbformat_minor": 5
}
