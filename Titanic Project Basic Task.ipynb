{
 "cells": [
  {
   "cell_type": "markdown",
   "id": "e0e2a75b",
   "metadata": {},
   "source": [
    "# Questions\n",
    "1. Count Male and Female Passengers\n",
    "2. Count Survivied Passengers\n",
    "3. Count Casualties\n",
    "4. Name of the eldest person\n",
    "5. Count of passengers as per class\n",
    "6. Count of passengers whose name starts with 's'\n",
    "7. Create new column to add 'SibSp' & 'Parch' columns\n",
    "8. Count of passengers with age below 25\n",
    "9. Cound of died passengers below age 40\n",
    "10. Separate text and number from \"Cabin\" column  "
   ]
  },
  {
   "cell_type": "code",
   "execution_count": 1,
   "id": "7be78a4d",
   "metadata": {
    "scrolled": true
   },
   "outputs": [
    {
     "name": "stdout",
     "output_type": "stream",
     "text": [
      "!! Jai Ganesh !!\n"
     ]
    }
   ],
   "source": [
    "print(\"!! Jai Ganesh !!\")"
   ]
  },
  {
   "cell_type": "code",
   "execution_count": 2,
   "id": "392b66a0",
   "metadata": {},
   "outputs": [],
   "source": [
    "import pandas as pd"
   ]
  },
  {
   "cell_type": "code",
   "execution_count": 3,
   "id": "d3c9aa4f",
   "metadata": {},
   "outputs": [],
   "source": [
    "df1=pd.read_csv(\"https://raw.githubusercontent.com/datasciencedojo/datasets/master/titanic.csv\")"
   ]
  },
  {
   "cell_type": "code",
   "execution_count": 4,
   "id": "5b821562",
   "metadata": {},
   "outputs": [
    {
     "data": {
      "text/html": [
       "<div>\n",
       "<style scoped>\n",
       "    .dataframe tbody tr th:only-of-type {\n",
       "        vertical-align: middle;\n",
       "    }\n",
       "\n",
       "    .dataframe tbody tr th {\n",
       "        vertical-align: top;\n",
       "    }\n",
       "\n",
       "    .dataframe thead th {\n",
       "        text-align: right;\n",
       "    }\n",
       "</style>\n",
       "<table border=\"1\" class=\"dataframe\">\n",
       "  <thead>\n",
       "    <tr style=\"text-align: right;\">\n",
       "      <th></th>\n",
       "      <th>PassengerId</th>\n",
       "      <th>Survived</th>\n",
       "      <th>Pclass</th>\n",
       "      <th>Name</th>\n",
       "      <th>Sex</th>\n",
       "      <th>Age</th>\n",
       "      <th>SibSp</th>\n",
       "      <th>Parch</th>\n",
       "      <th>Ticket</th>\n",
       "      <th>Fare</th>\n",
       "      <th>Cabin</th>\n",
       "      <th>Embarked</th>\n",
       "    </tr>\n",
       "  </thead>\n",
       "  <tbody>\n",
       "    <tr>\n",
       "      <th>0</th>\n",
       "      <td>1</td>\n",
       "      <td>0</td>\n",
       "      <td>3</td>\n",
       "      <td>Braund, Mr. Owen Harris</td>\n",
       "      <td>male</td>\n",
       "      <td>22.0</td>\n",
       "      <td>1</td>\n",
       "      <td>0</td>\n",
       "      <td>A/5 21171</td>\n",
       "      <td>7.2500</td>\n",
       "      <td>NaN</td>\n",
       "      <td>S</td>\n",
       "    </tr>\n",
       "    <tr>\n",
       "      <th>1</th>\n",
       "      <td>2</td>\n",
       "      <td>1</td>\n",
       "      <td>1</td>\n",
       "      <td>Cumings, Mrs. John Bradley (Florence Briggs Th...</td>\n",
       "      <td>female</td>\n",
       "      <td>38.0</td>\n",
       "      <td>1</td>\n",
       "      <td>0</td>\n",
       "      <td>PC 17599</td>\n",
       "      <td>71.2833</td>\n",
       "      <td>C85</td>\n",
       "      <td>C</td>\n",
       "    </tr>\n",
       "  </tbody>\n",
       "</table>\n",
       "</div>"
      ],
      "text/plain": [
       "   PassengerId  Survived  Pclass  \\\n",
       "0            1         0       3   \n",
       "1            2         1       1   \n",
       "\n",
       "                                                Name     Sex   Age  SibSp  \\\n",
       "0                            Braund, Mr. Owen Harris    male  22.0      1   \n",
       "1  Cumings, Mrs. John Bradley (Florence Briggs Th...  female  38.0      1   \n",
       "\n",
       "   Parch     Ticket     Fare Cabin Embarked  \n",
       "0      0  A/5 21171   7.2500   NaN        S  \n",
       "1      0   PC 17599  71.2833   C85        C  "
      ]
     },
     "execution_count": 4,
     "metadata": {},
     "output_type": "execute_result"
    }
   ],
   "source": [
    "df1.head(2)"
   ]
  },
  {
   "cell_type": "code",
   "execution_count": 5,
   "id": "0ffe49e6",
   "metadata": {},
   "outputs": [
    {
     "data": {
      "text/plain": [
       "PassengerId      int64\n",
       "Survived         int64\n",
       "Pclass           int64\n",
       "Name            object\n",
       "Sex             object\n",
       "Age            float64\n",
       "SibSp            int64\n",
       "Parch            int64\n",
       "Ticket          object\n",
       "Fare           float64\n",
       "Cabin           object\n",
       "Embarked        object\n",
       "dtype: object"
      ]
     },
     "execution_count": 5,
     "metadata": {},
     "output_type": "execute_result"
    }
   ],
   "source": [
    "df1.dtypes"
   ]
  },
  {
   "cell_type": "code",
   "execution_count": 6,
   "id": "ff9266a5",
   "metadata": {},
   "outputs": [
    {
     "data": {
      "text/html": [
       "<div>\n",
       "<style scoped>\n",
       "    .dataframe tbody tr th:only-of-type {\n",
       "        vertical-align: middle;\n",
       "    }\n",
       "\n",
       "    .dataframe tbody tr th {\n",
       "        vertical-align: top;\n",
       "    }\n",
       "\n",
       "    .dataframe thead th {\n",
       "        text-align: right;\n",
       "    }\n",
       "</style>\n",
       "<table border=\"1\" class=\"dataframe\">\n",
       "  <thead>\n",
       "    <tr style=\"text-align: right;\">\n",
       "      <th></th>\n",
       "      <th>PassengerId</th>\n",
       "      <th>Survived</th>\n",
       "      <th>Pclass</th>\n",
       "      <th>Age</th>\n",
       "      <th>SibSp</th>\n",
       "      <th>Parch</th>\n",
       "      <th>Fare</th>\n",
       "    </tr>\n",
       "  </thead>\n",
       "  <tbody>\n",
       "    <tr>\n",
       "      <th>count</th>\n",
       "      <td>891.000000</td>\n",
       "      <td>891.000000</td>\n",
       "      <td>891.000000</td>\n",
       "      <td>714.000000</td>\n",
       "      <td>891.000000</td>\n",
       "      <td>891.000000</td>\n",
       "      <td>891.000000</td>\n",
       "    </tr>\n",
       "    <tr>\n",
       "      <th>mean</th>\n",
       "      <td>446.000000</td>\n",
       "      <td>0.383838</td>\n",
       "      <td>2.308642</td>\n",
       "      <td>29.699118</td>\n",
       "      <td>0.523008</td>\n",
       "      <td>0.381594</td>\n",
       "      <td>32.204208</td>\n",
       "    </tr>\n",
       "    <tr>\n",
       "      <th>std</th>\n",
       "      <td>257.353842</td>\n",
       "      <td>0.486592</td>\n",
       "      <td>0.836071</td>\n",
       "      <td>14.526497</td>\n",
       "      <td>1.102743</td>\n",
       "      <td>0.806057</td>\n",
       "      <td>49.693429</td>\n",
       "    </tr>\n",
       "    <tr>\n",
       "      <th>min</th>\n",
       "      <td>1.000000</td>\n",
       "      <td>0.000000</td>\n",
       "      <td>1.000000</td>\n",
       "      <td>0.420000</td>\n",
       "      <td>0.000000</td>\n",
       "      <td>0.000000</td>\n",
       "      <td>0.000000</td>\n",
       "    </tr>\n",
       "    <tr>\n",
       "      <th>25%</th>\n",
       "      <td>223.500000</td>\n",
       "      <td>0.000000</td>\n",
       "      <td>2.000000</td>\n",
       "      <td>20.125000</td>\n",
       "      <td>0.000000</td>\n",
       "      <td>0.000000</td>\n",
       "      <td>7.910400</td>\n",
       "    </tr>\n",
       "    <tr>\n",
       "      <th>50%</th>\n",
       "      <td>446.000000</td>\n",
       "      <td>0.000000</td>\n",
       "      <td>3.000000</td>\n",
       "      <td>28.000000</td>\n",
       "      <td>0.000000</td>\n",
       "      <td>0.000000</td>\n",
       "      <td>14.454200</td>\n",
       "    </tr>\n",
       "    <tr>\n",
       "      <th>75%</th>\n",
       "      <td>668.500000</td>\n",
       "      <td>1.000000</td>\n",
       "      <td>3.000000</td>\n",
       "      <td>38.000000</td>\n",
       "      <td>1.000000</td>\n",
       "      <td>0.000000</td>\n",
       "      <td>31.000000</td>\n",
       "    </tr>\n",
       "    <tr>\n",
       "      <th>max</th>\n",
       "      <td>891.000000</td>\n",
       "      <td>1.000000</td>\n",
       "      <td>3.000000</td>\n",
       "      <td>80.000000</td>\n",
       "      <td>8.000000</td>\n",
       "      <td>6.000000</td>\n",
       "      <td>512.329200</td>\n",
       "    </tr>\n",
       "  </tbody>\n",
       "</table>\n",
       "</div>"
      ],
      "text/plain": [
       "       PassengerId    Survived      Pclass         Age       SibSp  \\\n",
       "count   891.000000  891.000000  891.000000  714.000000  891.000000   \n",
       "mean    446.000000    0.383838    2.308642   29.699118    0.523008   \n",
       "std     257.353842    0.486592    0.836071   14.526497    1.102743   \n",
       "min       1.000000    0.000000    1.000000    0.420000    0.000000   \n",
       "25%     223.500000    0.000000    2.000000   20.125000    0.000000   \n",
       "50%     446.000000    0.000000    3.000000   28.000000    0.000000   \n",
       "75%     668.500000    1.000000    3.000000   38.000000    1.000000   \n",
       "max     891.000000    1.000000    3.000000   80.000000    8.000000   \n",
       "\n",
       "            Parch        Fare  \n",
       "count  891.000000  891.000000  \n",
       "mean     0.381594   32.204208  \n",
       "std      0.806057   49.693429  \n",
       "min      0.000000    0.000000  \n",
       "25%      0.000000    7.910400  \n",
       "50%      0.000000   14.454200  \n",
       "75%      0.000000   31.000000  \n",
       "max      6.000000  512.329200  "
      ]
     },
     "execution_count": 6,
     "metadata": {},
     "output_type": "execute_result"
    }
   ],
   "source": [
    "df1.describe()"
   ]
  },
  {
   "cell_type": "markdown",
   "id": "e3575abd",
   "metadata": {},
   "source": [
    "# Answers"
   ]
  },
  {
   "cell_type": "markdown",
   "id": "41afa871",
   "metadata": {},
   "source": [
    "### 1. Count Male and Female Passengers"
   ]
  },
  {
   "cell_type": "code",
   "execution_count": 7,
   "id": "75aad546",
   "metadata": {},
   "outputs": [
    {
     "name": "stdout",
     "output_type": "stream",
     "text": [
      "male_count: 577 & female_count: 314\n"
     ]
    }
   ],
   "source": [
    "male=df1[df1['Sex']=='male'].count()['Sex']\n",
    "female=df1[df1['Sex']=='female'].count()['Sex']\n",
    "print(\"male_count:\",male, '&', \"female_count:\",female)"
   ]
  },
  {
   "cell_type": "markdown",
   "id": "f3a16c2f",
   "metadata": {},
   "source": [
    "### 2. Count Survived Passengers"
   ]
  },
  {
   "cell_type": "code",
   "execution_count": 8,
   "id": "7a375ce8",
   "metadata": {},
   "outputs": [
    {
     "name": "stdout",
     "output_type": "stream",
     "text": [
      "Total Survived:  342\n"
     ]
    }
   ],
   "source": [
    "survived=df1[df1['Survived']==1]['Survived'].count()\n",
    "print(\"Total Survived: \",survived)"
   ]
  },
  {
   "cell_type": "markdown",
   "id": "2db4b4b5",
   "metadata": {},
   "source": [
    "### 3. Count of Casualties"
   ]
  },
  {
   "cell_type": "code",
   "execution_count": 9,
   "id": "c439422d",
   "metadata": {},
   "outputs": [
    {
     "name": "stdout",
     "output_type": "stream",
     "text": [
      "Total Casualty:  549\n"
     ]
    }
   ],
   "source": [
    "casualty=df1[df1['Survived']==0]['Survived'].count()\n",
    "print(\"Total Casualty: \",casualty)"
   ]
  },
  {
   "cell_type": "markdown",
   "id": "a7473262",
   "metadata": {},
   "source": [
    "### 4. Name of the eldest person"
   ]
  },
  {
   "cell_type": "code",
   "execution_count": 10,
   "id": "af941ebb",
   "metadata": {},
   "outputs": [
    {
     "name": "stdout",
     "output_type": "stream",
     "text": [
      "Eldest person in titanic was:  Thomas, Master. Assad Alexander\n"
     ]
    }
   ],
   "source": [
    "eldest=list(df1[df1['Age']==max(df1['Age'])]['Name'])\n",
    "print(\"Eldest person in titanic was: \",eldest[0])"
   ]
  },
  {
   "cell_type": "markdown",
   "id": "fa660aab",
   "metadata": {},
   "source": [
    "### 5. Count of passengers as per class"
   ]
  },
  {
   "cell_type": "code",
   "execution_count": 11,
   "id": "e975734e",
   "metadata": {},
   "outputs": [
    {
     "name": "stdout",
     "output_type": "stream",
     "text": [
      "Passangers in 'First Class' was:  216 \n",
      "in 'Second Class' was:  184 \n",
      "& in 'Third Class' was:  491\n"
     ]
    }
   ],
   "source": [
    "first=df1[df1['Pclass']==1].count()['Pclass']\n",
    "second=df1[df1['Pclass']==2].count()['Pclass']\n",
    "third=df1[df1['Pclass']==3].count()['Pclass']\n",
    "\n",
    "print(\"Passangers in 'First Class' was: \",first,\"\\nin 'Second Class' was: \",second,\"\\n& in 'Third Class' was: \",third)"
   ]
  },
  {
   "cell_type": "markdown",
   "id": "1b72add0",
   "metadata": {},
   "source": [
    "### 6. Count of passengers whose name starts with 'S'"
   ]
  },
  {
   "cell_type": "code",
   "execution_count": 12,
   "id": "113342d2",
   "metadata": {},
   "outputs": [
    {
     "name": "stdout",
     "output_type": "stream",
     "text": [
      "There are Total  86 People with name starting with 's'.\n"
     ]
    }
   ],
   "source": [
    "a=0\n",
    "for i in df1['Name']:\n",
    "    if i[0][0]=='S':\n",
    "        #print(i)\n",
    "        a=a+1\n",
    "print(\"There are Total \",a,\"People with name starting with 's'.\")"
   ]
  },
  {
   "cell_type": "markdown",
   "id": "57030a45",
   "metadata": {},
   "source": [
    "### 7. Create new column to add 'SibSp' & 'Parch' columns"
   ]
  },
  {
   "cell_type": "code",
   "execution_count": 13,
   "id": "0c37cd5c",
   "metadata": {},
   "outputs": [
    {
     "data": {
      "text/html": [
       "<div>\n",
       "<style scoped>\n",
       "    .dataframe tbody tr th:only-of-type {\n",
       "        vertical-align: middle;\n",
       "    }\n",
       "\n",
       "    .dataframe tbody tr th {\n",
       "        vertical-align: top;\n",
       "    }\n",
       "\n",
       "    .dataframe thead th {\n",
       "        text-align: right;\n",
       "    }\n",
       "</style>\n",
       "<table border=\"1\" class=\"dataframe\">\n",
       "  <thead>\n",
       "    <tr style=\"text-align: right;\">\n",
       "      <th></th>\n",
       "      <th>PassengerId</th>\n",
       "      <th>Survived</th>\n",
       "      <th>Pclass</th>\n",
       "      <th>Name</th>\n",
       "      <th>Sex</th>\n",
       "      <th>Age</th>\n",
       "      <th>SibSp</th>\n",
       "      <th>Parch</th>\n",
       "      <th>Ticket</th>\n",
       "      <th>Fare</th>\n",
       "      <th>Cabin</th>\n",
       "      <th>Embarked</th>\n",
       "      <th>Sum</th>\n",
       "    </tr>\n",
       "  </thead>\n",
       "  <tbody>\n",
       "    <tr>\n",
       "      <th>0</th>\n",
       "      <td>1</td>\n",
       "      <td>0</td>\n",
       "      <td>3</td>\n",
       "      <td>Braund, Mr. Owen Harris</td>\n",
       "      <td>male</td>\n",
       "      <td>22.0</td>\n",
       "      <td>1</td>\n",
       "      <td>0</td>\n",
       "      <td>A/5 21171</td>\n",
       "      <td>7.2500</td>\n",
       "      <td>NaN</td>\n",
       "      <td>S</td>\n",
       "      <td>1</td>\n",
       "    </tr>\n",
       "    <tr>\n",
       "      <th>1</th>\n",
       "      <td>2</td>\n",
       "      <td>1</td>\n",
       "      <td>1</td>\n",
       "      <td>Cumings, Mrs. John Bradley (Florence Briggs Th...</td>\n",
       "      <td>female</td>\n",
       "      <td>38.0</td>\n",
       "      <td>1</td>\n",
       "      <td>0</td>\n",
       "      <td>PC 17599</td>\n",
       "      <td>71.2833</td>\n",
       "      <td>C85</td>\n",
       "      <td>C</td>\n",
       "      <td>1</td>\n",
       "    </tr>\n",
       "  </tbody>\n",
       "</table>\n",
       "</div>"
      ],
      "text/plain": [
       "   PassengerId  Survived  Pclass  \\\n",
       "0            1         0       3   \n",
       "1            2         1       1   \n",
       "\n",
       "                                                Name     Sex   Age  SibSp  \\\n",
       "0                            Braund, Mr. Owen Harris    male  22.0      1   \n",
       "1  Cumings, Mrs. John Bradley (Florence Briggs Th...  female  38.0      1   \n",
       "\n",
       "   Parch     Ticket     Fare Cabin Embarked  Sum  \n",
       "0      0  A/5 21171   7.2500   NaN        S    1  \n",
       "1      0   PC 17599  71.2833   C85        C    1  "
      ]
     },
     "execution_count": 13,
     "metadata": {},
     "output_type": "execute_result"
    }
   ],
   "source": [
    "df1[\"Sum\"]=df1[\"SibSp\"]+df1[\"Parch\"]\n",
    "df1.head(2)"
   ]
  },
  {
   "cell_type": "markdown",
   "id": "b5aa9e6b",
   "metadata": {},
   "source": [
    "### 8. Count of passengers with age below 25"
   ]
  },
  {
   "cell_type": "code",
   "execution_count": 14,
   "id": "f772e019",
   "metadata": {},
   "outputs": [
    {
     "name": "stdout",
     "output_type": "stream",
     "text": [
      "Number of passangers with Age below 25 were,  278\n"
     ]
    }
   ],
   "source": [
    "ageb25=df1[df1['Age']<25].count()['Age']\n",
    "print(\"Number of passangers with Age below 25 were, \",ageb25)"
   ]
  },
  {
   "cell_type": "markdown",
   "id": "5cc9c7dc",
   "metadata": {},
   "source": [
    "### 9. Cound of died passengers below age 40"
   ]
  },
  {
   "cell_type": "code",
   "execution_count": 15,
   "id": "45cc2faa",
   "metadata": {},
   "outputs": [
    {
     "name": "stdout",
     "output_type": "stream",
     "text": [
      "322 People died whose age was less than 40\n"
     ]
    }
   ],
   "source": [
    "a=df1[df1['Survived']==0]['Age']\n",
    "b=0\n",
    "for i in a:\n",
    "    if i<40:\n",
    "        b=b+1\n",
    "print(b,\"People died whose age was less than 40\")\n",
    "        "
   ]
  },
  {
   "cell_type": "markdown",
   "id": "d58e3b4a",
   "metadata": {},
   "source": [
    "### 10. Separate text and number from \"Cabin\" column"
   ]
  },
  {
   "cell_type": "code",
   "execution_count": 16,
   "id": "d98c0a40",
   "metadata": {},
   "outputs": [],
   "source": [
    "import re"
   ]
  },
  {
   "cell_type": "code",
   "execution_count": 17,
   "id": "e3ed1a32",
   "metadata": {},
   "outputs": [],
   "source": [
    "#Removing 'null' values\n",
    "a=df1[df1['Cabin'].isnull()==False]"
   ]
  },
  {
   "cell_type": "code",
   "execution_count": 18,
   "id": "d2608c88",
   "metadata": {},
   "outputs": [
    {
     "name": "stdout",
     "output_type": "stream",
     "text": [
      "D\n",
      "D\n",
      "T\n",
      "D\n"
     ]
    }
   ],
   "source": [
    "for i in a[\"Cabin\"]:\n",
    "    if len(i)==1:\n",
    "        print(i)"
   ]
  },
  {
   "cell_type": "code",
   "execution_count": 19,
   "id": "32ce7076",
   "metadata": {},
   "outputs": [],
   "source": [
    "#There are some values which looks like \"A27 B25 A15\", Removing blank space from them\n",
    "b=[]\n",
    "for i in a[\"Cabin\"]:\n",
    "    #print(i.split(\" \"))\n",
    "    #if len(i)>4:\n",
    "    b.append(i.split(\" \"))\n",
    "    #if len(i)==1:\n",
    "        #b.append(i)\n",
    "#len(b)\n",
    "#b \n"
   ]
  },
  {
   "cell_type": "code",
   "execution_count": 20,
   "id": "bba5eae2",
   "metadata": {},
   "outputs": [],
   "source": [
    "#There are some invalid values with single character, removing them \n",
    "c=[]\n",
    "for i in b:\n",
    "    if len(i)>1:\n",
    "        c.append(i)\n",
    "    "
   ]
  },
  {
   "cell_type": "code",
   "execution_count": 21,
   "id": "a409e4b9",
   "metadata": {},
   "outputs": [],
   "source": [
    "#there are some nested lists, removing single charaters from them also\n",
    "for i in b:\n",
    "    if len(i)>1:\n",
    "        b.remove(i)\n",
    "        "
   ]
  },
  {
   "cell_type": "code",
   "execution_count": 22,
   "id": "01a03976",
   "metadata": {},
   "outputs": [],
   "source": [
    "#Extracting values from nested list\n",
    "d=[]\n",
    "for i in c:\n",
    "    for j in i:\n",
    "        d.append(j)"
   ]
  },
  {
   "cell_type": "code",
   "execution_count": 23,
   "id": "4f017bb4",
   "metadata": {},
   "outputs": [],
   "source": [
    "\n",
    "for i in b:\n",
    "    for j in i:\n",
    "        d.append(j)\n",
    "        "
   ]
  },
  {
   "cell_type": "code",
   "execution_count": 24,
   "id": "a8328300",
   "metadata": {},
   "outputs": [
    {
     "data": {
      "text/plain": [
       "246"
      ]
     },
     "execution_count": 24,
     "metadata": {},
     "output_type": "execute_result"
    }
   ],
   "source": [
    "len(d)"
   ]
  },
  {
   "cell_type": "code",
   "execution_count": 25,
   "id": "4d90d8ca",
   "metadata": {},
   "outputs": [],
   "source": [
    "for i in d:\n",
    "    if len(i)<=1:\n",
    "        d.remove(i)"
   ]
  },
  {
   "cell_type": "code",
   "execution_count": 26,
   "id": "9b515462",
   "metadata": {},
   "outputs": [],
   "source": [
    "e=[]\n",
    "for i in range(len(d)):\n",
    "    b=re.findall(r'(\\w+?)(\\d+)', d[i])[0] \n",
    "    e.append(b)\n",
    "    \n",
    "    "
   ]
  },
  {
   "cell_type": "code",
   "execution_count": 27,
   "id": "d3e6bd56",
   "metadata": {},
   "outputs": [
    {
     "data": {
      "text/plain": [
       "[('C', '23'),\n",
       " ('C', '25'),\n",
       " ('C', '27'),\n",
       " ('G', '73'),\n",
       " ('C', '23'),\n",
       " ('C', '25'),\n",
       " ('C', '27'),\n",
       " ('D', '10'),\n",
       " ('D', '12'),\n",
       " ('B', '58'),\n",
       " ('B', '60'),\n",
       " ('E', '69'),\n",
       " ('C', '22'),\n",
       " ('C', '26'),\n",
       " ('B', '58'),\n",
       " ('B', '60'),\n",
       " ('C', '22'),\n",
       " ('C', '26'),\n",
       " ('B', '57'),\n",
       " ('B', '59'),\n",
       " ('B', '63'),\n",
       " ('B', '66'),\n",
       " ('C', '23'),\n",
       " ('C', '25'),\n",
       " ('C', '27'),\n",
       " ('B', '96'),\n",
       " ('B', '98'),\n",
       " ('B', '96'),\n",
       " ('B', '98'),\n",
       " ('C', '23'),\n",
       " ('C', '25'),\n",
       " ('C', '27'),\n",
       " ('C', '22'),\n",
       " ('C', '26'),\n",
       " ('B', '51'),\n",
       " ('B', '53'),\n",
       " ('B', '55'),\n",
       " ('G', '63'),\n",
       " ('C', '62'),\n",
       " ('C', '64'),\n",
       " ('G', '73'),\n",
       " ('B', '57'),\n",
       " ('B', '59'),\n",
       " ('B', '63'),\n",
       " ('B', '66'),\n",
       " ('B', '96'),\n",
       " ('B', '98'),\n",
       " ('B', '82'),\n",
       " ('B', '84'),\n",
       " ('B', '96'),\n",
       " ('B', '98'),\n",
       " ('B', '51'),\n",
       " ('B', '53'),\n",
       " ('B', '55'),\n",
       " ('C', '85'),\n",
       " ('C', '123'),\n",
       " ('E', '46'),\n",
       " ('G', '6'),\n",
       " ('C', '103'),\n",
       " ('D', '56'),\n",
       " ('A', '6'),\n",
       " ('B', '78'),\n",
       " ('D', '33'),\n",
       " ('B', '30'),\n",
       " ('C', '52'),\n",
       " ('B', '28'),\n",
       " ('C', '83'),\n",
       " ('F', '33'),\n",
       " ('E', '31'),\n",
       " ('A', '5'),\n",
       " ('D', '26'),\n",
       " ('C', '110'),\n",
       " ('E', '101'),\n",
       " ('D', '26'),\n",
       " ('D', '47'),\n",
       " ('C', '123'),\n",
       " ('B', '86'),\n",
       " ('F', '2'),\n",
       " ('C', '2'),\n",
       " ('E', '33'),\n",
       " ('B', '19'),\n",
       " ('A', '7'),\n",
       " ('C', '49'),\n",
       " ('F', '4'),\n",
       " ('A', '32'),\n",
       " ('F', '2'),\n",
       " ('B', '4'),\n",
       " ('B', '80'),\n",
       " ('G', '6'),\n",
       " ('A', '31'),\n",
       " ('D', '36'),\n",
       " ('D', '15'),\n",
       " ('C', '93'),\n",
       " ('C', '83'),\n",
       " ('C', '78'),\n",
       " ('D', '35'),\n",
       " ('G', '6'),\n",
       " ('C', '87'),\n",
       " ('B', '77'),\n",
       " ('E', '67'),\n",
       " ('B', '94'),\n",
       " ('C', '125'),\n",
       " ('C', '99'),\n",
       " ('C', '118'),\n",
       " ('D', '7'),\n",
       " ('A', '19'),\n",
       " ('B', '49'),\n",
       " ('C', '106'),\n",
       " ('E', '101'),\n",
       " ('C', '65'),\n",
       " ('E', '36'),\n",
       " ('C', '54'),\n",
       " ('C', '7'),\n",
       " ('E', '34'),\n",
       " ('C', '32'),\n",
       " ('B', '18'),\n",
       " ('C', '124'),\n",
       " ('C', '91'),\n",
       " ('C', '2'),\n",
       " ('E', '40'),\n",
       " ('F', '2'),\n",
       " ('C', '23'),\n",
       " ('C', '25'),\n",
       " ('C', '27'),\n",
       " ('F', '33'),\n",
       " ('C', '128'),\n",
       " ('E', '33'),\n",
       " ('D', '37'),\n",
       " ('B', '35'),\n",
       " ('E', '50'),\n",
       " ('C', '82'),\n",
       " ('D', '36'),\n",
       " ('G', '6'),\n",
       " ('C', '78'),\n",
       " ('E', '10'),\n",
       " ('C', '52'),\n",
       " ('E', '44'),\n",
       " ('C', '23'),\n",
       " ('C', '25'),\n",
       " ('C', '27'),\n",
       " ('A', '34'),\n",
       " ('C', '104'),\n",
       " ('C', '111'),\n",
       " ('C', '92'),\n",
       " ('E', '38'),\n",
       " ('D', '21'),\n",
       " ('E', '12'),\n",
       " ('E', '63'),\n",
       " ('A', '14'),\n",
       " ('B', '49'),\n",
       " ('C', '93'),\n",
       " ('B', '37'),\n",
       " ('C', '30'),\n",
       " ('D', '20'),\n",
       " ('B', '79'),\n",
       " ('C', '65'),\n",
       " ('E', '25'),\n",
       " ('D', '46'),\n",
       " ('F', '33'),\n",
       " ('B', '73'),\n",
       " ('B', '18'),\n",
       " ('C', '95'),\n",
       " ('B', '38'),\n",
       " ('B', '39'),\n",
       " ('B', '22'),\n",
       " ('C', '86'),\n",
       " ('C', '70'),\n",
       " ('A', '16'),\n",
       " ('E', '67'),\n",
       " ('C', '101'),\n",
       " ('E', '25'),\n",
       " ('E', '44'),\n",
       " ('C', '68'),\n",
       " ('A', '10'),\n",
       " ('E', '68'),\n",
       " ('B', '41'),\n",
       " ('D', '20'),\n",
       " ('A', '20'),\n",
       " ('C', '125'),\n",
       " ('F', '4'),\n",
       " ('D', '19'),\n",
       " ('D', '50'),\n",
       " ('D', '9'),\n",
       " ('A', '23'),\n",
       " ('B', '50'),\n",
       " ('B', '35'),\n",
       " ('D', '33'),\n",
       " ('A', '26'),\n",
       " ('D', '48'),\n",
       " ('E', '58'),\n",
       " ('C', '126'),\n",
       " ('B', '71'),\n",
       " ('D', '49'),\n",
       " ('B', '5'),\n",
       " ('B', '20'),\n",
       " ('C', '68'),\n",
       " ('C', '62'),\n",
       " ('C', '64'),\n",
       " ('E', '24'),\n",
       " ('E', '24'),\n",
       " ('C', '90'),\n",
       " ('C', '124'),\n",
       " ('C', '126'),\n",
       " ('C', '45'),\n",
       " ('E', '101'),\n",
       " ('E', '8'),\n",
       " ('B', '5'),\n",
       " ('B', '101'),\n",
       " ('D', '45'),\n",
       " ('C', '46'),\n",
       " ('B', '22'),\n",
       " ('D', '30'),\n",
       " ('E', '121'),\n",
       " ('B', '77'),\n",
       " ('D', '11'),\n",
       " ('E', '77'),\n",
       " ('F', '38'),\n",
       " ('B', '3'),\n",
       " ('B', '20'),\n",
       " ('D', '6'),\n",
       " ('D', '17'),\n",
       " ('A', '36'),\n",
       " ('E', '8'),\n",
       " ('B', '102'),\n",
       " ('B', '69'),\n",
       " ('E', '121'),\n",
       " ('B', '28'),\n",
       " ('E', '49'),\n",
       " ('C', '47'),\n",
       " ('C', '92'),\n",
       " ('D', '28'),\n",
       " ('E', '17'),\n",
       " ('D', '17'),\n",
       " ('A', '24'),\n",
       " ('D', '35'),\n",
       " ('C', '50'),\n",
       " ('B', '42'),\n",
       " ('C', '148')]"
      ]
     },
     "execution_count": 27,
     "metadata": {},
     "output_type": "execute_result"
    }
   ],
   "source": [
    "e"
   ]
  },
  {
   "cell_type": "code",
   "execution_count": null,
   "id": "27a2fd40",
   "metadata": {},
   "outputs": [],
   "source": []
  }
 ],
 "metadata": {
  "kernelspec": {
   "display_name": "Python 3 (ipykernel)",
   "language": "python",
   "name": "python3"
  },
  "language_info": {
   "codemirror_mode": {
    "name": "ipython",
    "version": 3
   },
   "file_extension": ".py",
   "mimetype": "text/x-python",
   "name": "python",
   "nbconvert_exporter": "python",
   "pygments_lexer": "ipython3",
   "version": "3.9.7"
  }
 },
 "nbformat": 4,
 "nbformat_minor": 5
}
